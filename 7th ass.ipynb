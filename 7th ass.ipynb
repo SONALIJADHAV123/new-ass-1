{
 "cells": [
  {
   "cell_type": "code",
   "execution_count": 2,
   "id": "c5856705-8546-4a84-91ad-560ee257b246",
   "metadata": {},
   "outputs": [],
   "source": [
    "# que 1"
   ]
  },
  {
   "cell_type": "code",
   "execution_count": 2,
   "id": "f685a7d0-f219-44d8-a8bd-08c41ddc4c85",
   "metadata": {},
   "outputs": [],
   "source": [
    "#The len() function returns the number of items in an object.\n",
    "#When the object is a string, the len() function returns the number of characters in the string.\n",
    "#When you use the len() function to get the length of a string, it returns the number of characters in the string – including the spaces. \n",
    "#This m"
   ]
  },
  {
   "cell_type": "code",
   "execution_count": 146,
   "id": "7cf5e4f0-2090-461a-9908-08ed2917f2f7",
   "metadata": {},
   "outputs": [
    {
     "data": {
      "text/plain": [
       "12"
      ]
     },
     "execution_count": 146,
     "metadata": {},
     "output_type": "execute_result"
    }
   ],
   "source": [
    "D = \"Data Science\"\n",
    "len(D)"
   ]
  },
  {
   "cell_type": "code",
   "execution_count": 3,
   "id": "991d899e-a279-494b-8566-6a9e1d85b211",
   "metadata": {},
   "outputs": [],
   "source": [
    "# que 2"
   ]
  },
  {
   "cell_type": "code",
   "execution_count": 2,
   "id": "05454436-acb4-4c74-9bca-d2a9b849cabe",
   "metadata": {},
   "outputs": [],
   "source": [
    "#Concatenation is the process of appending one string to the end of another string. \n",
    "#You concatenate strings by using the + operator.\n",
    "#For string literals and string constants, concatenation occurs at compile time; no run-time concatenation occurs. \n",
    "#For string variables, concatenation occurs only at run time."
   ]
  },
  {
   "cell_type": "code",
   "execution_count": 24,
   "id": "6f61b1e7-eb47-45cd-af0c-721a63899862",
   "metadata": {},
   "outputs": [
    {
     "data": {
      "text/plain": [
       "'Hii,World'"
      ]
     },
     "execution_count": 24,
     "metadata": {},
     "output_type": "execute_result"
    }
   ],
   "source": [
    "string1 = \"Hii\"\n",
    "string2 = \"World\"\n",
    "string1 +\",\" +string2"
   ]
  },
  {
   "cell_type": "code",
   "execution_count": 25,
   "id": "17033fea-d411-4872-9f94-f63d6844aaed",
   "metadata": {},
   "outputs": [
    {
     "data": {
      "text/plain": [
       "'Hii World'"
      ]
     },
     "execution_count": 25,
     "metadata": {},
     "output_type": "execute_result"
    }
   ],
   "source": [
    "string1 = \"Hii\"\n",
    "string2 = \"World\"\n",
    "string1 +\" \" +string2"
   ]
  },
  {
   "cell_type": "code",
   "execution_count": null,
   "id": "2eba59f3-1dcc-4933-8361-92763eeb6e41",
   "metadata": {},
   "outputs": [
    {
     "data": {
      "text/plain": [
       "'string > concatenation'"
      ]
     },
     "execution_count": 26,
     "metadata": {},
     "output_type": "execute_result"
    }
   ],
   "source": [
    "\"string\"+\" > \"+\"concatenation\""
   ]
  },
  {
   "cell_type": "code",
   "execution_count": 22,
   "id": "39d1a2d7-bcdc-4188-b4f1-698a02139495",
   "metadata": {},
   "outputs": [
    {
     "data": {
      "text/plain": [
       "'HiiWorld'"
      ]
     },
     "execution_count": 22,
     "metadata": {},
     "output_type": "execute_result"
    }
   ],
   "source": [
    "string1 = \"Hii\"\n",
    "string2 = \"World\"\n",
    "string1 + string2"
   ]
  },
  {
   "cell_type": "code",
   "execution_count": 4,
   "id": "fa254ebf-35ff-4852-9d15-58c42d554f01",
   "metadata": {},
   "outputs": [
    {
     "data": {
      "text/plain": [
       "'PWSKILLS'"
      ]
     },
     "execution_count": 4,
     "metadata": {},
     "output_type": "execute_result"
    }
   ],
   "source": [
    "\"PW\"+\"SKILLS\""
   ]
  },
  {
   "cell_type": "code",
   "execution_count": 5,
   "id": "46c98f5e-9bb6-48a1-87d2-2c2dafecaf1a",
   "metadata": {},
   "outputs": [],
   "source": [
    "# que 3"
   ]
  },
  {
   "cell_type": "code",
   "execution_count": 6,
   "id": "ef79c177-3765-4586-b47a-83f59a449d72",
   "metadata": {},
   "outputs": [],
   "source": [
    "#String slicing in Python refers to the process of extracting a portion (substring) of a string by specifying the start and end indices. \n",
    "#It allows you to work with substrings within a larger string, making it easier to manipulate and analyze text data.\n",
    "#Since Python treats strings as a character array, string slicing is a technique in Python \n",
    "#that allows extracting substrings, which is handy when working with long strings"
   ]
  },
  {
   "cell_type": "code",
   "execution_count": 1,
   "id": "9c20077c-4972-409e-b436-1aa8e5c32aa0",
   "metadata": {},
   "outputs": [],
   "source": [
    "#string is a sequence of character"
   ]
  },
  {
   "cell_type": "code",
   "execution_count": 8,
   "id": "72eb1a4b-2ac1-44e2-bf37-6b27fb3ef461",
   "metadata": {},
   "outputs": [],
   "source": [
    "Sentence= \"I am a college student\""
   ]
  },
  {
   "cell_type": "code",
   "execution_count": 9,
   "id": "87efe733-2bba-4c92-98cc-44d6ecf21b98",
   "metadata": {},
   "outputs": [
    {
     "data": {
      "text/plain": [
       "'I'"
      ]
     },
     "execution_count": 9,
     "metadata": {},
     "output_type": "execute_result"
    }
   ],
   "source": [
    "Sentence[0]"
   ]
  },
  {
   "cell_type": "code",
   "execution_count": 10,
   "id": "bdf25f5f-4632-409b-b04a-5efb3e9cf2c6",
   "metadata": {},
   "outputs": [
    {
     "data": {
      "text/plain": [
       "'I am '"
      ]
     },
     "execution_count": 10,
     "metadata": {},
     "output_type": "execute_result"
    }
   ],
   "source": [
    "Sentence[0:5]"
   ]
  },
  {
   "cell_type": "code",
   "execution_count": 11,
   "id": "5bd79a87-5be3-4c80-aeb0-8d12bbebde9b",
   "metadata": {},
   "outputs": [
    {
     "data": {
      "text/plain": [
       "'olleg'"
      ]
     },
     "execution_count": 11,
     "metadata": {},
     "output_type": "execute_result"
    }
   ],
   "source": [
    "Sentence[8:13]"
   ]
  },
  {
   "cell_type": "code",
   "execution_count": 12,
   "id": "7d2147f2-a02f-41ae-970b-9089a02eb877",
   "metadata": {},
   "outputs": [
    {
     "data": {
      "text/plain": [
       "'college student'"
      ]
     },
     "execution_count": 12,
     "metadata": {},
     "output_type": "execute_result"
    }
   ],
   "source": [
    "Sentence[7:]"
   ]
  },
  {
   "cell_type": "code",
   "execution_count": 13,
   "id": "6fbb6fef-9f71-455b-a171-18d64672ce81",
   "metadata": {},
   "outputs": [
    {
     "data": {
      "text/plain": [
       "'t'"
      ]
     },
     "execution_count": 13,
     "metadata": {},
     "output_type": "execute_result"
    }
   ],
   "source": [
    "Sentence[-1]"
   ]
  },
  {
   "cell_type": "code",
   "execution_count": 14,
   "id": "19e0db3b-3c7c-4ad2-8f3d-36b4a581ea9a",
   "metadata": {},
   "outputs": [
    {
     "data": {
      "text/plain": [
       "'u'"
      ]
     },
     "execution_count": 14,
     "metadata": {},
     "output_type": "execute_result"
    }
   ],
   "source": [
    "Sentence[-5]"
   ]
  },
  {
   "cell_type": "code",
   "execution_count": 15,
   "id": "18fc8c51-0343-4fd5-8a7f-e7febf384c7e",
   "metadata": {},
   "outputs": [
    {
     "data": {
      "text/plain": [
       "'I am a college stu'"
      ]
     },
     "execution_count": 15,
     "metadata": {},
     "output_type": "execute_result"
    }
   ],
   "source": [
    "Sentence[:-4] #except last 3 characters"
   ]
  },
  {
   "cell_type": "code",
   "execution_count": 16,
   "id": "8f30501c-790d-40b9-920f-cb2c99f9e51a",
   "metadata": {},
   "outputs": [
    {
     "data": {
      "text/plain": [
       "'dent'"
      ]
     },
     "execution_count": 16,
     "metadata": {},
     "output_type": "execute_result"
    }
   ],
   "source": [
    "Sentence[-4:] #Last 4 characters"
   ]
  },
  {
   "cell_type": "code",
   "execution_count": 17,
   "id": "23429852-8344-499a-95d2-3432b3f2853b",
   "metadata": {},
   "outputs": [],
   "source": [
    "Sentence2=\"SonaliJadhav\""
   ]
  },
  {
   "cell_type": "code",
   "execution_count": 18,
   "id": "a98f8238-b1d7-4552-8b1f-5eb157bb9e64",
   "metadata": {},
   "outputs": [
    {
     "data": {
      "text/plain": [
       "'SonaliJadhav'"
      ]
     },
     "execution_count": 18,
     "metadata": {},
     "output_type": "execute_result"
    }
   ],
   "source": [
    "Sentence2[::1] #step size is by default 1"
   ]
  },
  {
   "cell_type": "code",
   "execution_count": 19,
   "id": "00e9ab75-e8ca-4320-ac31-0a0446947b66",
   "metadata": {},
   "outputs": [
    {
     "data": {
      "text/plain": [
       "'SnlJda'"
      ]
     },
     "execution_count": 19,
     "metadata": {},
     "output_type": "execute_result"
    }
   ],
   "source": [
    "Sentence2[0:11:2]"
   ]
  },
  {
   "cell_type": "code",
   "execution_count": 20,
   "id": "8fe00731-7600-4803-aa4e-c9ecbff6f817",
   "metadata": {},
   "outputs": [
    {
     "data": {
      "text/plain": [
       "'SnlJda'"
      ]
     },
     "execution_count": 20,
     "metadata": {},
     "output_type": "execute_result"
    }
   ],
   "source": [
    "Sentence2[0::2]"
   ]
  },
  {
   "cell_type": "code",
   "execution_count": 21,
   "id": "1764007d-5ddd-43d3-8139-51804087479b",
   "metadata": {},
   "outputs": [
    {
     "data": {
      "text/plain": [
       "'SonaliJadhav'"
      ]
     },
     "execution_count": 21,
     "metadata": {},
     "output_type": "execute_result"
    }
   ],
   "source": [
    "Sentence2[0::]"
   ]
  },
  {
   "cell_type": "code",
   "execution_count": 56,
   "id": "974825b7-57a8-4acc-a25a-06d021b15077",
   "metadata": {},
   "outputs": [
    {
     "data": {
      "text/plain": [
       "'SonaliJadha'"
      ]
     },
     "execution_count": 56,
     "metadata": {},
     "output_type": "execute_result"
    }
   ],
   "source": [
    "Sentence2[:-1]"
   ]
  },
  {
   "cell_type": "code",
   "execution_count": null,
   "id": "8d5e3f1d-12cb-42c9-a359-7be142940af8",
   "metadata": {},
   "outputs": [],
   "source": [
    "# que 4"
   ]
  },
  {
   "cell_type": "code",
   "execution_count": 30,
   "id": "d2c03eb9-50b3-44e4-bcfb-1159196300a4",
   "metadata": {},
   "outputs": [],
   "source": [
    "#upper() method on a string converts all of the characters to uppercase, whereas the lower() method converts all of the characters to lowercase.\n",
    "#>>> s = “Whereof one cannot speak, thereof one must be silent.” >>> s 'Whereof one cannot speak, thereof one must be silent."
   ]
  },
  {
   "cell_type": "code",
   "execution_count": 31,
   "id": "c82c054f-c332-4d71-ab80-3bb921cf609b",
   "metadata": {},
   "outputs": [],
   "source": [
    "a = \" Iphone\""
   ]
  },
  {
   "cell_type": "code",
   "execution_count": 32,
   "id": "1a4d0552-fa86-4a0c-8561-cdc3cc758797",
   "metadata": {},
   "outputs": [
    {
     "data": {
      "text/plain": [
       "' IPHONE'"
      ]
     },
     "execution_count": 32,
     "metadata": {},
     "output_type": "execute_result"
    }
   ],
   "source": [
    "a.upper()"
   ]
  },
  {
   "cell_type": "code",
   "execution_count": 33,
   "id": "4712f9a3-3aef-4b02-ac2f-2175e62458d5",
   "metadata": {},
   "outputs": [
    {
     "data": {
      "text/plain": [
       "' iphone'"
      ]
     },
     "execution_count": 33,
     "metadata": {},
     "output_type": "execute_result"
    }
   ],
   "source": [
    "a.lower()"
   ]
  },
  {
   "cell_type": "code",
   "execution_count": 35,
   "id": "e20dd0c9-dd08-4b11-81af-5fc4f1130511",
   "metadata": {},
   "outputs": [],
   "source": [
    "# que 5"
   ]
  },
  {
   "cell_type": "code",
   "execution_count": 36,
   "id": "f21fb17d-cfc1-4987-a6e8-dc257039787a",
   "metadata": {},
   "outputs": [],
   "source": [
    "#The split() method is the most common way to split a string into a list in Python.\n",
    "#This method splits a string into substrings based on a delimiter and returns a list of these substrings.\n",
    "#In this example, we split the string \"Hello world\" into a list of two elements, \"Hello\" and \"world\" , using the split() method."
   ]
  },
  {
   "cell_type": "code",
   "execution_count": null,
   "id": "afb215ec-4835-4be1-bf1b-966d517e9f5b",
   "metadata": {},
   "outputs": [],
   "source": [
    "#string splitting\n",
    "data = \"sonali, data analyst, manager\""
   ]
  },
  {
   "cell_type": "code",
   "execution_count": 41,
   "id": "1cbe3cb1-938d-4858-a36e-a466614f65e8",
   "metadata": {},
   "outputs": [],
   "source": [
    "Imformation = data.split(',')"
   ]
  },
  {
   "cell_type": "code",
   "execution_count": 45,
   "id": "0b9bb63c-2df5-4cfe-b319-de19545ef6a2",
   "metadata": {},
   "outputs": [
    {
     "data": {
      "text/plain": [
       "['sonali', ' data analyst', ' manager']"
      ]
     },
     "execution_count": 45,
     "metadata": {},
     "output_type": "execute_result"
    }
   ],
   "source": [
    "Imformation"
   ]
  },
  {
   "cell_type": "code",
   "execution_count": 47,
   "id": "a2c7c894-2691-4bb0-bd92-51934183166d",
   "metadata": {},
   "outputs": [],
   "source": [
    "Name = Imformation [0]\n",
    "Profession = Imformation [1]\n",
    "Des = Imformation [2]"
   ]
  },
  {
   "cell_type": "code",
   "execution_count": 48,
   "id": "01621012-2329-400d-9c27-6798e5facd98",
   "metadata": {},
   "outputs": [
    {
     "data": {
      "text/plain": [
       "'sonali'"
      ]
     },
     "execution_count": 48,
     "metadata": {},
     "output_type": "execute_result"
    }
   ],
   "source": [
    "Name"
   ]
  },
  {
   "cell_type": "code",
   "execution_count": 51,
   "id": "e3652034-17b6-4486-94df-df1bc56efc2c",
   "metadata": {},
   "outputs": [
    {
     "data": {
      "text/plain": [
       "'data analyst'"
      ]
     },
     "execution_count": 51,
     "metadata": {},
     "output_type": "execute_result"
    }
   ],
   "source": [
    "Profession.strip()"
   ]
  },
  {
   "cell_type": "code",
   "execution_count": null,
   "id": "51195853-1986-4c18-b4b2-2fdcb594f038",
   "metadata": {},
   "outputs": [
    {
     "data": {
      "text/plain": [
       "'manager'"
      ]
     },
     "execution_count": 52,
     "metadata": {},
     "output_type": "execute_result"
    }
   ],
   "source": [
    "Des.strip()"
   ]
  }
 ],
 "metadata": {
  "kernelspec": {
   "display_name": "Python 3 (ipykernel)",
   "language": "python",
   "name": "python3"
  },
  "language_info": {
   "codemirror_mode": {
    "name": "ipython",
    "version": 3
   },
   "file_extension": ".py",
   "mimetype": "text/x-python",
   "name": "python",
   "nbconvert_exporter": "python",
   "pygments_lexer": "ipython3",
   "version": "3.10.8"
  }
 },
 "nbformat": 4,
 "nbformat_minor": 5
}
