{
 "cells": [
  {
   "cell_type": "code",
   "execution_count": 1,
   "id": "58549638-57f4-4a4a-8d4a-b6f349d64941",
   "metadata": {},
   "outputs": [],
   "source": [
    "import numpy as np"
   ]
  },
  {
   "cell_type": "markdown",
   "id": "eb094849-ac10-4bb7-89d3-aaae59972be9",
   "metadata": {},
   "source": [
    "1. Create a NumPy array 'arr' of integers from 0 to 5 and print its data type."
   ]
  },
  {
   "cell_type": "code",
   "execution_count": null,
   "id": "372bc6f5-2e61-49e6-97d4-72a440b76965",
   "metadata": {},
   "outputs": [],
   "source": [
    "a = [0, 1, 2, 3, 4, 5]\n",
    "arr = np.array(a)"
   ]
  },
  {
   "cell_type": "code",
   "execution_count": 4,
   "id": "dd7d6b79-f3bb-4d66-b0d1-26ebfb8b0027",
   "metadata": {},
   "outputs": [
    {
     "data": {
      "text/plain": [
       "array([0, 1, 2, 3, 4, 5])"
      ]
     },
     "execution_count": 4,
     "metadata": {},
     "output_type": "execute_result"
    }
   ],
   "source": [
    "arr"
   ]
  },
  {
   "cell_type": "code",
   "execution_count": 5,
   "id": "df57543a-aaec-4b11-b89e-c28b26729dee",
   "metadata": {},
   "outputs": [
    {
     "data": {
      "text/plain": [
       "numpy.ndarray"
      ]
     },
     "execution_count": 5,
     "metadata": {},
     "output_type": "execute_result"
    }
   ],
   "source": [
    "type(arr)"
   ]
  },
  {
   "cell_type": "markdown",
   "id": "02669003-ad24-4385-b364-ace57aa03018",
   "metadata": {},
   "source": [
    "2. Given a NumPy array 'arr', check if its data type is float64."
   ]
  },
  {
   "cell_type": "code",
   "execution_count": 6,
   "id": "49329f0f-d922-4807-a25b-d8d6aa680be5",
   "metadata": {},
   "outputs": [
    {
     "name": "stdout",
     "output_type": "stream",
     "text": [
      "The data type of arr is float64.\n"
     ]
    }
   ],
   "source": [
    "arr = np.array([1.5, 2.6, 3.7])\n",
    "\n",
    "if arr.dtype == np.float64:\n",
    "    print(\"The data type of arr is float64.\")\n",
    "else:\n",
    "    print(\"The data type of arr is not float64.\")\n"
   ]
  },
  {
   "cell_type": "markdown",
   "id": "408ac47b-b1e0-4643-aaef-1e703cf86f60",
   "metadata": {},
   "source": [
    "3. Create a NumPy array 'arr' with a data type of complex128 containing three complex numbers."
   ]
  },
  {
   "cell_type": "code",
   "execution_count": 7,
   "id": "e84fb123-a903-407b-a2c5-5d5709416d80",
   "metadata": {},
   "outputs": [
    {
     "name": "stdout",
     "output_type": "stream",
     "text": [
      "[2.+5.j 9.-2.j 3.+4.j]\n"
     ]
    }
   ],
   "source": [
    "arr = np.array([2 + 5j, 9 - 2j, 3 + 4j], dtype=np.complex128)\n",
    "print(arr)"
   ]
  },
  {
   "cell_type": "markdown",
   "id": "709458a2-d848-4c07-affb-1243087b70d5",
   "metadata": {},
   "source": [
    "4. Convert an existing NumPy array 'arr' of integers to float32 data type."
   ]
  },
  {
   "cell_type": "code",
   "execution_count": 8,
   "id": "125e5283-f795-4046-bc51-bddb69f943cb",
   "metadata": {},
   "outputs": [
    {
     "name": "stdout",
     "output_type": "stream",
     "text": [
      "[1. 2. 3. 4. 5.]\n"
     ]
    }
   ],
   "source": [
    "arr = np.array([1, 2, 3, 4, 5])\n",
    "\n",
    "arr_float32 = arr.astype(np.float32)\n",
    "\n",
    "print(arr_float32)"
   ]
  },
  {
   "cell_type": "markdown",
   "id": "bc30dd92-1eca-4a43-9c9a-e3751def96c3",
   "metadata": {},
   "source": [
    "5. Given a NumPy array 'arr' with float64 data type, convert it to float32 to reduce decimal precision."
   ]
  },
  {
   "cell_type": "code",
   "execution_count": 9,
   "id": "c08ff063-81d5-4c94-ab41-fbc29de792fc",
   "metadata": {},
   "outputs": [
    {
     "name": "stdout",
     "output_type": "stream",
     "text": [
      "[1.5 2.6 3.7]\n"
     ]
    }
   ],
   "source": [
    "arr = np.array([1.5, 2.6, 3.7], dtype=np.float64)\n",
    "arr_float32 = arr.astype(np.float32)\n",
    "print(arr_float32)"
   ]
  },
  {
   "cell_type": "markdown",
   "id": "3ffc7cbd-e2f7-4404-b260-f2eaf995e8da",
   "metadata": {},
   "source": [
    "6. Write a function array_attributes that takes a NumPy array as input and returns its shape, size, and data type."
   ]
  },
  {
   "cell_type": "code",
   "execution_count": 10,
   "id": "661e4261-023d-4dfe-984e-d1ebc729f9eb",
   "metadata": {},
   "outputs": [
    {
     "name": "stdout",
     "output_type": "stream",
     "text": [
      "Shape: (2, 3)\n",
      "Size: 6\n",
      "Data Type: int64\n"
     ]
    }
   ],
   "source": [
    "def array_attributes(arr):\n",
    "    shape = arr.shape\n",
    "    size = arr.size\n",
    "    dtype = arr.dtype\n",
    "    return shape, size, dtype\n",
    "\n",
    "\n",
    "my_array = np.array([[1, 2, 3], [4, 5, 6]])\n",
    "\n",
    "\n",
    "shape, size, dtype = array_attributes(my_array)\n",
    "\n",
    "print(\"Shape:\", shape)\n",
    "print(\"Size:\", size)\n",
    "print(\"Data Type:\", dtype)"
   ]
  },
  {
   "cell_type": "markdown",
   "id": "23947847-15c5-4e67-8aba-259f52edb926",
   "metadata": {},
   "source": [
    "7. Create a function array_dimension that takes a NumPy array as input and returns its dimensionality."
   ]
  },
  {
   "cell_type": "code",
   "execution_count": 11,
   "id": "3d668016-f5ba-41a7-a9eb-a23b21c5ff18",
   "metadata": {},
   "outputs": [
    {
     "name": "stdout",
     "output_type": "stream",
     "text": [
      "Dimensionality of arr_1d: 1\n",
      "Dimensionality of arr_2d: 2\n",
      "Dimensionality of arr_3d: 3\n"
     ]
    }
   ],
   "source": [
    "def array_dimension(arr):\n",
    "    return arr.ndim\n",
    "arr_1d = np.array([1, 2, 3, 4, 5])\n",
    "arr_2d = np.array([[1, 2], [3, 4]])\n",
    "arr_3d = np.array([[[1, 2], [3, 4]], [[5, 6], [7, 8]]])\n",
    "\n",
    "\n",
    "dim_1d = array_dimension(arr_1d)\n",
    "dim_2d = array_dimension(arr_2d)\n",
    "dim_3d = array_dimension(arr_3d)\n",
    "\n",
    "print(\"Dimensionality of arr_1d:\", dim_1d)\n",
    "print(\"Dimensionality of arr_2d:\", dim_2d)\n",
    "print(\"Dimensionality of arr_3d:\", dim_3d)\n"
   ]
  },
  {
   "cell_type": "markdown",
   "id": "9c884943-06d6-46c0-8972-201bbc0b8480",
   "metadata": {},
   "source": [
    "8. Design a function item_size_info that takes a NumPy array as input and returns the item size and the total size in bytes."
   ]
  },
  {
   "cell_type": "code",
   "execution_count": 12,
   "id": "6dc19425-7104-4dce-a392-392b45e1d282",
   "metadata": {},
   "outputs": [
    {
     "name": "stdout",
     "output_type": "stream",
     "text": [
      "Item Size (bytes per element): 8\n",
      "Total Size (bytes): 48\n"
     ]
    }
   ],
   "source": [
    "def item_size_info(arr):\n",
    "   \n",
    "    item_size = arr.itemsize\n",
    "    total_size = arr.nbytes\n",
    "    return item_size, total_size\n",
    "\n",
    "my_array = np.array([[1, 2, 3], [4, 5, 6]])\n",
    "\n",
    "item_size, total_size = item_size_info(my_array)\n",
    "\n",
    "print(\"Item Size (bytes per element):\", item_size)\n",
    "print(\"Total Size (bytes):\", total_size)\n"
   ]
  },
  {
   "cell_type": "markdown",
   "id": "6a6656ee-baba-4c2c-b4ac-086b18786222",
   "metadata": {},
   "source": [
    "9. Create a function array_strides that takes a NumPy array as input and returns the strides of the array."
   ]
  },
  {
   "cell_type": "code",
   "execution_count": 13,
   "id": "cdb1b5a5-cea8-4baa-bc58-c8d14ef9d973",
   "metadata": {},
   "outputs": [
    {
     "name": "stdout",
     "output_type": "stream",
     "text": [
      "Strides: (24, 8)\n"
     ]
    }
   ],
   "source": [
    "import numpy as np\n",
    "\n",
    "def array_strides(arr):\n",
    "    return arr.strides\n",
    "\n",
    "my_array = np.array([[1, 2, 3], [4, 5, 6]])\n",
    "\n",
    "strides = array_strides(my_array)\n",
    "\n",
    "print(\"Strides:\", strides)\n"
   ]
  },
  {
   "cell_type": "markdown",
   "id": "b0589b0d-7628-4a35-8607-b7423bc41ca3",
   "metadata": {},
   "source": [
    "10. Design a function shape_stride_relationship that takes a NumPy array as input and returns the shape and strides of the array."
   ]
  },
  {
   "cell_type": "code",
   "execution_count": 14,
   "id": "7d02309c-dc3c-4ae3-9708-ee79469eb083",
   "metadata": {},
   "outputs": [
    {
     "name": "stdout",
     "output_type": "stream",
     "text": [
      "Shape: (2, 3)\n",
      "Strides: (24, 8)\n"
     ]
    }
   ],
   "source": [
    "import numpy as np\n",
    "\n",
    "def shape_stride_relationship(arr):\n",
    "    \n",
    "    shape = arr.shape\n",
    "    strides = arr.strides\n",
    "    return shape, strides\n",
    "\n",
    "my_array = np.array([[1, 2, 3], [4, 5, 6]])\n",
    "\n",
    "print(\"Shape:\", shape)\n",
    "print(\"Strides:\", strides)\n"
   ]
  },
  {
   "cell_type": "markdown",
   "id": "3fc5e62c-99d2-443d-8e48-be431737366a",
   "metadata": {},
   "source": [
    "11. Create a function create_zeros_array that takes an integer 'n' as input and returns a NumPy array of zeros with 'n' elements."
   ]
  },
  {
   "cell_type": "code",
   "execution_count": 15,
   "id": "449e2d2b-c1ed-4e4a-8dc2-41f8406a4892",
   "metadata": {},
   "outputs": [
    {
     "name": "stdout",
     "output_type": "stream",
     "text": [
      "Zeros Array: [0. 0. 0. 0. 0.]\n"
     ]
    }
   ],
   "source": [
    "import numpy as np\n",
    "\n",
    "def create_zeros_array(n):\n",
    "    return np.zeros(n)\n",
    "\n",
    "zeros_array = create_zeros_array(5)\n",
    "print(\"Zeros Array:\", zeros_array)\n"
   ]
  },
  {
   "cell_type": "markdown",
   "id": "27127b5a-0b88-415d-8784-1a953769a67a",
   "metadata": {},
   "source": [
    "12. Write a function create ones_matrix' that takes integers 'rows' and 'cols' as inputs and generates a 2D NumPy array filled with ones of size 'rows x cols'."
   ]
  },
  {
   "cell_type": "code",
   "execution_count": 16,
   "id": "4c1df1d7-8218-4a6d-8332-12178b16a22d",
   "metadata": {},
   "outputs": [
    {
     "name": "stdout",
     "output_type": "stream",
     "text": [
      "[[1. 1. 1. 1.]\n",
      " [1. 1. 1. 1.]\n",
      " [1. 1. 1. 1.]]\n"
     ]
    }
   ],
   "source": [
    "import numpy as np\n",
    "\n",
    "def create_ones_matrix(rows, cols):\n",
    "    return np.ones((rows, cols))\n",
    "\n",
    "ones_matrix = create_ones_matrix(3, 4)\n",
    "\n",
    "print(ones_matrix)\n"
   ]
  },
  {
   "cell_type": "markdown",
   "id": "bb09b5dc-17dd-4312-8e94-273f2309d1f3",
   "metadata": {},
   "source": [
    "13. Write a function generate_range_array' that takes three integers start, stop, and step as arguments and creates a NumPy array with a range starting from 'start', ending at stop (exclusive), and with the specified step."
   ]
  },
  {
   "cell_type": "code",
   "execution_count": 17,
   "id": "8e5cbba3-83fa-40ca-b837-19afe92fb770",
   "metadata": {},
   "outputs": [
    {
     "name": "stdout",
     "output_type": "stream",
     "text": [
      "Range Array: [0 2 4 6 8]\n"
     ]
    }
   ],
   "source": [
    "import numpy as np\n",
    "\n",
    "def generate_range_array(start, stop, step):\n",
    "   \n",
    "    return np.arange(start, stop, step)\n",
    "\n",
    "range_array = generate_range_array(0, 10, 2)\n",
    "print(\"Range Array:\", range_array)\n"
   ]
  },
  {
   "cell_type": "markdown",
   "id": "6ea5cf0c-5704-4c8e-b761-3104fe4a29e5",
   "metadata": {},
   "source": [
    "14. Design a function 'generate_linear_space that takes two floats 'start', 'stop', and an integer 'num'as arguments and generates a NumPy array with num equally spaced values between 'start' and 'stop' (inclusive)."
   ]
  },
  {
   "cell_type": "code",
   "execution_count": 18,
   "id": "17b9aa3b-8254-4441-a110-03b2ec69460a",
   "metadata": {},
   "outputs": [
    {
     "name": "stdout",
     "output_type": "stream",
     "text": [
      "Linear Space Array: [ 0.   2.5  5.   7.5 10. ]\n"
     ]
    }
   ],
   "source": [
    "import numpy as np\n",
    "\n",
    "def generate_linear_space(start, stop, num):\n",
    "   \n",
    "    return np.linspace(start, stop, num)\n",
    "\n",
    "linear_space_array = generate_linear_space(0, 10, 5)\n",
    "print(\"Linear Space Array:\", linear_space_array)\n"
   ]
  },
  {
   "cell_type": "markdown",
   "id": "f89bcc23-669e-4834-b595-58a38f100988",
   "metadata": {},
   "source": [
    "15. Create a function create_identity_matrix' that takes an integer 'n' as input and generates a square identity matrix of size 'n x n' using 'numpy.eye."
   ]
  },
  {
   "cell_type": "code",
   "execution_count": 19,
   "id": "6262e1f7-9f76-495f-859e-2aee7374cccf",
   "metadata": {},
   "outputs": [
    {
     "name": "stdout",
     "output_type": "stream",
     "text": [
      "Identity Matrix:\n",
      "[[1. 0. 0.]\n",
      " [0. 1. 0.]\n",
      " [0. 0. 1.]]\n"
     ]
    }
   ],
   "source": [
    "import numpy as np\n",
    "\n",
    "def create_identity_matrix(n):\n",
    "   \n",
    "    return np.eye(n)\n",
    "\n",
    "identity_matrix = create_identity_matrix(3)\n",
    "print(\"Identity Matrix:\")\n",
    "print(identity_matrix)\n"
   ]
  },
  {
   "cell_type": "markdown",
   "id": "2941345f-435b-455d-b870-59ec11d8accf",
   "metadata": {},
   "source": [
    "16. Write a function that takes a Python list and converts it into a NumPy array."
   ]
  },
  {
   "cell_type": "code",
   "execution_count": 20,
   "id": "80b2f508-d0c5-44fa-9fc9-d1943e1536ef",
   "metadata": {},
   "outputs": [
    {
     "name": "stdout",
     "output_type": "stream",
     "text": [
      "NumPy Array: [1 2 3 4 5]\n"
     ]
    }
   ],
   "source": [
    "def list_to_numpy_array(py_list):\n",
    "    \n",
    "    return np.array(py_list)\n",
    "\n",
    "my_list = [1, 2, 3, 4, 5]\n",
    "\n",
    "numpy_array = list_to_numpy_array(my_list)\n",
    "print(\"NumPy Array:\", numpy_array)"
   ]
  },
  {
   "cell_type": "markdown",
   "id": "ef23c982-a227-4b62-8601-ef8f19ba9b13",
   "metadata": {},
   "source": [
    "17. Create a NumPy array and demonstrate the use of numpy.view' to create a new array object with the same data"
   ]
  },
  {
   "cell_type": "code",
   "execution_count": 21,
   "id": "b42a5db5-e942-4493-86a5-0290e7db3cd7",
   "metadata": {},
   "outputs": [
    {
     "name": "stdout",
     "output_type": "stream",
     "text": [
      "Original Array: [100   2   3   4   5]\n",
      "View Array: [100   2   3   4   5]\n"
     ]
    }
   ],
   "source": [
    "original_array = np.array([1, 2, 3, 4, 5])\n",
    "\n",
    "view_array = original_array.view()\n",
    "\n",
    "view_array[0] = 100\n",
    "\n",
    "print(\"Original Array:\", original_array)\n",
    "print(\"View Array:\", view_array)\n"
   ]
  },
  {
   "cell_type": "markdown",
   "id": "15d2c7d3-635d-4088-9b78-189c7180db42",
   "metadata": {},
   "source": [
    "18. Write a function that takes two NumPy arrays and concatenates them along a specified axis."
   ]
  },
  {
   "cell_type": "code",
   "execution_count": 22,
   "id": "752a2b24-1ee3-4e4c-a018-6ec7fc5a8ff9",
   "metadata": {},
   "outputs": [
    {
     "name": "stdout",
     "output_type": "stream",
     "text": [
      "[[ 1  2  3]\n",
      " [ 4  5  6]\n",
      " [ 7  8  9]\n",
      " [10 11 12]]\n",
      "[[ 1  2  3  7  8  9]\n",
      " [ 4  5  6 10 11 12]]\n"
     ]
    }
   ],
   "source": [
    "import numpy as np\n",
    "\n",
    "def concatenate_arrays(arr1, arr2, axis=0):\n",
    "   \n",
    "    return np.concatenate((arr1, arr2), axis=axis)\n",
    "\n",
    "\n",
    "array1 = np.array([[1, 2, 3], [4, 5, 6]])\n",
    "array2 = np.array([[7, 8, 9], [10, 11, 12]])\n",
    "\n",
    "\n",
    "concatenated_array = concatenate_arrays(array1, array2, axis=0)\n",
    "print(concatenated_array)\n",
    "\n",
    "concatenated_array_axis_1 = concatenate_arrays(array1, array2, axis=1)\n",
    "print(concatenated_array_axis_1)\n"
   ]
  },
  {
   "cell_type": "markdown",
   "id": "34969f7f-07bd-4011-a484-1743423843fd",
   "metadata": {},
   "source": [
    "19. Create two NumPy arrays with different shapes and concatenate them horizontally using 'numpy. concatenate"
   ]
  },
  {
   "cell_type": "code",
   "execution_count": 23,
   "id": "88c27785-e210-4313-a80a-496ab81d4f96",
   "metadata": {},
   "outputs": [
    {
     "name": "stdout",
     "output_type": "stream",
     "text": [
      "[[1 2 3]\n",
      " [4 5 6]]\n",
      "[[ 7  8]\n",
      " [ 9 10]]\n",
      "[[ 1  2  3  7  8]\n",
      " [ 4  5  6  9 10]]\n"
     ]
    }
   ],
   "source": [
    "array1 = np.array([[1, 2, 3], [4, 5, 6]])  \n",
    "array2 = np.array([[7, 8], [9, 10]])       \n",
    "\n",
    "concatenated_array = np.concatenate((array1, array2), axis=1)\n",
    "\n",
    "print(array1)\n",
    "print(array2)\n",
    "print(concatenated_array)\n"
   ]
  },
  {
   "cell_type": "markdown",
   "id": "97b70d00-1c8c-402a-9f38-02e42d54528b",
   "metadata": {},
   "source": [
    "20. Write a function that vertically stacks multiple NumPy arrays given as a list."
   ]
  },
  {
   "cell_type": "code",
   "execution_count": 24,
   "id": "d89050aa-d57f-4ab7-aa43-c0ce7b388490",
   "metadata": {},
   "outputs": [
    {
     "name": "stdout",
     "output_type": "stream",
     "text": [
      "[[1 2 3]\n",
      " [4 5 6]]\n",
      "[[ 7  8  9]\n",
      " [10 11 12]]\n",
      "[[13 14 15]\n",
      " [16 17 18]]\n",
      "[[ 1  2  3]\n",
      " [ 4  5  6]\n",
      " [ 7  8  9]\n",
      " [10 11 12]\n",
      " [13 14 15]\n",
      " [16 17 18]]\n"
     ]
    }
   ],
   "source": [
    "import numpy as np\n",
    "\n",
    "def stack_arrays_vertically(arrays):\n",
    "    return np.vstack(arrays)\n",
    "\n",
    "array1 = np.array([[1, 2, 3], [4, 5, 6]])\n",
    "array2 = np.array([[7, 8, 9], [10, 11, 12]])\n",
    "array3 = np.array([[13, 14, 15], [16, 17, 18]])\n",
    "\n",
    "# Vertically stack the arrays\n",
    "stacked_array = stack_arrays_vertically([array1, array2, array3])\n",
    "\n",
    "\n",
    "print(array1)\n",
    "print(array2)\n",
    "print(array3)\n",
    "print(stacked_array)\n"
   ]
  },
  {
   "cell_type": "markdown",
   "id": "ff8e2661-339f-48bb-832c-ee9190dd5379",
   "metadata": {},
   "source": [
    "21. Write a Python function using NumPy to create an array of integers within a specified range (inclusive) with a given step size."
   ]
  },
  {
   "cell_type": "code",
   "execution_count": 25,
   "id": "e39e421b-4212-41ec-af3e-ddbb1157bb29",
   "metadata": {},
   "outputs": [
    {
     "name": "stdout",
     "output_type": "stream",
     "text": [
      "Integer Range Array: [ 0  2  4  6  8 10]\n"
     ]
    }
   ],
   "source": [
    "import numpy as np\n",
    "\n",
    "def create_integer_range_array(start, stop, step):\n",
    "    \n",
    "    return np.arange(start, stop + 1, step, dtype=int)\n",
    "\n",
    "\n",
    "integer_range_array = create_integer_range_array(0, 10, 2)\n",
    "print(\"Integer Range Array:\", integer_range_array)\n"
   ]
  },
  {
   "cell_type": "markdown",
   "id": "f677241f-ea45-4d81-900d-f8b4fb8618e0",
   "metadata": {},
   "source": [
    "22. Write a Python function using NumPy to generate an array of 10 equally spaced values between 0 and 1 (Inclusive)."
   ]
  },
  {
   "cell_type": "code",
   "execution_count": 26,
   "id": "42b26fc7-30f6-4f1a-b377-5424725693ec",
   "metadata": {},
   "outputs": [
    {
     "name": "stdout",
     "output_type": "stream",
     "text": [
      "[0.         0.11111111 0.22222222 0.33333333 0.44444444 0.55555556\n",
      " 0.66666667 0.77777778 0.88888889 1.        ]\n"
     ]
    }
   ],
   "source": [
    "import numpy as np\n",
    "\n",
    "def generate_equally_spaced_values():\n",
    "    return np.linspace(0, 1, 10)\n",
    "\n",
    "equally_spaced_values = generate_equally_spaced_values()\n",
    "print(equally_spaced_values)\n"
   ]
  },
  {
   "cell_type": "markdown",
   "id": "5968767d-c413-42e8-a780-118b2eb7e0b4",
   "metadata": {},
   "source": [
    "23. Write a Python function using NumPy to create an array of 5 logarithmically spaced values between 1 and 1000 (inclusive)."
   ]
  },
  {
   "cell_type": "code",
   "execution_count": 27,
   "id": "cfdb2aea-a1f1-4601-ab66-5a106883d0a5",
   "metadata": {},
   "outputs": [
    {
     "name": "stdout",
     "output_type": "stream",
     "text": [
      "Logarithmically Spaced Values between 1 and 1000:\n",
      "[   1.            5.62341325   31.6227766   177.827941   1000.        ]\n"
     ]
    }
   ],
   "source": [
    "import numpy as np\n",
    "\n",
    "def generate_logarithmically_spaced_values():\n",
    "    return np.logspace(0, 3, num=5)\n",
    "\n",
    "# Example usage:\n",
    "logarithmically_spaced_values = generate_logarithmically_spaced_values()\n",
    "print(\"Logarithmically Spaced Values between 1 and 1000:\")\n",
    "print(logarithmically_spaced_values)\n"
   ]
  },
  {
   "cell_type": "markdown",
   "id": "62384206-2fb3-438b-80bb-b05d1776c963",
   "metadata": {},
   "source": [
    "24. Create a Pandas DataFrame using a NumPy array that contains 5 rows and 3 columns, where the values are random integers between 1 and 100."
   ]
  },
  {
   "cell_type": "code",
   "execution_count": 28,
   "id": "e206499b-4062-4440-b001-e5c402075b90",
   "metadata": {},
   "outputs": [
    {
     "name": "stdout",
     "output_type": "stream",
     "text": [
      "   Column1  Column2  Column3\n",
      "0        3        9       70\n",
      "1       16       23       36\n",
      "2       97       93       24\n",
      "3       57       23       83\n",
      "4       24       68       36\n"
     ]
    }
   ],
   "source": [
    "import pandas as pd\n",
    "data = np.random.randint(1, 101, size=(5, 3))\n",
    "df = pd.DataFrame(data, columns=['Column1', 'Column2', 'Column3'])\n",
    "print(df)"
   ]
  },
  {
   "cell_type": "markdown",
   "id": "ffac7b68-f357-4410-b5a6-a0137a4a7040",
   "metadata": {},
   "source": [
    "25. Write a function that takes a Pandas DataFrame and replaces all negative values in a specific column with zeros. Use NumPy operations within the Pandas DataFrame."
   ]
  },
  {
   "cell_type": "code",
   "execution_count": 29,
   "id": "c6c23eae-5148-4640-8e5a-48ab7eb5a822",
   "metadata": {},
   "outputs": [
    {
     "name": "stdout",
     "output_type": "stream",
     "text": [
      "   A   B\n",
      "0  0  10\n",
      "1  2 -20\n",
      "2  0  30\n",
      "3  4 -40\n",
      "4  0  50\n",
      "   A   B\n",
      "0  0  10\n",
      "1  2 -20\n",
      "2  0  30\n",
      "3  4 -40\n",
      "4  0  50\n"
     ]
    }
   ],
   "source": [
    "def replace_negatives_with_zeros(df, column_name):\n",
    "    df[column_name] = np.where(df[column_name] < 0, 0, df[column_name])\n",
    "    return df\n",
    "data = {'A': [-1, 2, -3, 4, -5],\n",
    "        'B': [10, -20, 30, -40, 50]}\n",
    "df = pd.DataFrame(data)\n",
    "df_modified = replace_negatives_with_zeros(df, 'A')\n",
    "print(df)\n",
    "print(df_modified)\n"
   ]
  },
  {
   "cell_type": "markdown",
   "id": "872b94ec-04a1-43f7-847d-2cc5098ae448",
   "metadata": {},
   "source": [
    "26. Access the 3rd element from the given NumPy array.\n",
    "arr np.array([10, 20, 30, 48, 50])"
   ]
  },
  {
   "cell_type": "code",
   "execution_count": 30,
   "id": "59588bce-7377-4e56-bcdd-73b559fde4aa",
   "metadata": {},
   "outputs": [
    {
     "name": "stdout",
     "output_type": "stream",
     "text": [
      "The 3rd element of the array: 30\n"
     ]
    }
   ],
   "source": [
    "arr = np.array([10, 20, 30, 48, 50])\n",
    "third_element = arr[2]\n",
    "print(\"The 3rd element of the array:\", third_element)"
   ]
  },
  {
   "cell_type": "markdown",
   "id": "e1f522a1-af26-4008-808b-5fad28bcad0c",
   "metadata": {},
   "source": [
    "27. Retrieve the element at index (1, 2) from the 2D NumPy array.\n",
    "arr_2d np.array([[1, 2, 3], [4, 5, 6], [7, 8, 9]])"
   ]
  },
  {
   "cell_type": "code",
   "execution_count": 31,
   "id": "dc0eead3-4d11-436a-b1f8-29bd4c01aa64",
   "metadata": {},
   "outputs": [
    {
     "name": "stdout",
     "output_type": "stream",
     "text": [
      "The element at index (1, 2) from the 2D array: 6\n"
     ]
    }
   ],
   "source": [
    "arr_2d = np.array([[1, 2, 3], [4, 5, 6], [7, 8, 9]])\n",
    "element_at_index_1_2 = arr_2d[1, 2]\n",
    "print(\"The element at index (1, 2) from the 2D array:\", element_at_index_1_2)"
   ]
  },
  {
   "cell_type": "markdown",
   "id": "6810a88e-1d35-401f-bf7b-79e2a1fbdaa2",
   "metadata": {},
   "source": [
    "28. Using boolean indexing, extract elements greater than 5 from the given NumPy array.\n",
    "arr np.array([3, 8, 2, 10, 5, 7])"
   ]
  },
  {
   "cell_type": "code",
   "execution_count": 32,
   "id": "a66d3062-5050-43e8-9edc-09d81ad395be",
   "metadata": {},
   "outputs": [
    {
     "name": "stdout",
     "output_type": "stream",
     "text": [
      "Elements greater than 5: [ 8 10  7]\n"
     ]
    }
   ],
   "source": [
    "arr = np.array([3, 8, 2, 10, 5, 7])\n",
    "mask = arr > 5\n",
    "elements_greater_than_5 = arr[mask]\n",
    "print(\"Elements greater than 5:\", elements_greater_than_5)"
   ]
  },
  {
   "cell_type": "markdown",
   "id": "c133d604-0e9b-4a88-b7c3-90d90247c6d2",
   "metadata": {},
   "source": [
    "29. Perform basic slicing to extract elements from index 2 to 5 (inclusive) from the given NumPy array.\n",
    "arr np.array([1, 2, 3, 4, 5, 6, 7, 8, 9])"
   ]
  },
  {
   "cell_type": "code",
   "execution_count": 33,
   "id": "58e87ba7-bf88-4ae3-8008-030f334d83f3",
   "metadata": {},
   "outputs": [
    {
     "name": "stdout",
     "output_type": "stream",
     "text": [
      "Sliced array: [3 4 5 6]\n"
     ]
    }
   ],
   "source": [
    "import numpy as np\n",
    "\n",
    "arr = np.array([1, 2, 3, 4, 5, 6, 7, 8, 9])\n",
    "\n",
    "sliced_arr = arr[2:6]\n",
    "\n",
    "print(\"Sliced array:\", sliced_arr)\n"
   ]
  },
  {
   "cell_type": "markdown",
   "id": "41a70bdb-5e87-4384-9def-f1c2f9082496",
   "metadata": {},
   "source": [
    "30. Slice the 2D NumPy array to extract the sub-array [[2, 3], [5, 6]] from the given array.\n",
    "arr_2d np.array([[1, 2, 3], [4, 5, 6], [7, 8, 9]])"
   ]
  },
  {
   "cell_type": "code",
   "execution_count": 34,
   "id": "8004531d-20f1-4ffd-88fd-02fd6cbddc25",
   "metadata": {},
   "outputs": [
    {
     "name": "stdout",
     "output_type": "stream",
     "text": [
      "Sub-array:\n",
      "[[2 3]\n",
      " [5 6]]\n"
     ]
    }
   ],
   "source": [
    "arr_2d = np.array([[1, 2, 3], [4, 5, 6], [7, 8, 9]])\n",
    "\n",
    "sub_array = arr_2d[0:2, 1:3]\n",
    "\n",
    "print(\"Sub-array:\")\n",
    "print(sub_array)\n"
   ]
  },
  {
   "cell_type": "markdown",
   "id": "387baf71-6173-41cf-a325-80eba71c4661",
   "metadata": {},
   "source": [
    "31. Write a NumPy function to extract elements in specific order from a given 2D array based on indices provided in another array."
   ]
  },
  {
   "cell_type": "code",
   "execution_count": 35,
   "id": "91745cda-b3be-4327-89e8-44e990e33330",
   "metadata": {},
   "outputs": [
    {
     "name": "stdout",
     "output_type": "stream",
     "text": [
      "[2 6 9]\n"
     ]
    }
   ],
   "source": [
    "\n",
    "def extract_elements(arr, indices):\n",
    "    indices = np.array(indices)\n",
    "    indices = indices[(indices >= 0) & (indices < arr.size)]\n",
    "    return arr.flatten()[indices]\n",
    "\n",
    "arr = np.array([[1, 2, 3],\n",
    "                [4, 5, 6],\n",
    "                [7, 8, 9]])\n",
    "\n",
    "indices = [1, 5, 8]\n",
    "\n",
    "result = extract_elements(arr, indices)\n",
    "print(result)\n"
   ]
  },
  {
   "cell_type": "markdown",
   "id": "ba3f88ed-30a6-4177-9c39-cf4708cc5223",
   "metadata": {},
   "source": [
    "32. Create a NumPy function that filters elements greater than a threshold from a given ID array using boolean indexing."
   ]
  },
  {
   "cell_type": "code",
   "execution_count": 36,
   "id": "a2a0d9a8-c498-4b4e-9d41-03b0131314a2",
   "metadata": {},
   "outputs": [
    {
     "ename": "NameError",
     "evalue": "name 'filtered_ids' is not defined",
     "output_type": "error",
     "traceback": [
      "\u001b[0;31m---------------------------------------------------------------------------\u001b[0m",
      "\u001b[0;31mNameError\u001b[0m                                 Traceback (most recent call last)",
      "Cell \u001b[0;32mIn[36], line 6\u001b[0m\n\u001b[1;32m      4\u001b[0m ids \u001b[38;5;241m=\u001b[39m np\u001b[38;5;241m.\u001b[39marray([\u001b[38;5;241m1\u001b[39m, \u001b[38;5;241m5\u001b[39m, \u001b[38;5;241m10\u001b[39m, \u001b[38;5;241m15\u001b[39m, \u001b[38;5;241m20\u001b[39m])\n\u001b[1;32m      5\u001b[0m threshold \u001b[38;5;241m=\u001b[39m \u001b[38;5;241m10\u001b[39m\n\u001b[0;32m----> 6\u001b[0m filtered_ids \u001b[38;5;241m=\u001b[39m \u001b[43mfilter_ids\u001b[49m\u001b[43m(\u001b[49m\u001b[43mids\u001b[49m\u001b[43m,\u001b[49m\u001b[43m \u001b[49m\u001b[43mthreshold\u001b[49m\u001b[43m)\u001b[49m\n\u001b[1;32m      7\u001b[0m \u001b[38;5;28mprint\u001b[39m(filtered_ids)\n",
      "Cell \u001b[0;32mIn[36], line 3\u001b[0m, in \u001b[0;36mfilter_ids\u001b[0;34m(arr, threshold)\u001b[0m\n\u001b[1;32m      1\u001b[0m \u001b[38;5;28;01mdef\u001b[39;00m \u001b[38;5;21mfilter_ids\u001b[39m(arr, threshold):\n\u001b[1;32m      2\u001b[0m     mask \u001b[38;5;241m=\u001b[39m arr \u001b[38;5;241m>\u001b[39m threshold\n\u001b[0;32m----> 3\u001b[0m     \u001b[38;5;28;01mreturn\u001b[39;00m \u001b[43mfiltered_ids\u001b[49m\n",
      "\u001b[0;31mNameError\u001b[0m: name 'filtered_ids' is not defined"
     ]
    }
   ],
   "source": [
    "def filter_ids(arr, threshold):\n",
    "    mask = arr > threshold\n",
    "    return filtered_ids\n",
    "ids = np.array([1, 5, 10, 15, 20])\n",
    "threshold = 10\n",
    "filtered_ids = filter_ids(ids, threshold)\n",
    "print(filtered_ids)\n"
   ]
  },
  {
   "cell_type": "markdown",
   "id": "6e98a28b-8e01-420e-8174-da3f6ec73da9",
   "metadata": {},
   "source": [
    "33. Develop a NumPy function that extracts specific elements from a 3D array using indices provided in three separate arrays for each dimension."
   ]
  },
  {
   "cell_type": "code",
   "execution_count": null,
   "id": "15aec0f6-bfad-42dd-bf52-6160861c1227",
   "metadata": {},
   "outputs": [],
   "source": [
    "def extract_elements_3d(arr, indices_dim1, indices_dim2, indices_dim3):\n",
    "    \n",
    "    indices_dim1 = np.array(indices_dim1)\n",
    "    indices_dim2 = np.array(indices_dim2)\n",
    "    indices_dim3 = np.array(indices_dim3)\n",
    "    \n",
    "    indices_dim1 = indices_dim1[(indices_dim1 >= 0) & (indices_dim1 < arr.shape[0])]\n",
    "    indices_dim2 = indices_dim2[(indices_dim2 >= 0) & (indices_dim2 < arr.shape[1])]\n",
    "    indices_dim3 = indices_dim3[(indices_dim3 >= 0) & (indices_dim3 < arr.shape[2])]\n",
    "    \n",
    "\n",
    "    extracted_elements = arr[indices_dim1[:, np.newaxis, np.newaxis], \n",
    "                             indices_dim2[np.newaxis, :, np.newaxis],\n",
    "                             indices_dim3[np.newaxis, np.newaxis, :]]\n",
    "    \n",
    "    return extracted_elements\n",
    "\n",
    "arr_3d = np.arange(27).reshape(3, 3, 3)  # Creating a 3D array for demonstration\n",
    "\n",
    "indices_dim1 = [0, 1]\n",
    "indices_dim2 = [0, 2]\n",
    "indices_dim3 = [1, 2]\n",
    "\n",
    "result = extract_elements_3d(arr_3d, indices_dim1, indices_dim2, indices_dim3)\n",
    "print(result)\n"
   ]
  },
  {
   "cell_type": "markdown",
   "id": "70d50d67-36a4-4a19-99e2-9d55d6808e11",
   "metadata": {},
   "source": [
    "34. Write a NumPy function that returns elements from an array where both two conditions are satisfied using boolean indexing."
   ]
  },
  {
   "cell_type": "code",
   "execution_count": 37,
   "id": "5103ee4e-4283-4c7c-b28f-f5855bdab880",
   "metadata": {},
   "outputs": [
    {
     "name": "stdout",
     "output_type": "stream",
     "text": [
      "[4]\n"
     ]
    }
   ],
   "source": [
    "import numpy as np\n",
    "\n",
    "def satisfy_conditions(arr, condition1, condition2):\n",
    "    \n",
    "    mask1 = condition1(arr)\n",
    "    mask2 = condition2(arr)\n",
    "    \n",
    "   \n",
    "    combined_mask = np.logical_and(mask1, mask2)\n",
    "    \n",
    "    \n",
    "    filtered_elements = arr[combined_mask]\n",
    "    \n",
    "    return filtered_elements\n",
    "\n",
    "\n",
    "arr = np.array([1, 2, 3, 4, 5])\n",
    "condition1 = lambda x: x > 2\n",
    "condition2 = lambda x: x % 2 == 0\n",
    "\n",
    "result = satisfy_conditions(arr, condition1, condition2)\n",
    "print(result)\n"
   ]
  },
  {
   "cell_type": "markdown",
   "id": "225900ae-343f-4518-9d8d-45c9f9f8aba7",
   "metadata": {},
   "source": [
    "35. Create a NumPy function that extracts elements from a 2D array using row and column indices provided in separate arrays."
   ]
  },
  {
   "cell_type": "code",
   "execution_count": 38,
   "id": "dc8e7aee-26eb-4a96-a870-fa5464af4564",
   "metadata": {},
   "outputs": [
    {
     "name": "stdout",
     "output_type": "stream",
     "text": [
      "[2 4 9]\n"
     ]
    }
   ],
   "source": [
    "def extract_elements_2d(arr, row_indices, col_indices):\n",
    "    \n",
    "    row_indices = np.array(row_indices)\n",
    "    col_indices = np.array(col_indices)\n",
    "    \n",
    "    \n",
    "    row_indices = row_indices[(row_indices >= 0) & (row_indices < arr.shape[0])]\n",
    "    col_indices = col_indices[(col_indices >= 0) & (col_indices < arr.shape[1])]\n",
    "    \n",
    "    \n",
    "    extracted_elements = arr[row_indices, col_indices]\n",
    "    \n",
    "    return extracted_elements\n",
    "\n",
    "\n",
    "arr_2d = np.array([[1, 2, 3],\n",
    "                   [4, 5, 6],\n",
    "                   [7, 8, 9]])\n",
    "\n",
    "row_indices = [0, 1, 2]\n",
    "col_indices = [1, 0, 2]\n",
    "\n",
    "result = extract_elements_2d(arr_2d, row_indices, col_indices)\n",
    "print(result)\n"
   ]
  },
  {
   "cell_type": "markdown",
   "id": "6938d230-4b5b-4122-b03a-4371d0d72a45",
   "metadata": {},
   "source": [
    "36. Given an array arr of shape (3, 3), add a scalar value of 5 to each element using NumPy broadcasting."
   ]
  },
  {
   "cell_type": "code",
   "execution_count": 39,
   "id": "994e7123-287f-4329-95ac-93554981e22c",
   "metadata": {},
   "outputs": [
    {
     "name": "stdout",
     "output_type": "stream",
     "text": [
      "[[ 6  7  8]\n",
      " [ 9 10 11]\n",
      " [12 13 14]]\n"
     ]
    }
   ],
   "source": [
    "import numpy as np\n",
    "\n",
    "arr = np.array([[1, 2, 3],\n",
    "                [4, 5, 6],\n",
    "                [7, 8, 9]])\n",
    "\n",
    "result = arr + 5\n",
    "\n",
    "print(result)\n"
   ]
  },
  {
   "cell_type": "markdown",
   "id": "79e01603-4a37-40b1-a32d-1fc79137444d",
   "metadata": {},
   "source": [
    "37. Consider two arrays arrl of shape (1, 3) and arr2 of shape (3, 4). Multiply each row of arr2 by the corresponding element in arrl using NumPy broadcasting"
   ]
  },
  {
   "cell_type": "code",
   "execution_count": 40,
   "id": "60ade2a4-7d07-4dd4-8f07-9f66f0bfb65a",
   "metadata": {},
   "outputs": [
    {
     "ename": "ValueError",
     "evalue": "operands could not be broadcast together with shapes (1,3) (3,4) ",
     "output_type": "error",
     "traceback": [
      "\u001b[0;31m---------------------------------------------------------------------------\u001b[0m",
      "\u001b[0;31mValueError\u001b[0m                                Traceback (most recent call last)",
      "Cell \u001b[0;32mIn[40], line 10\u001b[0m\n\u001b[1;32m      4\u001b[0m arr1 \u001b[38;5;241m=\u001b[39m np\u001b[38;5;241m.\u001b[39marray([[\u001b[38;5;241m2\u001b[39m, \u001b[38;5;241m3\u001b[39m, \u001b[38;5;241m4\u001b[39m]])  \n\u001b[1;32m      5\u001b[0m arr2 \u001b[38;5;241m=\u001b[39m np\u001b[38;5;241m.\u001b[39marray([[\u001b[38;5;241m1\u001b[39m, \u001b[38;5;241m2\u001b[39m, \u001b[38;5;241m3\u001b[39m, \u001b[38;5;241m4\u001b[39m],\n\u001b[1;32m      6\u001b[0m                  [\u001b[38;5;241m5\u001b[39m, \u001b[38;5;241m6\u001b[39m, \u001b[38;5;241m7\u001b[39m, \u001b[38;5;241m8\u001b[39m],\n\u001b[1;32m      7\u001b[0m                  [\u001b[38;5;241m9\u001b[39m, \u001b[38;5;241m10\u001b[39m, \u001b[38;5;241m11\u001b[39m, \u001b[38;5;241m12\u001b[39m]])  \n\u001b[0;32m---> 10\u001b[0m result \u001b[38;5;241m=\u001b[39m \u001b[43marr1\u001b[49m\u001b[43m \u001b[49m\u001b[38;5;241;43m*\u001b[39;49m\u001b[43m \u001b[49m\u001b[43marr2\u001b[49m\n\u001b[1;32m     12\u001b[0m \u001b[38;5;28mprint\u001b[39m(result)\n",
      "\u001b[0;31mValueError\u001b[0m: operands could not be broadcast together with shapes (1,3) (3,4) "
     ]
    }
   ],
   "source": [
    "import numpy as np\n",
    "\n",
    "# Create the arrays\n",
    "arr1 = np.array([[2, 3, 4]])  \n",
    "arr2 = np.array([[1, 2, 3, 4],\n",
    "                 [5, 6, 7, 8],\n",
    "                 [9, 10, 11, 12]])  \n",
    "\n",
    "\n",
    "result = arr1 * arr2\n",
    "\n",
    "print(result)\n"
   ]
  },
  {
   "cell_type": "markdown",
   "id": "f694a631-7c8e-4dfc-b1bc-b8198c898725",
   "metadata": {},
   "source": [
    "38. Given a 1D array arrl of shape (1, 4) and a 2D array arr2 of shape (4,3), add arrl to each row of arr2 using NumPy broadcasting."
   ]
  },
  {
   "cell_type": "code",
   "execution_count": 41,
   "id": "8684e19f-a351-4a39-9991-f7ba3365e428",
   "metadata": {},
   "outputs": [
    {
     "ename": "ValueError",
     "evalue": "operands could not be broadcast together with shapes (1,4) (4,3) ",
     "output_type": "error",
     "traceback": [
      "\u001b[0;31m---------------------------------------------------------------------------\u001b[0m",
      "\u001b[0;31mValueError\u001b[0m                                Traceback (most recent call last)",
      "Cell \u001b[0;32mIn[41], line 7\u001b[0m\n\u001b[1;32m      1\u001b[0m arr1 \u001b[38;5;241m=\u001b[39m np\u001b[38;5;241m.\u001b[39marray([[\u001b[38;5;241m1\u001b[39m, \u001b[38;5;241m2\u001b[39m, \u001b[38;5;241m3\u001b[39m, \u001b[38;5;241m4\u001b[39m]])\n\u001b[1;32m      2\u001b[0m arr2 \u001b[38;5;241m=\u001b[39m np\u001b[38;5;241m.\u001b[39marray([[\u001b[38;5;241m5\u001b[39m, \u001b[38;5;241m6\u001b[39m, \u001b[38;5;241m7\u001b[39m],\n\u001b[1;32m      3\u001b[0m                  [\u001b[38;5;241m8\u001b[39m, \u001b[38;5;241m9\u001b[39m, \u001b[38;5;241m10\u001b[39m],\n\u001b[1;32m      4\u001b[0m                  [\u001b[38;5;241m11\u001b[39m, \u001b[38;5;241m12\u001b[39m, \u001b[38;5;241m13\u001b[39m],\n\u001b[1;32m      5\u001b[0m                  [\u001b[38;5;241m14\u001b[39m, \u001b[38;5;241m15\u001b[39m, \u001b[38;5;241m16\u001b[39m]])\n\u001b[0;32m----> 7\u001b[0m result \u001b[38;5;241m=\u001b[39m \u001b[43marr1\u001b[49m\u001b[43m \u001b[49m\u001b[38;5;241;43m+\u001b[39;49m\u001b[43m \u001b[49m\u001b[43marr2\u001b[49m\n\u001b[1;32m      9\u001b[0m \u001b[38;5;28mprint\u001b[39m(result)\n",
      "\u001b[0;31mValueError\u001b[0m: operands could not be broadcast together with shapes (1,4) (4,3) "
     ]
    }
   ],
   "source": [
    "arr1 = np.array([[1, 2, 3, 4]])\n",
    "arr2 = np.array([[5, 6, 7],\n",
    "                 [8, 9, 10],\n",
    "                 [11, 12, 13],\n",
    "                 [14, 15, 16]])\n",
    "\n",
    "result = arr1 + arr2\n",
    "\n",
    "print(result)\n"
   ]
  },
  {
   "cell_type": "markdown",
   "id": "fbe4a7d4-3b57-4798-8516-0c34725dd766",
   "metadata": {},
   "source": [
    "39. Consider two arrays arrl of shape (3, 1) and arr2 of shape (1, 3). Add these arrays using NumPy broadcasting"
   ]
  },
  {
   "cell_type": "code",
   "execution_count": 42,
   "id": "eae22497-50d8-4f26-91e8-37ae2e57acfe",
   "metadata": {},
   "outputs": [
    {
     "name": "stdout",
     "output_type": "stream",
     "text": [
      "[[5 6 7]\n",
      " [6 7 8]\n",
      " [7 8 9]]\n"
     ]
    }
   ],
   "source": [
    "arr1 = np.array([[1],\n",
    "                 [2],\n",
    "                 [3]])\n",
    "arr2 = np.array([[4, 5, 6]])\n",
    "\n",
    "result = arr1 + arr2\n",
    "\n",
    "print(result)\n"
   ]
  },
  {
   "cell_type": "markdown",
   "id": "77037466-019d-411c-82af-953ed4a3de88",
   "metadata": {},
   "source": [
    "40. Given arrays arrl of shape (2, 3) and arr2 of shape (2, 2), perform multiplication using NumPy broadcasting"
   ]
  },
  {
   "cell_type": "code",
   "execution_count": 43,
   "id": "05e967da-9764-41e6-bca2-70f933d1704e",
   "metadata": {},
   "outputs": [
    {
     "ename": "ValueError",
     "evalue": "operands could not be broadcast together with shapes (2,3) (2,1,2) ",
     "output_type": "error",
     "traceback": [
      "\u001b[0;31m---------------------------------------------------------------------------\u001b[0m",
      "\u001b[0;31mValueError\u001b[0m                                Traceback (most recent call last)",
      "Cell \u001b[0;32mIn[43], line 8\u001b[0m\n\u001b[1;32m      4\u001b[0m arr2 \u001b[38;5;241m=\u001b[39m np\u001b[38;5;241m.\u001b[39marray([[\u001b[38;5;241m7\u001b[39m, \u001b[38;5;241m8\u001b[39m],\n\u001b[1;32m      5\u001b[0m                  [\u001b[38;5;241m9\u001b[39m, \u001b[38;5;241m10\u001b[39m]])\n\u001b[1;32m      6\u001b[0m arr2 \u001b[38;5;241m=\u001b[39m arr2[:, np\u001b[38;5;241m.\u001b[39mnewaxis, :]\n\u001b[0;32m----> 8\u001b[0m result \u001b[38;5;241m=\u001b[39m \u001b[43marr1\u001b[49m\u001b[43m \u001b[49m\u001b[38;5;241;43m*\u001b[39;49m\u001b[43m \u001b[49m\u001b[43marr2\u001b[49m\n\u001b[1;32m     10\u001b[0m \u001b[38;5;28mprint\u001b[39m(result)\n",
      "\u001b[0;31mValueError\u001b[0m: operands could not be broadcast together with shapes (2,3) (2,1,2) "
     ]
    }
   ],
   "source": [
    "arr1 = np.array([[1, 2, 3],\n",
    "                 [4, 5, 6]])\n",
    "\n",
    "arr2 = np.array([[7, 8],\n",
    "                 [9, 10]])\n",
    "arr2 = arr2[:, np.newaxis, :]\n",
    "\n",
    "result = arr1 * arr2\n",
    "\n",
    "print(result)\n"
   ]
  },
  {
   "cell_type": "markdown",
   "id": "2a9afb85-fb7c-4983-8941-0ad366a76b48",
   "metadata": {},
   "source": [
    "41. Calculate column-wise mean for the given array:\n",
    "35°C Clear\n",
    "arr np.array([[1, 2, 3], [4, 5, 6]])"
   ]
  },
  {
   "cell_type": "code",
   "execution_count": 44,
   "id": "7b68b3fb-010b-447c-ba9a-b3c11ff42df6",
   "metadata": {},
   "outputs": [
    {
     "name": "stdout",
     "output_type": "stream",
     "text": [
      "Column-wise mean: [2.5 3.5 4.5]\n"
     ]
    }
   ],
   "source": [
    "arr = np.array([[1, 2, 3],\n",
    "                [4, 5, 6]])\n",
    "\n",
    "column_means = np.mean(arr, axis=0)\n",
    "\n",
    "print(\"Column-wise mean:\", column_means)\n"
   ]
  },
  {
   "cell_type": "markdown",
   "id": "4608642b-35c5-458a-9ba5-41c970a1a5e9",
   "metadata": {},
   "source": [
    "42. Find maximum value in each row of the given array: arr = np.array([[1, 2, 3], [4, 5, 6]])"
   ]
  },
  {
   "cell_type": "code",
   "execution_count": 45,
   "id": "d3bd776b-7196-496c-861f-cf476a836f2a",
   "metadata": {},
   "outputs": [
    {
     "name": "stdout",
     "output_type": "stream",
     "text": [
      "[3 6]\n"
     ]
    }
   ],
   "source": [
    "arr = np.array([[1, 2, 3], [4, 5, 6]])\n",
    "max_values_in_rows = np.max(arr, axis=1)\n",
    "print(max_values_in_rows)\n"
   ]
  },
  {
   "cell_type": "markdown",
   "id": "b0104b24-40f8-4725-9a89-7573e7909cb4",
   "metadata": {},
   "source": [
    "43. For the given array, find indices of maximum value in each column. arr= np.array([[1, 2, 3], [4, 5, 6]])"
   ]
  },
  {
   "cell_type": "code",
   "execution_count": 46,
   "id": "3ecbc785-c7b4-4903-ba78-4771c4261f90",
   "metadata": {},
   "outputs": [
    {
     "name": "stdout",
     "output_type": "stream",
     "text": [
      "[1 1 1]\n"
     ]
    }
   ],
   "source": [
    "arr = np.array([[1, 2, 3], [4, 5, 6]])\n",
    "max_indices_in_columns = np.argmax(arr, axis=0)\n",
    "print(max_indices_in_columns)"
   ]
  },
  {
   "cell_type": "markdown",
   "id": "2fa94429-c533-4390-a195-5516b9d0bd74",
   "metadata": {},
   "source": [
    "44. For the given array, apply custom function to calculate moving sum along rows. arr np.array([[1, 2, 3], [4, 5, 6]])"
   ]
  },
  {
   "cell_type": "code",
   "execution_count": 47,
   "id": "cd5251b5-4b93-4687-978d-8c1b25adab03",
   "metadata": {},
   "outputs": [
    {
     "name": "stdout",
     "output_type": "stream",
     "text": [
      "[[ 1  3  6]\n",
      " [ 4  9 15]]\n"
     ]
    }
   ],
   "source": [
    "def moving_sum(row):\n",
    "    result = np.cumsum(row)\n",
    "    return result\n",
    "\n",
    "arr = np.array([[1, 2, 3], [4, 5, 6]])\n",
    "moving_sum_result = np.apply_along_axis(moving_sum, axis=1, arr=arr)\n",
    "print(moving_sum_result)"
   ]
  },
  {
   "cell_type": "markdown",
   "id": "cbbc4981-475e-481d-9054-891938cf5a85",
   "metadata": {},
   "source": [
    "45. In the given array, check if all elements in each column are even. arr = np.array([[2, 4, 6], [3, 5, 7]])"
   ]
  },
  {
   "cell_type": "code",
   "execution_count": 48,
   "id": "b0debc9c-6694-4a93-ac49-342ef24934b6",
   "metadata": {},
   "outputs": [
    {
     "name": "stdout",
     "output_type": "stream",
     "text": [
      "[False False False]\n"
     ]
    }
   ],
   "source": [
    "arr = np.array([[2, 4, 6], [3, 5, 7]])\n",
    "all_even_columns = np.all(arr % 2 == 0, axis=0)\n",
    "print(all_even_columns)"
   ]
  },
  {
   "cell_type": "markdown",
   "id": "c3b22adc-d977-4fc4-a113-f2a0580704cb",
   "metadata": {},
   "source": [
    "46. Given a NumPy array arr, reshape it into a matrix of dimensions 'm' rows and `n` columns. Return the reshaped matrix.\n",
    "original_array = np.array([1, 2, 3, 4, 5, 6])"
   ]
  },
  {
   "cell_type": "code",
   "execution_count": 49,
   "id": "2f68fc8b-6dd0-4e35-96bb-22faba693e41",
   "metadata": {},
   "outputs": [
    {
     "name": "stdout",
     "output_type": "stream",
     "text": [
      "[[1 2 3]\n",
      " [4 5 6]]\n"
     ]
    }
   ],
   "source": [
    "import numpy as np\n",
    "\n",
    "def reshape_array(arr, m, n):\n",
    "    reshaped_matrix = arr.reshape(m, n)\n",
    "    return reshaped_matrix\n",
    "\n",
    "original_array = np.array([1, 2, 3, 4, 5, 6])\n",
    "\n",
    "m = 2\n",
    "n = 3\n",
    "\n",
    "reshaped_arr = reshape_array(original_array, m, n)\n",
    "print(reshaped_arr)\n"
   ]
  },
  {
   "cell_type": "markdown",
   "id": "62fb0ebc-aaaa-4b03-a1ad-ac3ea1832583",
   "metadata": {},
   "source": [
    "47. Create a function that takes a matrix as input and returns the flattened array.\n",
    "input_matrix = np.array([[1, 2, 3], [4, 5, 6]])"
   ]
  },
  {
   "cell_type": "code",
   "execution_count": 50,
   "id": "8fb9e10c-13f1-4a2a-8419-7db05a4f62ee",
   "metadata": {},
   "outputs": [
    {
     "name": "stdout",
     "output_type": "stream",
     "text": [
      "[1 2 3 4 5 6]\n"
     ]
    }
   ],
   "source": [
    "import numpy as np\n",
    "\n",
    "def flatten_matrix(matrix):\n",
    "    flattened_array = matrix.flatten()\n",
    "    return flattened_array\n",
    "\n",
    "input_matrix = np.array([[1, 2, 3], [4, 5, 6]])\n",
    "\n",
    "flattened_array = flatten_matrix(input_matrix)\n",
    "print(flattened_array)\n"
   ]
  },
  {
   "cell_type": "markdown",
   "id": "4b7d123a-416e-4f0b-922b-d9704c9fada8",
   "metadata": {},
   "source": [
    "48. Write a function that concatenates two given arrays along a specified axis.\n",
    "array1= np.array([[1, 2], [3, 4]])\n",
    "array2= np.array([[5, 6], [7, 8]])\n"
   ]
  },
  {
   "cell_type": "code",
   "execution_count": 51,
   "id": "e62c7711-c9be-409a-83ea-d5cc3067e0c1",
   "metadata": {},
   "outputs": [
    {
     "name": "stdout",
     "output_type": "stream",
     "text": [
      "Concatenated along rows:\n",
      "[[1 2]\n",
      " [3 4]\n",
      " [5 6]\n",
      " [7 8]]\n",
      "[[1 2 5 6]\n",
      " [3 4 7 8]]\n"
     ]
    }
   ],
   "source": [
    "import numpy as np\n",
    "\n",
    "def concatenate_arrays(array1, array2, axis=0):\n",
    "    concatenated_array = np.concatenate((array1, array2), axis=axis)\n",
    "    return concatenated_array\n",
    "\n",
    "array1 = np.array([[1, 2], [3, 4]])\n",
    "array2 = np.array([[5, 6], [7, 8]])\n",
    "\n",
    "result = concatenate_arrays(array1, array2, axis=0)\n",
    "print(\"Concatenated along rows:\")\n",
    "print(result)\n",
    "\n",
    "result = concatenate_arrays(array1, array2, axis=1)\n",
    "print(result)\n"
   ]
  },
  {
   "cell_type": "markdown",
   "id": "6ec917d7-f350-49e8-9d77-8d5e1c61058a",
   "metadata": {},
   "source": [
    "49. Create a function that splits an array into multiple sub-arrays along a specified axis.\n",
    "original_array np.array([[1, 2, 3], [4, 5, 6], [7, 8, 9]])"
   ]
  },
  {
   "cell_type": "code",
   "execution_count": 52,
   "id": "96431302-48ec-4eb7-9ea0-c748e410e4cc",
   "metadata": {},
   "outputs": [
    {
     "name": "stdout",
     "output_type": "stream",
     "text": [
      "Split along rows:\n",
      "[[1 2 3]]\n",
      "[[4 5 6]]\n",
      "[[7 8 9]]\n",
      "\n",
      "Split along columns:\n",
      "[[1]\n",
      " [4]\n",
      " [7]]\n",
      "[[2]\n",
      " [5]\n",
      " [8]]\n",
      "[[3]\n",
      " [6]\n",
      " [9]]\n"
     ]
    }
   ],
   "source": [
    "import numpy as np\n",
    "\n",
    "def split_array(original_array, num_splits, axis=0):\n",
    "    split_arrays = np.split(original_array, num_splits, axis=axis)\n",
    "    return split_arrays\n",
    "\n",
    "original_array = np.array([[1, 2, 3], [4, 5, 6], [7, 8, 9]])\n",
    "\n",
    "result = split_array(original_array, num_splits=3, axis=0)\n",
    "print(\"Split along rows:\")\n",
    "for arr in result:\n",
    "    print(arr)\n",
    "\n",
    "result = split_array(original_array, num_splits=3, axis=1)\n",
    "print(\"\\nSplit along columns:\")\n",
    "for arr in result:\n",
    "    print(arr)\n"
   ]
  },
  {
   "cell_type": "markdown",
   "id": "63a279af-f0d0-4ae2-aa4d-37853b753c08",
   "metadata": {},
   "source": [
    "50. Write a function that inserts and then deletes elements from a given array at specified indices.\n",
    "original_array np.array([1, 2, 3, 4, 5])\n",
    "indices_to_insert [2, 4]\n",
    "values_to_insert = [10, 11] indices_to_delete = [1, 3]"
   ]
  },
  {
   "cell_type": "code",
   "execution_count": 53,
   "id": "6d080e27-7cbd-4a2d-b555-5ebd398ca1f2",
   "metadata": {},
   "outputs": [
    {
     "name": "stdout",
     "output_type": "stream",
     "text": [
      "[ 1 10 11  4  5]\n"
     ]
    }
   ],
   "source": [
    "import numpy as np\n",
    "\n",
    "def insert_delete_elements(original_array, indices_to_insert, values_to_insert, indices_to_delete):\n",
    "    for idx, val in zip(indices_to_insert, values_to_insert):\n",
    "        original_array = np.insert(original_array, idx, val)\n",
    "\n",
    "   \n",
    "    original_array = np.delete(original_array, indices_to_delete)\n",
    "\n",
    "    return original_array\n",
    "\n",
    "\n",
    "original_array = np.array([1, 2, 3, 4, 5])\n",
    "indices_to_insert = [2, 4]\n",
    "values_to_insert = [10, 11]\n",
    "indices_to_delete = [1, 3]\n",
    "\n",
    "\n",
    "result_array = insert_delete_elements(original_array, indices_to_insert, values_to_insert, indices_to_delete)\n",
    "print(result_array)\n"
   ]
  },
  {
   "cell_type": "markdown",
   "id": "9995b0bf-468f-4c02-b0f3-b35085fe3a2c",
   "metadata": {},
   "source": [
    "51. Create a NumPy array 'arrl with random integers and another array 'arr2' with integers from 1 to 10. Perform element-wise addition between 'arrl` and `arr2`."
   ]
  },
  {
   "cell_type": "code",
   "execution_count": 54,
   "id": "5d7e7cb5-2843-4a24-9cbe-afbc77cb87ca",
   "metadata": {},
   "outputs": [
    {
     "ename": "ValueError",
     "evalue": "operands could not be broadcast together with shapes (5,5) (10,) ",
     "output_type": "error",
     "traceback": [
      "\u001b[0;31m---------------------------------------------------------------------------\u001b[0m",
      "\u001b[0;31mValueError\u001b[0m                                Traceback (most recent call last)",
      "Cell \u001b[0;32mIn[54], line 10\u001b[0m\n\u001b[1;32m      7\u001b[0m arr2 \u001b[38;5;241m=\u001b[39m np\u001b[38;5;241m.\u001b[39marange(\u001b[38;5;241m1\u001b[39m, \u001b[38;5;241m11\u001b[39m)\n\u001b[1;32m      9\u001b[0m \u001b[38;5;66;03m# Perform element-wise addition\u001b[39;00m\n\u001b[0;32m---> 10\u001b[0m result \u001b[38;5;241m=\u001b[39m \u001b[43marr1\u001b[49m\u001b[43m \u001b[49m\u001b[38;5;241;43m+\u001b[39;49m\u001b[43m \u001b[49m\u001b[43marr2\u001b[49m\n\u001b[1;32m     12\u001b[0m \u001b[38;5;28mprint\u001b[39m(\u001b[38;5;124m\"\u001b[39m\u001b[38;5;124mArray arr1:\u001b[39m\u001b[38;5;124m\"\u001b[39m)\n\u001b[1;32m     13\u001b[0m \u001b[38;5;28mprint\u001b[39m(arr1)\n",
      "\u001b[0;31mValueError\u001b[0m: operands could not be broadcast together with shapes (5,5) (10,) "
     ]
    }
   ],
   "source": [
    "import numpy as np\n",
    "\n",
    "# Create arr1 with random integers\n",
    "arr1 = np.random.randint(1, 100, size=(5, 5))\n",
    "\n",
    "# Create arr2 with integers from 1 to 10\n",
    "arr2 = np.arange(1, 11)\n",
    "\n",
    "# Perform element-wise addition\n",
    "result = arr1 + arr2\n",
    "\n",
    "print(\"Array arr1:\")\n",
    "print(arr1)\n",
    "print(\"\\nArray arr2:\")\n",
    "print(arr2)\n",
    "print(\"\\nElement-wise addition result:\")\n",
    "print(result)\n"
   ]
  },
  {
   "cell_type": "markdown",
   "id": "a521193a-82f7-43d4-8584-cd881cb04855",
   "metadata": {},
   "source": [
    "52. Generate a NumPy array `arrl with sequential integers from 10 to 1 and another array `arr2` with integers from 1 to 10. Subtract arr2` from `arrl` element-wise."
   ]
  },
  {
   "cell_type": "code",
   "execution_count": 55,
   "id": "4f64fa2a-da6e-4c58-a01e-cd72dab7b2ec",
   "metadata": {},
   "outputs": [
    {
     "name": "stdout",
     "output_type": "stream",
     "text": [
      "Array 1:\n",
      "[10  9  8  7  6  5  4  3  2  1]\n",
      "\n",
      "Array 2:\n",
      "[ 1  2  3  4  5  6  7  8  9 10]\n",
      "\n",
      "Result of element-wise subtraction:\n",
      "[ 9  7  5  3  1 -1 -3 -5 -7 -9]\n"
     ]
    }
   ],
   "source": [
    "\n",
    "arr1 = np.arange(10, 0, -1)\n",
    "\n",
    "arr2 = np.arange(1, 11)\n",
    "\n",
    "result = arr1 - arr2\n",
    "\n",
    "print(\"Array 1:\")\n",
    "print(arr1)\n",
    "print(\"\\nArray 2:\")\n",
    "print(arr2)\n",
    "print(\"\\nResult of element-wise subtraction:\")\n",
    "print(result)\n"
   ]
  },
  {
   "cell_type": "markdown",
   "id": "7ce56f53-22a3-4851-b8bd-98ebd561661e",
   "metadata": {},
   "source": [
    "53. Create a NumPy array arrl with random integers and another array 'arr2\" with integers from 1 to 5. Perform element-wise multiplication between 'arrl' and 'arr2'."
   ]
  },
  {
   "cell_type": "code",
   "execution_count": 56,
   "id": "91cee793-7f86-4fd9-85ac-a487b0439996",
   "metadata": {},
   "outputs": [
    {
     "ename": "ValueError",
     "evalue": "operands could not be broadcast together with shapes (3,3) (5,) ",
     "output_type": "error",
     "traceback": [
      "\u001b[0;31m---------------------------------------------------------------------------\u001b[0m",
      "\u001b[0;31mValueError\u001b[0m                                Traceback (most recent call last)",
      "Cell \u001b[0;32mIn[56], line 6\u001b[0m\n\u001b[1;32m      3\u001b[0m arr2 \u001b[38;5;241m=\u001b[39m np\u001b[38;5;241m.\u001b[39marange(\u001b[38;5;241m1\u001b[39m, \u001b[38;5;241m6\u001b[39m)\n\u001b[1;32m      5\u001b[0m \u001b[38;5;66;03m# Perform element-wise multiplication\u001b[39;00m\n\u001b[0;32m----> 6\u001b[0m result \u001b[38;5;241m=\u001b[39m \u001b[43marr1\u001b[49m\u001b[43m \u001b[49m\u001b[38;5;241;43m*\u001b[39;49m\u001b[43m \u001b[49m\u001b[43marr2\u001b[49m\n\u001b[1;32m      8\u001b[0m \u001b[38;5;28mprint\u001b[39m(\u001b[38;5;124m\"\u001b[39m\u001b[38;5;124mArray 1:\u001b[39m\u001b[38;5;124m\"\u001b[39m)\n\u001b[1;32m      9\u001b[0m \u001b[38;5;28mprint\u001b[39m(arr1)\n",
      "\u001b[0;31mValueError\u001b[0m: operands could not be broadcast together with shapes (3,3) (5,) "
     ]
    }
   ],
   "source": [
    "\n",
    "arr1 = np.random.randint(1, 10, size=(3, 3))  # Example size, adjust as needed\n",
    "\n",
    "arr2 = np.arange(1, 6)\n",
    "\n",
    "# Perform element-wise multiplication\n",
    "result = arr1 * arr2\n",
    "\n",
    "print(\"Array 1:\")\n",
    "print(arr1)\n",
    "print(\"\\nArray 2:\")\n",
    "print(arr2)\n",
    "print(\"\\nResult of element-wise multiplication:\")\n",
    "print(result)\n"
   ]
  },
  {
   "cell_type": "markdown",
   "id": "604f3152-77a5-482b-b0fa-2e8f31abd2cd",
   "metadata": {},
   "source": [
    "54. Generate a NumPy array 'arrl with even integers from 2 to 10 and another array 'arr2' with integers from 1 to 5. Perform element-wise division of 'arrl' by 'arr2'."
   ]
  },
  {
   "cell_type": "code",
   "execution_count": 57,
   "id": "d55d9206-f0af-442b-bea0-5424676573f1",
   "metadata": {},
   "outputs": [
    {
     "name": "stdout",
     "output_type": "stream",
     "text": [
      "Array 1:\n",
      "[ 2  4  6  8 10]\n",
      "\n",
      "Array 2:\n",
      "[1 2 3 4 5]\n",
      "\n",
      "Result of element-wise division:\n",
      "[2. 2. 2. 2. 2.]\n"
     ]
    }
   ],
   "source": [
    "import numpy as np\n",
    "\n",
    "arr1 = np.arange(2, 11, 2)\n",
    "\n",
    "arr2 = np.arange(1, 6)\n",
    "\n",
    "result = arr1 / arr2\n",
    "\n",
    "print(\"Array 1:\")\n",
    "print(arr1)\n",
    "print(\"\\nArray 2:\")\n",
    "print(arr2)\n",
    "print(\"\\nResult of element-wise division:\")\n",
    "print(result)\n"
   ]
  },
  {
   "cell_type": "markdown",
   "id": "38c79f00-6351-463b-9fa4-14de7e4fe7dd",
   "metadata": {},
   "source": [
    "55. Create a NumPy array 'arrl with integers from 1 to 5 and another array 'arr2' with the same numbers reversed. Calculate the exponentiation of arrl raised to the power of 'arr2' element-wise."
   ]
  },
  {
   "cell_type": "code",
   "execution_count": 58,
   "id": "c5096c18-e393-43e3-8a2d-3cbfdb975cfa",
   "metadata": {},
   "outputs": [
    {
     "name": "stdout",
     "output_type": "stream",
     "text": [
      "Array 1:\n",
      "[1 2 3 4 5]\n",
      "\n",
      "Array 2:\n",
      "[5 4 3 2 1]\n",
      "\n",
      "Result of element-wise exponentiation:\n",
      "[ 1 16 27 16  5]\n"
     ]
    }
   ],
   "source": [
    "import numpy as np\n",
    "\n",
    "arr1 = np.arange(1, 6)\n",
    "\n",
    "arr2 = arr1[::-1]\n",
    "\n",
    "result = np.power(arr1, arr2)\n",
    "\n",
    "print(\"Array 1:\")\n",
    "print(arr1)\n",
    "print(\"\\nArray 2:\")\n",
    "print(arr2)\n",
    "print(\"\\nResult of element-wise exponentiation:\")\n",
    "print(result)\n"
   ]
  },
  {
   "cell_type": "markdown",
   "id": "353ca355-1ee3-4f8e-aa21-444c03aff0b1",
   "metadata": {},
   "source": [
    "56. Write a function that counts the occurrences of a specific substring within a NumPy array of strings. arr np.array(['hello', 'world', 'hello', 'numpy', 'hello'])"
   ]
  },
  {
   "cell_type": "code",
   "execution_count": 59,
   "id": "70b6a71d-fd7a-4470-a9f1-940733c7924c",
   "metadata": {},
   "outputs": [
    {
     "name": "stdout",
     "output_type": "stream",
     "text": [
      "Occurrences of 'hello' in the array: 3\n"
     ]
    }
   ],
   "source": [
    "import numpy as np\n",
    "\n",
    "def count_substring_occurrences(arr, substring):\n",
    "    return sum(1 for string in arr if substring in string)\n",
    "\n",
    "arr = np.array(['hello', 'world', 'hello', 'numpy', 'hello'])\n",
    "substring = 'hello'\n",
    "\n",
    "occurrences = count_substring_occurrences(arr, substring)\n",
    "print(f\"Occurrences of '{substring}' in the array: {occurrences}\")\n"
   ]
  },
  {
   "cell_type": "markdown",
   "id": "f0d0a3a8-9882-4b1d-9669-d9a0d6409df9",
   "metadata": {},
   "source": [
    "57. Write a function that extracts uppercase characters from a NumPy array of strings. arr = np.array(['Hello', 'World', 'OpenAl', 'GPT'])\n",
    "arr\n",
    "np.array(['Hello', 'World', 'OpenAI', 'GPT'])"
   ]
  },
  {
   "cell_type": "code",
   "execution_count": 60,
   "id": "42edcd1e-d0b4-42d8-89e8-1b9baf009f43",
   "metadata": {},
   "outputs": [
    {
     "name": "stdout",
     "output_type": "stream",
     "text": [
      "Uppercase characters in arr1: HWOAGPT\n",
      "Uppercase characters in arr2: HWOAIGPT\n"
     ]
    }
   ],
   "source": [
    "import numpy as np\n",
    "\n",
    "def extract_uppercase_characters(arr):\n",
    "    uppercase_chars = ''.join([char for string in arr for char in string if char.isupper()])\n",
    "    return uppercase_chars\n",
    "\n",
    "arr1 = np.array(['Hello', 'World', 'OpenAl', 'GPT'])\n",
    "arr2 = np.array(['Hello', 'World', 'OpenAI', 'GPT'])\n",
    "\n",
    "\n",
    "uppercase_chars1 = extract_uppercase_characters(arr1)\n",
    "uppercase_chars2 = extract_uppercase_characters(arr2)\n",
    "\n",
    "print(\"Uppercase characters in arr1:\", uppercase_chars1)\n",
    "print(\"Uppercase characters in arr2:\", uppercase_chars2)\n"
   ]
  },
  {
   "cell_type": "markdown",
   "id": "3f6594a7-9f8c-4bb5-872c-34255a251ae3",
   "metadata": {},
   "source": [
    "58. Write a function that replaces occurrences of a substring in a NumPy array of strings with a new string.\n",
    "arr= np.array(['apple', 'banana', 'grape', 'pineapple'])"
   ]
  },
  {
   "cell_type": "code",
   "execution_count": 61,
   "id": "67227552-c8fa-4670-87ae-0906b78b2560",
   "metadata": {},
   "outputs": [
    {
     "name": "stdout",
     "output_type": "stream",
     "text": [
      "['anple' 'banana' 'grane' 'pineanple']\n"
     ]
    }
   ],
   "source": [
    "import numpy as np\n",
    "\n",
    "def replace_substring(arr, old_substring, new_substring):\n",
    "    \n",
    "    replace_func = np.vectorize(lambda s: s.replace(old_substring, new_substring))\n",
    "    \n",
    "    return replace_func(arr)\n",
    "\n",
    "\n",
    "arr = np.array(['apple', 'banana', 'grape', 'pineapple'])\n",
    "new_arr = replace_substring(arr, 'ap', 'an')\n",
    "print(new_arr)\n"
   ]
  },
  {
   "cell_type": "markdown",
   "id": "d8e06234-48a3-4cec-b8af-590c6f873a77",
   "metadata": {},
   "source": [
    "59. Write a function that concatenates strings in a NumPy array element-wise.\n",
    "arr1= np.array(['Hello', 'World']) arr2 np.array(['Open', 'AI'])"
   ]
  },
  {
   "cell_type": "code",
   "execution_count": null,
   "id": "786abfb8-eec5-45d6-bf21-e156d69a5dfb",
   "metadata": {},
   "outputs": [],
   "source": [
    "import numpy as np\n",
    "\n",
    "def concatenate_arrays(arr1, arr2):\n",
    "    concatenated = np.char.add(arr1, arr2)\n",
    "    return concatenated\n",
    "\n",
    "arr1 = np.array(['Hello', 'World'])\n",
    "arr2 = np.array(['Open', 'AI'])\n",
    "result = concatenate_arrays(arr1, arr2)\n",
    "print(result)\n"
   ]
  },
  {
   "cell_type": "markdown",
   "id": "6f71ff8b-a84f-4645-90ba-876685b324af",
   "metadata": {},
   "source": [
    "60. Write a function that finds the length of the longest string in a NumPy array. arr = np.array(['apple', 'banana', 'grape', 'pineapple'])\n",
    "arr np.array(['apple', 'banana', 'grape', 'pineapple'])"
   ]
  },
  {
   "cell_type": "code",
   "execution_count": 64,
   "id": "ee2a9638-fde8-47d1-b70b-5913fba350e7",
   "metadata": {},
   "outputs": [
    {
     "name": "stdout",
     "output_type": "stream",
     "text": [
      "Length of the longest string: 9\n"
     ]
    }
   ],
   "source": [
    "import numpy as np\n",
    "\n",
    "def longest_string_length(arr):\n",
    "\n",
    "    lengths = np.char.str_len(arr)\n",
    "    \n",
    "    max_length = np.max(lengths)\n",
    "    return max_length\n",
    "\n",
    "\n",
    "arr = np.array(['apple', 'banana', 'grape', 'pineapple'])\n",
    "result = longest_string_length(arr)\n",
    "print(\"Length of the longest string:\", result)\n"
   ]
  },
  {
   "cell_type": "markdown",
   "id": "ba264823-0358-4fd4-affb-0568f9a8b285",
   "metadata": {},
   "source": [
    "61. Create a dataset of 100 random integers between 1 and 1000. Compute the mean, median, variance, and standard deviation of the dataset using NumPy's functions."
   ]
  },
  {
   "cell_type": "code",
   "execution_count": 65,
   "id": "f55607d6-d33d-4a13-ac2c-2f03a701d394",
   "metadata": {},
   "outputs": [
    {
     "name": "stdout",
     "output_type": "stream",
     "text": [
      "Dataset: [809 955 417 603  92 289 411 355 984 950 134 337 737 402 687 680 301 882\n",
      "   7 307 278 150 913 223 647 933 676 916   4 168 889 152 904 753  61 150\n",
      " 156  99 692 696 975 638 150 392 836 936 735 581 315 400 262 790 526 979\n",
      "  34 449 348 109 382   4 317 752 657 709 434 470 615 665 309 940  25 952\n",
      " 889 478 903 589 557 351 433 821 796 634 164 432 940 588 583 829 182  30\n",
      " 831 762 389 971 691 915  25 975 475 441]\n",
      "Mean: 531.59\n",
      "Median: 569.0\n",
      "Variance: 90926.80189999998\n",
      "Standard Deviation: 301.54071350316855\n"
     ]
    }
   ],
   "source": [
    "dataset = np.random.randint(1, 1001, size=100)\n",
    "\n",
    "mean = np.mean(dataset)\n",
    "\n",
    "median = np.median(dataset)\n",
    "\n",
    "variance = np.var(dataset)\n",
    "\n",
    "std_dev = np.std(dataset)\n",
    "\n",
    "print(\"Dataset:\", dataset)\n",
    "print(\"Mean:\", mean)\n",
    "print(\"Median:\", median)\n",
    "print(\"Variance:\", variance)\n",
    "print(\"Standard Deviation:\", std_dev)\n"
   ]
  },
  {
   "cell_type": "markdown",
   "id": "e0de75c4-6d62-428a-8a1c-53e54e4bbf91",
   "metadata": {},
   "source": [
    "62. Generate an array of 50 random numbers between 1 and 100. Find the 25th and 75th percentiles of the dataset."
   ]
  },
  {
   "cell_type": "code",
   "execution_count": 66,
   "id": "e5f890db-77b0-4f5b-a33a-ded0ed99520f",
   "metadata": {},
   "outputs": [
    {
     "name": "stdout",
     "output_type": "stream",
     "text": [
      "Random numbers: [18 11 52 43  2 97 50 97  7 96 31 20 97 61 53 81  2 85 48 18 12 38 56 16\n",
      " 63  7 48  7 28 91 57 80 27  1 83 37 11 74 17 21 65 25 73 51 11 77  7 64\n",
      " 10 12]\n",
      "25th percentile: 13.0\n",
      "75th percentile: 64.75\n"
     ]
    }
   ],
   "source": [
    "random_numbers = np.random.randint(1, 101, size=50)\n",
    "\n",
    "percentile_25 = np.percentile(random_numbers, 25)\n",
    "percentile_75 = np.percentile(random_numbers, 75)\n",
    "\n",
    "print(\"Random numbers:\", random_numbers)\n",
    "print(\"25th percentile:\", percentile_25)\n",
    "print(\"75th percentile:\", percentile_75)\n"
   ]
  },
  {
   "cell_type": "markdown",
   "id": "4ea844e3-2227-4add-b15c-837074aaaa0f",
   "metadata": {},
   "source": [
    "63. Create two arrays representing two sets of variables. Compute the correlation coefficient between these arrays using NumPy's 'corrcoef function."
   ]
  },
  {
   "cell_type": "code",
   "execution_count": 67,
   "id": "f32d3bb3-9868-4cd6-8b58-a45a1f3b9d64",
   "metadata": {},
   "outputs": [
    {
     "name": "stdout",
     "output_type": "stream",
     "text": [
      "Array 1: [1 2 3 4 5]\n",
      "Array 2: [5 4 3 2 1]\n",
      "Correlation coefficient: -0.9999999999999999\n"
     ]
    }
   ],
   "source": [
    "import numpy as np\n",
    "\n",
    "array1 = np.array([1, 2, 3, 4, 5])\n",
    "array2 = np.array([5, 4, 3, 2, 1])\n",
    "\n",
    "correlation_coefficient = np.corrcoef(array1, array2)[0, 1]\n",
    "\n",
    "print(\"Array 1:\", array1)\n",
    "print(\"Array 2:\", array2)\n",
    "print(\"Correlation coefficient:\", correlation_coefficient)\n"
   ]
  },
  {
   "cell_type": "markdown",
   "id": "74dc8cf5-a81e-429b-aa75-283176099696",
   "metadata": {},
   "source": [
    "64. Create two matrices and perform matrix multiplication using NumPy's 'dot' function."
   ]
  },
  {
   "cell_type": "code",
   "execution_count": 68,
   "id": "e180717e-e405-4a6e-87b1-7bf1ec3ac789",
   "metadata": {},
   "outputs": [
    {
     "name": "stdout",
     "output_type": "stream",
     "text": [
      "Matrix 1:\n",
      "[[1 2 3]\n",
      " [4 5 6]]\n",
      "Matrix 2:\n",
      "[[ 7  8]\n",
      " [ 9 10]\n",
      " [11 12]]\n",
      "Result of matrix multiplication:\n",
      "[[ 58  64]\n",
      " [139 154]]\n"
     ]
    }
   ],
   "source": [
    "import numpy as np\n",
    "\n",
    "matrix1 = np.array([[1, 2, 3],\n",
    "                    [4, 5, 6]])\n",
    "\n",
    "matrix2 = np.array([[7, 8],\n",
    "                    [9, 10],\n",
    "                    [11, 12]])\n",
    "\n",
    "result = np.dot(matrix1, matrix2)\n",
    "\n",
    "print(\"Matrix 1:\")\n",
    "print(matrix1)\n",
    "print(\"Matrix 2:\")\n",
    "print(matrix2)\n",
    "print(\"Result of matrix multiplication:\")\n",
    "print(result)\n"
   ]
  },
  {
   "cell_type": "markdown",
   "id": "8bf981ca-16ff-4b5d-8aa7-b6b3eb6ce2c5",
   "metadata": {},
   "source": [
    "65. Create an array of 50 integers between 10 and 1000. Calculate the 10th, 50th (median), and 90th percentiles along with the first and third quartiles."
   ]
  },
  {
   "cell_type": "code",
   "execution_count": 69,
   "id": "2c237a35-54e8-48ad-870a-117c458fe64a",
   "metadata": {},
   "outputs": [
    {
     "name": "stdout",
     "output_type": "stream",
     "text": [
      "Array: [612  43  41 773 687 398 154 995 266 917 672 939 995 621 154 586 661 989\n",
      " 216 335 311 744 760 915 266 575 540 713 753 280 740 223 685 143 405  66\n",
      " 489 669 856 677 257 483 627 954  12 945 751 549 946 848]\n",
      "10th percentile: 152.9\n",
      "First quartile (25th percentile): 287.75\n",
      "Median (50th percentile): 624.0\n",
      "Third quartile (75th percentile): 758.25\n",
      "90th percentile: 945.1\n"
     ]
    }
   ],
   "source": [
    "array = np.random.randint(10, 1001, size=50)\n",
    "\n",
    "percentiles = np.percentile(array, [10, 25, 50, 75, 90])\n",
    "\n",
    "first_quartile = percentiles[1]\n",
    "median = percentiles[2]\n",
    "third_quartile = percentiles[3]\n",
    "\n",
    "print(\"Array:\", array)\n",
    "print(\"10th percentile:\", percentiles[0])\n",
    "print(\"First quartile (25th percentile):\", first_quartile)\n",
    "print(\"Median (50th percentile):\", median)\n",
    "print(\"Third quartile (75th percentile):\", third_quartile)\n",
    "print(\"90th percentile:\", percentiles[4])\n"
   ]
  },
  {
   "cell_type": "markdown",
   "id": "c631137a-5ce0-4f98-ae7e-7bed8586b22b",
   "metadata": {},
   "source": [
    "66. Create a NumPy array of integers and find the index of a specific element."
   ]
  },
  {
   "cell_type": "code",
   "execution_count": 70,
   "id": "90e0b0cf-593d-4230-a013-2a0375f77589",
   "metadata": {},
   "outputs": [
    {
     "name": "stdout",
     "output_type": "stream",
     "text": [
      "Index of 3 : 2\n"
     ]
    }
   ],
   "source": [
    "\n",
    "\n",
    "array = np.array([1, 2, 3, 4, 5])\n",
    "\n",
    "element = 3\n",
    "index = np.where(array == element)[0]\n",
    "\n",
    "if len(index) > 0:\n",
    "    print(\"Index of\", element, \":\", index[0])\n",
    "else:\n",
    "    print(\"Element not found in the array.\")\n"
   ]
  },
  {
   "cell_type": "markdown",
   "id": "2b7eb132-84f3-4e27-80b9-e8120125516a",
   "metadata": {},
   "source": [
    "67. Generate a random NumPy array and sort it in ascending order."
   ]
  },
  {
   "cell_type": "code",
   "execution_count": 71,
   "id": "a2c83e99-2884-4493-922a-4995d6240913",
   "metadata": {},
   "outputs": [
    {
     "name": "stdout",
     "output_type": "stream",
     "text": [
      "Random array: [73 96 18 81 36 38 73 10 39  5]\n",
      "Sorted array in ascending order: [ 5 10 18 36 38 39 73 73 81 96]\n"
     ]
    }
   ],
   "source": [
    "\n",
    "random_array = np.random.randint(1, 100, size=10)\n",
    "\n",
    "sorted_array = np.sort(random_array)\n",
    "\n",
    "print(\"Random array:\", random_array)\n",
    "print(\"Sorted array in ascending order:\", sorted_array)\n"
   ]
  },
  {
   "cell_type": "markdown",
   "id": "1f1f5525-2eda-4b11-8a08-800bbc8711f8",
   "metadata": {},
   "source": [
    "68. Filter elements >20 in the given NumPy array.\n",
    "arr np.array([12, 25, 6, 42, 8, 30])"
   ]
  },
  {
   "cell_type": "code",
   "execution_count": 72,
   "id": "127b7c9b-6ff2-44fd-b03f-24cd665c1f5d",
   "metadata": {},
   "outputs": [
    {
     "name": "stdout",
     "output_type": "stream",
     "text": [
      "Original array: [12 25  6 42  8 30]\n",
      "Filtered elements greater than 20: [25 42 30]\n"
     ]
    }
   ],
   "source": [
    "\n",
    "arr = np.array([12, 25, 6, 42, 8, 30])\n",
    "\n",
    "filtered_arr = arr[arr > 20]\n",
    "\n",
    "print(\"Original array:\", arr)\n",
    "print(\"Filtered elements greater than 20:\", filtered_arr)\n"
   ]
  },
  {
   "cell_type": "markdown",
   "id": "f776226b-562c-4774-ba1d-5148be96fc29",
   "metadata": {},
   "source": [
    "69. Filter elements which are divisible by 3 from a given NumPy array.\n",
    "arr np.array([1, 5, 8, 12, 15])"
   ]
  },
  {
   "cell_type": "code",
   "execution_count": 73,
   "id": "3df7ee1e-d274-44e2-b520-6db1d51c6c1d",
   "metadata": {},
   "outputs": [
    {
     "name": "stdout",
     "output_type": "stream",
     "text": [
      "[12 15]\n"
     ]
    }
   ],
   "source": [
    "import numpy as np\n",
    "\n",
    "arr = np.array([1, 5, 8, 12, 15])\n",
    "\n",
    "filtered_arr = arr[arr % 3 == 0]\n",
    "\n",
    "print(filtered_arr)\n"
   ]
  },
  {
   "cell_type": "markdown",
   "id": "32a76b96-6075-472e-9772-8bfdbc2e37c4",
   "metadata": {},
   "source": [
    "70. Filter elements which are >= 20 and <= 40 from a given NumPy array.\n",
    "arr\n",
    "np.array([10, 20, 38, 48, 50])"
   ]
  },
  {
   "cell_type": "code",
   "execution_count": 77,
   "id": "74bf2e1b-d4b7-4cdf-8f1d-df65758e7881",
   "metadata": {},
   "outputs": [
    {
     "name": "stdout",
     "output_type": "stream",
     "text": [
      "[20 38]\n"
     ]
    }
   ],
   "source": [
    "arr = np.array([10, 20, 38, 48, 50])\n",
    "\n",
    "filtered_arr = arr[(arr >= 20) & (arr <= 40)]\n",
    "\n",
    "print(filtered_arr)\n"
   ]
  },
  {
   "cell_type": "markdown",
   "id": "79b2645a-cf97-4345-8790-9bd681758c94",
   "metadata": {},
   "source": [
    "71. For the given NumPy array, check its byte order using the 'dtype\" attribute byteorder.\n",
    "arr\n",
    "np.array([1, 2, 3])"
   ]
  },
  {
   "cell_type": "code",
   "execution_count": 78,
   "id": "4d88bbb1-fbab-4d0b-9662-abdff7ac80ff",
   "metadata": {},
   "outputs": [
    {
     "name": "stdout",
     "output_type": "stream",
     "text": [
      "Byte order: =\n"
     ]
    }
   ],
   "source": [
    "\n",
    "arr = np.array([1, 2, 3])\n",
    "\n",
    "byte_order = arr.dtype.byteorder\n",
    "\n",
    "print(\"Byte order:\", byte_order)\n"
   ]
  },
  {
   "cell_type": "markdown",
   "id": "86ef9f70-f84f-4e08-a315-b1285e4d859d",
   "metadata": {},
   "source": [
    "72. For the given NumPy array, perform byte swapping in place using byteswap().\n",
    "arr np.array ([1, 2, 3], dtype=np.int32)"
   ]
  },
  {
   "cell_type": "code",
   "execution_count": 79,
   "id": "504e2440-a653-46b9-933d-9cfbb0397605",
   "metadata": {},
   "outputs": [
    {
     "name": "stdout",
     "output_type": "stream",
     "text": [
      "[16777216 33554432 50331648]\n"
     ]
    }
   ],
   "source": [
    "\n",
    "arr = np.array([1, 2, 3], dtype=np.int32)\n",
    "\n",
    "arr.byteswap(inplace=True)\n",
    "\n",
    "print(arr)\n"
   ]
  },
  {
   "cell_type": "markdown",
   "id": "f02aa902-86be-41c3-91a8-528e34121fec",
   "metadata": {},
   "source": [
    "73. For the given NumPy array, swap its byte order without modifying the original array using 'newbyteorder()'.\n",
    "arr np.array([1, 2, 3], dtype=np.int32)"
   ]
  },
  {
   "cell_type": "code",
   "execution_count": 80,
   "id": "33679ce6-00e6-49b6-b82b-336f03a2e713",
   "metadata": {},
   "outputs": [
    {
     "name": "stdout",
     "output_type": "stream",
     "text": [
      "Original array:\n",
      "[1 2 3]\n",
      "Array with swapped byte order:\n",
      "[16777216 33554432 50331648]\n"
     ]
    }
   ],
   "source": [
    "import numpy as np\n",
    "\n",
    "arr = np.array([1, 2, 3], dtype=np.int32)\n",
    "\n",
    "arr_swapped = arr.newbyteorder()\n",
    "\n",
    "print(\"Original array:\")\n",
    "print(arr)\n",
    "print(\"Array with swapped byte order:\")\n",
    "print(arr_swapped)\n"
   ]
  },
  {
   "cell_type": "markdown",
   "id": "026db705-441f-4ebd-b70b-fea8413fc5b6",
   "metadata": {},
   "source": [
    "74. For the given NumPy array and swap its byte order conditionally based on system endianness using newbyteorder().\n",
    "arr np.array([1, 2, 3], dtype=np.int32)"
   ]
  },
  {
   "cell_type": "code",
   "execution_count": 82,
   "id": "7c8d08dc-f491-4da5-8b03-b0573ca04878",
   "metadata": {},
   "outputs": [
    {
     "name": "stdout",
     "output_type": "stream",
     "text": [
      "Original array:\n",
      "[1 2 3]\n",
      "Array with swapped byte order based on system endianness:\n",
      "[16777216 33554432 50331648]\n"
     ]
    }
   ],
   "source": [
    "import numpy as np\n",
    "import sys\n",
    "\n",
    "arr = np.array([1, 2, 3], dtype=np.int32)\n",
    "\n",
    "# Determine system endianness\n",
    "sys_endianness = sys.byteorder\n",
    "\n",
    "# Conditionally swap byte order based on system endianness\n",
    "if sys_endianness == 'little':\n",
    "    arr_swapped = arr.newbyteorder('big')  # Swap to big-endian\n",
    "elif sys_endianness == 'big':\n",
    "    arr_swapped = arr.newbyteorder('little')  # Swap to little-endian\n",
    "else:\n",
    "    # Handle the case if endianness is unknown\n",
    "    print(\"Unknown system endianness\")\n",
    "\n",
    "print(\"Original array:\")\n",
    "print(arr)\n",
    "print(\"Array with swapped byte order based on system endianness:\")\n",
    "print(arr_swapped)\n"
   ]
  },
  {
   "cell_type": "markdown",
   "id": "acb6207e-ff37-4b84-a314-60aa79582185",
   "metadata": {},
   "source": [
    "75. For the given NumPy array, check if byte swapping is necessary for the current system using 'dtype' attribute byteorder'.\n",
    "arr np.array([1, 2, 3], dtype=np.int32)"
   ]
  },
  {
   "cell_type": "code",
   "execution_count": 83,
   "id": "58edf129-8c6e-4a6f-8a38-da573edc5e6b",
   "metadata": {},
   "outputs": [
    {
     "name": "stdout",
     "output_type": "stream",
     "text": [
      "Byte swapping is not necessary for the current system.\n"
     ]
    }
   ],
   "source": [
    "import numpy as np\n",
    "\n",
    "arr = np.array([1, 2, 3], dtype=np.int32)\n",
    "\n",
    "byte_swapping_needed = arr.dtype.byteorder != '='\n",
    "\n",
    "if byte_swapping_needed:\n",
    "    print(\"Byte swapping is necessary for the current system.\")\n",
    "else:\n",
    "    print(\"Byte swapping is not necessary for the current system.\")\n"
   ]
  },
  {
   "cell_type": "markdown",
   "id": "4c5a949e-45da-42ab-8a76-6caf37546ecb",
   "metadata": {},
   "source": [
    "76. Create a NumPy array 'arrl with values from 1 to 10. Create a copy of 'arrl named 'copy_arr and modify an element in 'copy_arr. Check if modifying copy_arr affects 'arrl'."
   ]
  },
  {
   "cell_type": "code",
   "execution_count": 2,
   "id": "dbbb7084-fd24-4edc-9b71-d31f1b5631c1",
   "metadata": {},
   "outputs": [
    {
     "name": "stdout",
     "output_type": "stream",
     "text": [
      "Original array 'arrl': [ 1  2  3  4  5  6  7  8  9 10]\n",
      "Modified array 'copy_arr': [100   2   3   4   5   6   7   8   9  10]\n"
     ]
    }
   ],
   "source": [
    "arrl = np.arange(1, 11)\n",
    "\n",
    "copy_arr = arrl.copy()\n",
    "copy_arr[0] = 100\n",
    "\n",
    "print(\"Original array 'arrl':\", arrl)\n",
    "print(\"Modified array 'copy_arr':\", copy_arr)\n"
   ]
  },
  {
   "cell_type": "markdown",
   "id": "d2ed57d7-3b44-49fa-8f21-b941c71cdeae",
   "metadata": {},
   "source": [
    "77. Create a 2D NumPy array 'matrix of shape (3, 3) with random integers. Extract a slice 'view_slice from the matrix. Modify an element in 'view_slice' and observe if it changes the original matrix."
   ]
  },
  {
   "cell_type": "code",
   "execution_count": 3,
   "id": "83089499-d51e-43d7-976d-3cb590a65768",
   "metadata": {},
   "outputs": [
    {
     "name": "stdout",
     "output_type": "stream",
     "text": [
      "Original matrix:\n",
      "[[100   2   0]\n",
      " [  4   3   4]\n",
      " [  0   2   7]]\n",
      "\n",
      "Modified view_slice:\n",
      "[[100   2]\n",
      " [  4   3]]\n"
     ]
    }
   ],
   "source": [
    "matrix = np.random.randint(0, 10, size=(3, 3))\n",
    "\n",
    "view_slice = matrix[:2, :2]\n",
    "\n",
    "view_slice[0, 0] = 100\n",
    "\n",
    "print(\"Original matrix:\")\n",
    "print(matrix)\n",
    "\n",
    "print(\"\\nModified view_slice:\")\n",
    "print(view_slice)\n"
   ]
  },
  {
   "cell_type": "markdown",
   "id": "f0bdf703-6154-4761-bc38-2238a7e36fd6",
   "metadata": {},
   "source": [
    "78. Create a NumPy array 'array_a' of shape (4, 3) with sequential integers from 1 to 12. Extract a slice 'view_b'from array_a' and broadcast the addition of 5 to view_b. Check if it alters the original 'array_a`."
   ]
  },
  {
   "cell_type": "code",
   "execution_count": 4,
   "id": "c5d9d198-1a91-4a57-8abb-fbaa2c580023",
   "metadata": {},
   "outputs": [
    {
     "name": "stdout",
     "output_type": "stream",
     "text": [
      "Original array 'array_a':\n",
      "[[ 6  7  3]\n",
      " [ 9 10  6]\n",
      " [ 7  8  9]\n",
      " [10 11 12]]\n",
      "\n",
      "Modified slice 'view_b':\n",
      "[[ 6  7]\n",
      " [ 9 10]]\n"
     ]
    }
   ],
   "source": [
    "\n",
    "array_a = np.arange(1, 13).reshape(4, 3)\n",
    "\n",
    "view_b = array_a[:2, :2]\n",
    "\n",
    "view_b += 5\n",
    "\n",
    "print(\"Original array 'array_a':\")\n",
    "print(array_a)\n",
    "\n",
    "print(\"\\nModified slice 'view_b':\")\n",
    "print(view_b)\n"
   ]
  },
  {
   "cell_type": "markdown",
   "id": "265bcad5-d3c0-4bb9-a300-a0a32f07b4ac",
   "metadata": {},
   "source": [
    "79. Create a NumPy array orig_array of shape (2, 4) with values from 1 to 8. Create a reshaped view 'reshaped_view of shape (4, 2) from orig_array. Modify an element in 'reshaped_view' and check if it reflects changes in the original'orig_array."
   ]
  },
  {
   "cell_type": "code",
   "execution_count": 5,
   "id": "a25720d0-8a92-4095-bab5-91e417b0b0a8",
   "metadata": {},
   "outputs": [
    {
     "name": "stdout",
     "output_type": "stream",
     "text": [
      "[[100   2   3   4]\n",
      " [  5   6   7   8]]\n",
      "\n",
      "Modified view 'reshaped_view':\n",
      "[[100   2]\n",
      " [  3   4]\n",
      " [  5   6]\n",
      " [  7   8]]\n"
     ]
    }
   ],
   "source": [
    "\n",
    "orig_array = np.arange(1, 9).reshape(2, 4)\n",
    "\n",
    "reshaped_view = orig_array.reshape(4, 2)\n",
    "\n",
    "reshaped_view[0, 0] = 100\n",
    "\n",
    "print(orig_array)\n",
    "\n",
    "print(\"\\nModified view 'reshaped_view':\")\n",
    "print(reshaped_view)\n"
   ]
  },
  {
   "cell_type": "markdown",
   "id": "f281dd03-093c-46e3-b31b-decb47a528e6",
   "metadata": {},
   "source": [
    "80. Create a NumPy array 'data' of shape (3, 4) with random integers. Extract a copy 'data_copy of elements greater than 5. Modify an element in 'data_copy' and verify if it affects the original'data'."
   ]
  },
  {
   "cell_type": "code",
   "execution_count": 8,
   "id": "eea1d331-acd1-4295-bbc2-2518aa534de9",
   "metadata": {},
   "outputs": [
    {
     "ename": "IndexError",
     "evalue": "too many indices for array: array is 1-dimensional, but 2 were indexed",
     "output_type": "error",
     "traceback": [
      "\u001b[0;31m---------------------------------------------------------------------------\u001b[0m",
      "\u001b[0;31mIndexError\u001b[0m                                Traceback (most recent call last)",
      "Cell \u001b[0;32mIn[8], line 10\u001b[0m\n\u001b[1;32m      7\u001b[0m data_copy \u001b[38;5;241m=\u001b[39m data[data \u001b[38;5;241m>\u001b[39m \u001b[38;5;241m5\u001b[39m]\u001b[38;5;241m.\u001b[39mcopy()\n\u001b[1;32m      9\u001b[0m \u001b[38;5;66;03m# Modify an element in 'data_copy'\u001b[39;00m\n\u001b[0;32m---> 10\u001b[0m \u001b[43mdata_copy\u001b[49m\u001b[43m[\u001b[49m\u001b[38;5;241;43m0\u001b[39;49m\u001b[43m,\u001b[49m\u001b[43m \u001b[49m\u001b[38;5;241;43m0\u001b[39;49m\u001b[43m]\u001b[49m \u001b[38;5;241m=\u001b[39m \u001b[38;5;241m100\u001b[39m\n\u001b[1;32m     12\u001b[0m \u001b[38;5;66;03m# Verify if it affects the original 'data'\u001b[39;00m\n\u001b[1;32m     13\u001b[0m \u001b[38;5;28mprint\u001b[39m(\u001b[38;5;124m\"\u001b[39m\u001b[38;5;124mOriginal array \u001b[39m\u001b[38;5;124m'\u001b[39m\u001b[38;5;124mdata\u001b[39m\u001b[38;5;124m'\u001b[39m\u001b[38;5;124m:\u001b[39m\u001b[38;5;124m\"\u001b[39m)\n",
      "\u001b[0;31mIndexError\u001b[0m: too many indices for array: array is 1-dimensional, but 2 were indexed"
     ]
    }
   ],
   "source": [
    "import numpy as np\n",
    "\n",
    "data = np.random.randint(0, 10, size=(3, 4))\n",
    "\n",
    "data_copy = data[data > 5].copy()\n",
    "\n",
    "data_copy[0, 0] = 100\n",
    "\n",
    "print(\"Original array 'data':\")\n",
    "print(data)\n",
    "\n",
    "print(\"\\nModified copy 'data_copy':\")\n",
    "print(data_copy)\n"
   ]
  },
  {
   "cell_type": "markdown",
   "id": "28dbba2b-e0db-4f6b-8a3a-29d075e65d06",
   "metadata": {},
   "source": [
    "81. Create two matrices A and B of identical shape containing integers and perform addition and subtraction operations between them."
   ]
  },
  {
   "cell_type": "code",
   "execution_count": 9,
   "id": "b4621af3-50d1-407a-868d-2a130b5426ac",
   "metadata": {},
   "outputs": [
    {
     "name": "stdout",
     "output_type": "stream",
     "text": [
      "Matrix A:\n",
      "[[1 2 3]\n",
      " [4 5 6]]\n",
      "\n",
      "Matrix B:\n",
      "[[ 7  8  9]\n",
      " [10 11 12]]\n",
      "\n",
      "Addition result (A + B):\n",
      "[[ 8 10 12]\n",
      " [14 16 18]]\n",
      "\n",
      "Subtraction result (A - B):\n",
      "[[-6 -6 -6]\n",
      " [-6 -6 -6]]\n"
     ]
    }
   ],
   "source": [
    "import numpy as np\n",
    "\n",
    "# Create matrices A and B of identical shape containing integers\n",
    "A = np.array([[1, 2, 3],\n",
    "              [4, 5, 6]])\n",
    "\n",
    "B = np.array([[7, 8, 9],\n",
    "              [10, 11, 12]])\n",
    "\n",
    "# Addition operation\n",
    "addition_result = A + B\n",
    "\n",
    "# Subtraction operation\n",
    "subtraction_result = A - B\n",
    "\n",
    "print(\"Matrix A:\")\n",
    "print(A)\n",
    "\n",
    "print(\"\\nMatrix B:\")\n",
    "print(B)\n",
    "\n",
    "print(\"\\nAddition result (A + B):\")\n",
    "print(addition_result)\n",
    "\n",
    "print(\"\\nSubtraction result (A - B):\")\n",
    "print(subtraction_result)\n"
   ]
  },
  {
   "cell_type": "markdown",
   "id": "bd23c5db-48d5-428e-9d94-8744343c3e4b",
   "metadata": {},
   "source": [
    "82. Generate two matrices 'C' (3x2) and 'D' (2x4) and perform matrix multiplication."
   ]
  },
  {
   "cell_type": "code",
   "execution_count": 10,
   "id": "55c44122-12fa-4c75-b631-52d66e1ce4f4",
   "metadata": {},
   "outputs": [
    {
     "name": "stdout",
     "output_type": "stream",
     "text": [
      "Matrix C:\n",
      "[[1 2]\n",
      " [3 4]\n",
      " [5 6]]\n",
      "\n",
      "Matrix D:\n",
      "[[ 7  8  9 10]\n",
      " [11 12 13 14]]\n",
      "\n",
      "Result of matrix multiplication (C dot D):\n",
      "[[ 29  32  35  38]\n",
      " [ 65  72  79  86]\n",
      " [101 112 123 134]]\n"
     ]
    }
   ],
   "source": [
    "\n",
    "C = np.array([[1, 2],\n",
    "              [3, 4],\n",
    "              [5, 6]])\n",
    "\n",
    "D = np.array([[7, 8, 9, 10],\n",
    "              [11, 12, 13, 14]])\n",
    "\n",
    "result = np.dot(C, D)\n",
    "\n",
    "print(\"Matrix C:\")\n",
    "print(C)\n",
    "\n",
    "print(\"\\nMatrix D:\")\n",
    "print(D)\n",
    "\n",
    "print(\"\\nResult of matrix multiplication (C dot D):\")\n",
    "print(result)\n"
   ]
  },
  {
   "cell_type": "markdown",
   "id": "8927cdb3-3fd5-45ef-97b1-3867175ad79d",
   "metadata": {},
   "source": [
    "83. Create a matrix 'E' and find its transpose."
   ]
  },
  {
   "cell_type": "code",
   "execution_count": 11,
   "id": "6167d8b7-090f-418f-8dce-44b19fd5ab98",
   "metadata": {},
   "outputs": [
    {
     "name": "stdout",
     "output_type": "stream",
     "text": [
      "Matrix E:\n",
      "[[1 2 3]\n",
      " [4 5 6]]\n",
      "\n",
      "Transpose of matrix E:\n",
      "[[1 4]\n",
      " [2 5]\n",
      " [3 6]]\n"
     ]
    }
   ],
   "source": [
    "\n",
    "\n",
    "E = np.array([[1, 2, 3],\n",
    "              [4, 5, 6]])\n",
    "\n",
    "E_transpose = np.transpose(E)\n",
    "\n",
    "print(\"Matrix E:\")\n",
    "print(E)\n",
    "\n",
    "print(\"\\nTranspose of matrix E:\")\n",
    "print(E_transpose)\n"
   ]
  },
  {
   "cell_type": "markdown",
   "id": "71bbfc4c-1e32-425c-a32e-a0c9e6c637e1",
   "metadata": {},
   "source": [
    "84. Generate a square matrix 'F' and compute its determinant."
   ]
  },
  {
   "cell_type": "code",
   "execution_count": 13,
   "id": "8bb617b7-0bc7-4a5e-b743-f74e6f2964c1",
   "metadata": {},
   "outputs": [
    {
     "name": "stdout",
     "output_type": "stream",
     "text": [
      "Matrix F:\n",
      "[[1 2 3]\n",
      " [4 5 6]\n",
      " [7 8 9]]\n",
      "\n",
      "Determinant of matrix F: 0.0\n"
     ]
    }
   ],
   "source": [
    "\n",
    "F = np.array([[1, 2, 3],\n",
    "              [4, 5, 6],\n",
    "              [7, 8, 9]])\n",
    "\n",
    "\n",
    "determinant_F = np.linalg.det(F)\n",
    "\n",
    "print(\"Matrix F:\")\n",
    "print(F)\n",
    "\n",
    "print(\"\\nDeterminant of matrix F:\", determinant_F)\n"
   ]
  },
  {
   "cell_type": "markdown",
   "id": "cb32be0f-2fbb-4213-aab8-d3a8fc145385",
   "metadata": {},
   "source": [
    "85. Create a square matrix `G` and find its inverse."
   ]
  },
  {
   "cell_type": "code",
   "execution_count": 14,
   "id": "98f2d03e-9e92-468f-9d6e-260b1b22960f",
   "metadata": {},
   "outputs": [
    {
     "name": "stdout",
     "output_type": "stream",
     "text": [
      "Matrix G:\n",
      "[[1 2]\n",
      " [3 4]]\n",
      "\n",
      "Inverse of matrix G:\n",
      "[[-2.   1. ]\n",
      " [ 1.5 -0.5]]\n"
     ]
    }
   ],
   "source": [
    "G = np.array([[1, 2],\n",
    "              [3, 4]])\n",
    "\n",
    "inverse_G = np.linalg.inv(G)\n",
    "\n",
    "print(\"Matrix G:\")\n",
    "print(G)\n",
    "\n",
    "print(\"\\nInverse of matrix G:\")\n",
    "print(inverse_G)\n"
   ]
  },
  {
   "cell_type": "code",
   "execution_count": null,
   "id": "96713e42-293a-4a77-aea0-ecfe04cb758a",
   "metadata": {},
   "outputs": [],
   "source": []
  }
 ],
 "metadata": {
  "kernelspec": {
   "display_name": "Python 3 (ipykernel)",
   "language": "python",
   "name": "python3"
  },
  "language_info": {
   "codemirror_mode": {
    "name": "ipython",
    "version": 3
   },
   "file_extension": ".py",
   "mimetype": "text/x-python",
   "name": "python",
   "nbconvert_exporter": "python",
   "pygments_lexer": "ipython3",
   "version": "3.10.8"
  }
 },
 "nbformat": 4,
 "nbformat_minor": 5
}
