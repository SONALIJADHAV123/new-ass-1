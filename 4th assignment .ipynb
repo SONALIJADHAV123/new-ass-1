{
 "cells": [
  {
   "cell_type": "code",
   "execution_count": 2,
   "id": "0892af89-867f-4b98-9a72-fd80e2f3a504",
   "metadata": {},
   "outputs": [],
   "source": [
    "# Que 1"
   ]
  },
  {
   "cell_type": "code",
   "execution_count": 2,
   "id": "f1dfe9aa-8e33-4545-a930-e718e951637e",
   "metadata": {},
   "outputs": [
    {
     "name": "stdout",
     "output_type": "stream",
     "text": [
      "1\n",
      "2\n",
      "3\n",
      "4\n",
      "5\n"
     ]
    }
   ],
   "source": [
    "n=5\n",
    "i=0\n",
    "while i < n:\n",
    "    i+=1\n",
    "    print(i)\n",
    "   "
   ]
  },
  {
   "cell_type": "code",
   "execution_count": null,
   "id": "0b6a2bd5-1e3f-4292-8c12-6f30ca6a29f6",
   "metadata": {},
   "outputs": [],
   "source": [
    "# que 2"
   ]
  },
  {
   "cell_type": "code",
   "execution_count": 3,
   "id": "6003dc68-b28a-429e-9b2c-9f848ae43672",
   "metadata": {},
   "outputs": [
    {
     "name": "stdout",
     "output_type": "stream",
     "text": [
      "Total sum= 1\n",
      "Total sum= 3\n",
      "Total sum= 6\n",
      "Total sum= 10\n",
      "Total sum= 15\n",
      "Total sum= 21\n",
      "Total sum= 28\n",
      "Total sum= 36\n",
      "Total sum= 45\n",
      "Total sum= 55\n"
     ]
    }
   ],
   "source": [
    "n= 10  # while loop\n",
    "sum = 0\n",
    "i = 1\n",
    "while i <= n:\n",
    "    sum += i\n",
    "    i+=1\n",
    "    print(\"Total sum=\", sum)"
   ]
  },
  {
   "cell_type": "code",
   "execution_count": 4,
   "id": "4cddfd9b-441c-4797-9aff-c6d7c47e55cf",
   "metadata": {},
   "outputs": [],
   "source": [
    "# que 3"
   ]
  },
  {
   "cell_type": "code",
   "execution_count": 14,
   "id": "d5b4daa3-565a-43c7-ad47-06ae985bac2d",
   "metadata": {},
   "outputs": [
    {
     "name": "stdout",
     "output_type": "stream",
     "text": [
      "factorial= 1\n",
      "factorial= 2\n",
      "factorial= 6\n",
      "factorial= 24\n",
      "factorial= 120\n"
     ]
    }
   ],
   "source": [
    "n= 5  # while loop\n",
    "fact = 1\n",
    "i = 1\n",
    "while i <= n:\n",
    "    fact *= i\n",
    "    i+=1\n",
    "    print(\"factorial=\", fact)"
   ]
  },
  {
   "cell_type": "code",
   "execution_count": null,
   "id": "345f059e-549a-4b31-b922-b29b2d29b8cd",
   "metadata": {},
   "outputs": [],
   "source": [
    "# que 4"
   ]
  },
  {
   "cell_type": "code",
   "execution_count": 18,
   "id": "16017272-92bb-44b8-98e3-2fed78ad94fb",
   "metadata": {},
   "outputs": [
    {
     "name": "stdout",
     "output_type": "stream",
     "text": [
      "Number of vowels :  6\n"
     ]
    }
   ],
   "source": [
    "example = \"Favtutor article\"\n",
    "\n",
    "vowels = [\"a\", \"e\", \"i\", \"o\", \"u\"]\n",
    "count = 0\n",
    "\n",
    "# using for-each loop, character is reference to a letter in the string\n",
    "for i in example:\n",
    "    if i in vowels:\n",
    "        count += 1\n",
    "\n",
    "\n",
    "print(\"Number of vowels : \", count)"
   ]
  },
  {
   "cell_type": "code",
   "execution_count": null,
   "id": "14efe643-f5da-4e08-9204-a8dc17547918",
   "metadata": {},
   "outputs": [],
   "source": [
    "# que 5"
   ]
  },
  {
   "cell_type": "code",
   "execution_count": 2,
   "id": "2c57152d-db3f-456c-a847-eba13ca79862",
   "metadata": {},
   "outputs": [
    {
     "name": "stdout",
     "output_type": "stream",
     "text": [
      "*\n",
      "**\n",
      "***\n",
      "****\n",
      "*****\n"
     ]
    }
   ],
   "source": [
    "row=1\n",
    "while row<=5:\n",
    "    col=1\n",
    "    while col <=row:\n",
    "        print(\"*\",end=\"\")\n",
    "        col=col+1  \n",
    "    print()\n",
    "    row=row+1\n",
    "        \n",
    "        "
   ]
  },
  {
   "cell_type": "code",
   "execution_count": 19,
   "id": "d6d93168-1cb0-440d-93bf-3dcf892450ed",
   "metadata": {},
   "outputs": [
    {
     "name": "stdout",
     "output_type": "stream",
     "text": [
      "*\n",
      "**\n",
      "***\n",
      "****\n",
      "*****\n"
     ]
    }
   ],
   "source": [
    "for i in range(5):\n",
    "    for j in range(i+1):\n",
    "        print(\"*\", end =\"\")\n",
    "    print()\n",
    "\n"
   ]
  },
  {
   "cell_type": "code",
   "execution_count": 20,
   "id": "ecdedc6d-6080-49f4-896d-0aa88961ef3b",
   "metadata": {},
   "outputs": [],
   "source": [
    "# que 6"
   ]
  },
  {
   "cell_type": "code",
   "execution_count": 24,
   "id": "e63021e2-777a-4c7d-81da-71e545107dd6",
   "metadata": {},
   "outputs": [
    {
     "name": "stdout",
     "output_type": "stream",
     "text": [
      " 1  2  3  4  5  6  7  8  9 10 \n",
      "\n",
      " 2  4  6  8 10 12 14 16 18 20 \n",
      "\n",
      " 3  6  9 12 15 18 21 24 27 30 \n",
      "\n",
      " 4  8 12 16 20 24 28 32 36 40 \n",
      "\n",
      " 5 10 15 20 25 30 35 40 45 50 \n",
      "\n",
      " 6 12 18 24 30 36 42 48 54 60 \n",
      "\n",
      " 7 14 21 28 35 42 49 56 63 70 \n",
      "\n",
      " 8 16 24 32 40 48 56 64 72 80 \n",
      "\n",
      " 9 18 27 36 45 54 63 72 81 90 \n",
      "\n",
      "10 20 30 40 50 60 70 80 90 100 \n",
      "\n"
     ]
    }
   ],
   "source": [
    "rows=10 # Multiplication table up to 10 \n",
    "columns=10 # Number of columns\n",
    "# rows,columns=10,10  \n",
    "for i in range(1,rows+1):\n",
    "    for j in range(1,columns+1):# inner for loop\n",
    "        c=i*j\n",
    "        print(\"{:2d} \".format(c),end='')\n",
    "    print(\"\\n\")  # line break"
   ]
  },
  {
   "cell_type": "code",
   "execution_count": null,
   "id": "74ce4b31-1834-4ca2-bca6-8ddc2d6b31df",
   "metadata": {},
   "outputs": [],
   "source": []
  }
 ],
 "metadata": {
  "kernelspec": {
   "display_name": "Python 3 (ipykernel)",
   "language": "python",
   "name": "python3"
  },
  "language_info": {
   "codemirror_mode": {
    "name": "ipython",
    "version": 3
   },
   "file_extension": ".py",
   "mimetype": "text/x-python",
   "name": "python",
   "nbconvert_exporter": "python",
   "pygments_lexer": "ipython3",
   "version": "3.10.8"
  }
 },
 "nbformat": 4,
 "nbformat_minor": 5
}
