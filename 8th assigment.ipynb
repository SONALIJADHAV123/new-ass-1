{
 "cells": [
  {
   "cell_type": "markdown",
   "id": "96081b8d-5dae-4bec-962e-f32d19df77f2",
   "metadata": {},
   "source": [
    "1. Explain the importance of functions.\n",
    "\n",
    "Functions in Python are essential for several reasons. They allow you to break down your program into smaller, manageable pieces of code, making it easier to understand, debug,\n",
    "and maintain. Functions also promote code reusability, as you can call a function multiple times from different parts of your program. Additionally, functions enable you to encapsulate \n",
    "specific tasks, which can help in organizing your code and making it more modular. In Python, functions are first-class objects, meaning they can be passed as arguments to other\n",
    "functions, returned as values from other functions, and assigned to variables. This flexibility is powerful and allows for more advanced programming techniques."
   ]
  },
  {
   "cell_type": "markdown",
   "id": "321d97fd-1c30-4665-ab7e-226ee5e7be78",
   "metadata": {},
   "source": [
    "2. Write a basic function to greet student"
   ]
  },
  {
   "cell_type": "code",
   "execution_count": 7,
   "id": "f6743c3b-8247-4a71-a99b-e9b620c22d9f",
   "metadata": {},
   "outputs": [],
   "source": [
    "def greet_student():\n",
    "    wish= \"good morning teacher\" # wish is a local variable\n",
    "    print(wish)"
   ]
  },
  {
   "cell_type": "code",
   "execution_count": 8,
   "id": "f5f58f88-4c47-4cdd-94e6-1ea5c554c41e",
   "metadata": {},
   "outputs": [
    {
     "name": "stdout",
     "output_type": "stream",
     "text": [
      "good morning teacher\n"
     ]
    }
   ],
   "source": [
    "greet_student()"
   ]
  },
  {
   "cell_type": "markdown",
   "id": "e27bb291-0f69-4c53-9c25-6c27eef75b60",
   "metadata": {},
   "source": [
    "3. what is the difference between print and return statements\n",
    "\n",
    "there is a character limit so this will be in many parts. First thing to note is that return and print are statements, not functions, but that is just semantics.\n",
    "I’ll start with a basic explanation. print just shows the human user a string representing what is going on inside the computer. The computer cannot make use of that printing. return is how a function gives back a value. This value is often unseen by the human user, but it can be used by the computer in further functions.\n"
   ]
  },
  {
   "cell_type": "markdown",
   "id": "4c2c61fb-cc80-484b-a151-08abbba82ed8",
   "metadata": {},
   "source": [
    "4. what are *args and **kwargs\n",
    "\n",
    "\n",
    "In Python, *args and **kwargs are used to pass a variable number of arguments to a function.\n",
    "\n",
    "1] *args:\n",
    "*args allows a function to accept any number of positional arguments.\n",
    "When *args is used as a parameter in a function definition, it collects all the positional arguments into a tuple.\n",
    "The * (asterisk) unpacks the arguments into individual elements when the function is called.\n",
    "\n",
    "2]**kwargs:\n",
    "**kwargs allows a function to accept any number of keyword arguments.\n",
    "When **kwargs is used as a parameter in a function definition, it collects all the keyword arguments into a dictionary where the keys are the parameter names and the values are the corresponding argument values.\n",
    "The ** (double asterisk) unpacks the keyword arguments into key-value pairs when the function is called."
   ]
  },
  {
   "cell_type": "code",
   "execution_count": 1,
   "id": "1f70bb7e-83c7-4ac9-b437-c34cd909f66b",
   "metadata": {},
   "outputs": [],
   "source": [
    "def only_list(*arges):\n",
    "    L = []\n",
    "    for i in arges:\n",
    "        if type(i)==list:\n",
    "            L.append(i)\n",
    "    return L\n"
   ]
  },
  {
   "cell_type": "code",
   "execution_count": 2,
   "id": "e82981fe-1745-4d24-8d2b-1457c4b945ae",
   "metadata": {},
   "outputs": [
    {
     "data": {
      "text/plain": [
       "[[66, 44, 88], [4, 5, 6]]"
      ]
     },
     "execution_count": 2,
     "metadata": {},
     "output_type": "execute_result"
    }
   ],
   "source": [
    "only_list(4,\"ajay\", [66, 44, 88], 55.90, (66, 44), [4, 5, 6])"
   ]
  },
  {
   "cell_type": "code",
   "execution_count": 9,
   "id": "87bfbb04-8c31-4690-b2a4-13708d1a6c14",
   "metadata": {},
   "outputs": [],
   "source": [
    "def new(**kwargs):\n",
    "    for i in kwargs.keys():\n",
    "        if type (kwargs[i])==list:\n",
    "            return i, kwargs[i]"
   ]
  },
  {
   "cell_type": "code",
   "execution_count": 10,
   "id": "b951a1e2-2f1a-4b72-86d0-466a040e6c7a",
   "metadata": {},
   "outputs": [
    {
     "data": {
      "text/plain": [
       "('c', [4, 8])"
      ]
     },
     "execution_count": 10,
     "metadata": {},
     "output_type": "execute_result"
    }
   ],
   "source": [
    "new (a =55, b= 33, c=[4, 8], d=[33, 88], e= \"soni\")"
   ]
  },
  {
   "cell_type": "markdown",
   "id": "085d227f-f90c-43db-af39-aa4c0c3a7c04",
   "metadata": {},
   "source": [
    "5. Explain the iterator function\n",
    "\n",
    "In Python, an iterator is an object that represents a stream of data. It allows you to iterate over elements in a sequence, such as lists, tuples, dictionaries, etc., one at a time. The iterator function in Python is used to create an iterator object from an iterable object.\n",
    "Where:\n",
    "iterable_object: This is the iterator object that you want to create.\n",
    "iterable: This is the iterable object (such as a list, tuple, dictionary, etc.) from which you want to create the iterator.\n",
    "When you call the iterator function with an iterable object, it returns an iterator object. This iterator object can be used with the next() function to iterate over the elements of the iterable.\n",
    "Here's an example to illustrate how the iterator function works:"
   ]
  },
  {
   "cell_type": "code",
   "execution_count": 15,
   "id": "c651e00b-af2d-4cd1-9ab4-5cfd9b264660",
   "metadata": {},
   "outputs": [
    {
     "name": "stdout",
     "output_type": "stream",
     "text": [
      "1\n",
      "2\n",
      "3\n"
     ]
    }
   ],
   "source": [
    "my_list = [1, 2, 3, 4, 5]\n",
    "my_iterator = iter(my_list)\n",
    "\n",
    "print(next(my_iterator))  # Output: 1\n",
    "print(next(my_iterator))  # Output: 2\n",
    "print(next(my_iterator))  # Output: 3"
   ]
  },
  {
   "cell_type": "markdown",
   "id": "8004949d-7f36-4d31-9092-a17f117143ce",
   "metadata": {},
   "source": [
    "In this example, my_list is an iterable object, and my_iterator is the iterator object created using the iterator function. We can use the next() function to retrieve elements\n",
    "from my_iterator one at a time. Each call to next() returns the next element in the sequence until there are no more elements left, at which point it raises a StopIteration exception."
   ]
  },
  {
   "cell_type": "markdown",
   "id": "9083b7be-89a7-46d3-b2e4-df3aebb92ade",
   "metadata": {},
   "source": [
    "6. Write a code that generates the squares of numbers from 1 to n usising a generator"
   ]
  },
  {
   "cell_type": "code",
   "execution_count": 17,
   "id": "b3666c2e-9798-41d6-81da-cc4c830739e4",
   "metadata": {},
   "outputs": [],
   "source": [
    "def fib(n):\n",
    "    a=0\n",
    "    b=1\n",
    "    for i in range(n): #if n=4, 0, 1, 2, 3\n",
    "        yield a\n",
    "        a, b = b, a+b     "
   ]
  },
  {
   "cell_type": "code",
   "execution_count": 22,
   "id": "c99c4ba6-105b-4066-a61d-1adfe8a36694",
   "metadata": {},
   "outputs": [],
   "source": [
    "x = fib(50)"
   ]
  },
  {
   "cell_type": "code",
   "execution_count": 23,
   "id": "863573a3-6d16-4c6c-bfb7-f5f0db1aa63a",
   "metadata": {},
   "outputs": [
    {
     "data": {
      "text/plain": [
       "0"
      ]
     },
     "execution_count": 23,
     "metadata": {},
     "output_type": "execute_result"
    }
   ],
   "source": [
    "next(x)"
   ]
  },
  {
   "cell_type": "code",
   "execution_count": 24,
   "id": "a427c490-d2a2-4b9d-99ae-a4f01d224b03",
   "metadata": {},
   "outputs": [
    {
     "data": {
      "text/plain": [
       "1"
      ]
     },
     "execution_count": 24,
     "metadata": {},
     "output_type": "execute_result"
    }
   ],
   "source": [
    "next(x)"
   ]
  },
  {
   "cell_type": "code",
   "execution_count": 25,
   "id": "74f2ac1c-344e-4404-8479-3256177770af",
   "metadata": {},
   "outputs": [
    {
     "data": {
      "text/plain": [
       "1"
      ]
     },
     "execution_count": 25,
     "metadata": {},
     "output_type": "execute_result"
    }
   ],
   "source": [
    "next(x)"
   ]
  },
  {
   "cell_type": "code",
   "execution_count": 26,
   "id": "810604fe-709c-423c-9829-4bdf15d61745",
   "metadata": {},
   "outputs": [
    {
     "data": {
      "text/plain": [
       "2"
      ]
     },
     "execution_count": 26,
     "metadata": {},
     "output_type": "execute_result"
    }
   ],
   "source": [
    "next(x)"
   ]
  },
  {
   "cell_type": "markdown",
   "id": "87cdbc98-0d40-45e6-9e35-815e9faf49b8",
   "metadata": {},
   "source": [
    "7. Write a code that generates palindromic numbers up to n using a generators"
   ]
  },
  {
   "cell_type": "code",
   "execution_count": 29,
   "id": "0613a8a6-badb-4d8c-b5c8-cb5a1356791d",
   "metadata": {},
   "outputs": [
    {
     "name": "stdout",
     "output_type": "stream",
     "text": [
      "Palindromic numbers up to 10 :\n",
      "0\n",
      "1\n",
      "2\n",
      "3\n",
      "4\n",
      "5\n",
      "6\n",
      "7\n",
      "8\n",
      "9\n"
     ]
    }
   ],
   "source": [
    "def is_palindrome(num):\n",
    "    return str(num) == str(num)[::-1]\n",
    "\n",
    "def generate_palindromes(n):\n",
    "    for num in range(n):\n",
    "        if is_palindrome(num):\n",
    "            yield num\n",
    "\n",
    "# Example usage:\n",
    "n = 10\n",
    "palindrome_generator = generate_palindromes(n)\n",
    "print(\"Palindromic numbers up to\", n, \":\")\n",
    "for palindrome in palindrome_generator:\n",
    "    print(palindrome)"
   ]
  },
  {
   "cell_type": "markdown",
   "id": "14880d5e-aa19-46d3-88f7-d2c1ee032477",
   "metadata": {},
   "source": [
    "8. Write a code that generates even numbers from 2 to n using a generators"
   ]
  },
  {
   "cell_type": "code",
   "execution_count": 33,
   "id": "b57a19f4-0c37-4f57-8d3c-9ed9609ca2bb",
   "metadata": {},
   "outputs": [
    {
     "name": "stdout",
     "output_type": "stream",
     "text": [
      "Even numbers\n",
      "2 4 6 8 10 "
     ]
    }
   ],
   "source": [
    "def generate_even_numbers(n):\n",
    "    for i in range(2, n+1, 2):\n",
    "        yield i\n",
    "n = 10\n",
    "even_numbers_gen = generate_even_numbers(n)\n",
    "print(\"Even numbers\")\n",
    "for num in even_numbers_gen:\n",
    "    print(num, end=\" \")"
   ]
  },
  {
   "cell_type": "markdown",
   "id": "5f1753d1-2b2f-44e9-a618-8a2fd1285fce",
   "metadata": {},
   "source": [
    "9. Write a code that generates powers of two up to n using a generators"
   ]
  },
  {
   "cell_type": "code",
   "execution_count": 36,
   "id": "26547432-17e2-490a-ad92-10065025d1e6",
   "metadata": {},
   "outputs": [
    {
     "name": "stdout",
     "output_type": "stream",
     "text": [
      "Powers\n",
      "1 2 4 8 16 "
     ]
    }
   ],
   "source": [
    "def generate_powers_of_two(n):\n",
    "    power_of_two = 1\n",
    "    while power_of_two <= n:\n",
    "        yield power_of_two\n",
    "        power_of_two *= 2\n",
    "\n",
    "n = 20\n",
    "powers_of_two_gen = generate_powers_of_two(n)\n",
    "print(\"Powers\")\n",
    "for power in powers_of_two_gen:\n",
    "    print(power, end=\" \")"
   ]
  },
  {
   "cell_type": "markdown",
   "id": "43c55a02-3053-4628-8e59-a96be1648ba4",
   "metadata": {},
   "source": [
    "10. Write a code that generates prime numbers up to n using a generator."
   ]
  },
  {
   "cell_type": "code",
   "execution_count": 49,
   "id": "5821d4db-c80a-4d02-ab50-31d9b3a34ae6",
   "metadata": {},
   "outputs": [
    {
     "name": "stdout",
     "output_type": "stream",
     "text": [
      "2 3 5 7 11 13 17 19 23 29 "
     ]
    }
   ],
   "source": [
    "def is_prime(num):\n",
    "    if num <= 1:\n",
    "        return False\n",
    "    for i in range(2, int(num**0.5) + 1):\n",
    "        if num % i == 0:\n",
    "            return False\n",
    "    return True\n",
    "\n",
    "def generate_prime_numbers(n):\n",
    "    for num in range(2, n+1):\n",
    "        if is_prime(num):\n",
    "            yield num\n",
    "\n",
    "# Example usage:\n",
    "n = 30\n",
    "prime_numbers_gen = generate_prime_numbers(n)\n",
    "for prime in prime_numbers_gen:\n",
    "    print(prime, end=\" \")\n"
   ]
  },
  {
   "cell_type": "markdown",
   "id": "23d11c0a-e091-495a-b1b3-ea35eca0a4d5",
   "metadata": {},
   "source": [
    "11. Write a code that uses a lambda function to calculate the sum of two numbers"
   ]
  },
  {
   "cell_type": "code",
   "execution_count": 4,
   "id": "7d1a6e63-1a0b-4063-9659-6041e3d587bd",
   "metadata": {},
   "outputs": [
    {
     "data": {
      "text/plain": [
       "14"
      ]
     },
     "execution_count": 4,
     "metadata": {},
     "output_type": "execute_result"
    }
   ],
   "source": [
    "add=lambda a, b : a + b \n",
    "add(9, 5)"
   ]
  },
  {
   "cell_type": "markdown",
   "id": "718677f1-ad9c-4c79-9b1e-28780a36e249",
   "metadata": {},
   "source": [
    "12. Write a code that uses a lambda function to calculate the square of a given number"
   ]
  },
  {
   "cell_type": "code",
   "execution_count": 72,
   "id": "c478f16b-e283-4338-93b2-f06c092b52d4",
   "metadata": {},
   "outputs": [
    {
     "data": {
      "text/plain": [
       "16"
      ]
     },
     "execution_count": 72,
     "metadata": {},
     "output_type": "execute_result"
    }
   ],
   "source": [
    "square = lambda x: x**2\n",
    "square(4)"
   ]
  },
  {
   "cell_type": "markdown",
   "id": "89e735f3-99eb-4bc9-992d-b7fc439d178a",
   "metadata": {},
   "source": [
    "13.  Write a code that uses a lambda function to check whether a given number  is even or not"
   ]
  },
  {
   "cell_type": "code",
   "execution_count": 73,
   "id": "4c4d3ace-9098-400b-aeb5-02feac69091b",
   "metadata": {},
   "outputs": [
    {
     "name": "stdout",
     "output_type": "stream",
     "text": [
      "6 is even.\n"
     ]
    }
   ],
   "source": [
    "is_even = lambda x: x % 2 == 0\n",
    "\n",
    "num = 6\n",
    "if is_even(num):\n",
    "    print(num, \"is even.\")\n",
    "else:\n",
    "    print(num, \"is odd.\")"
   ]
  },
  {
   "cell_type": "markdown",
   "id": "99731526-5773-4027-8007-132e288432d3",
   "metadata": {},
   "source": [
    "15. Write a code that uses a lambda function to concatenate two strings"
   ]
  },
  {
   "cell_type": "code",
   "execution_count": 77,
   "id": "a0058c98-5ccd-4c7f-9c99-063c3d81452e",
   "metadata": {},
   "outputs": [
    {
     "name": "stdout",
     "output_type": "stream",
     "text": [
      "Concatenated string: PW Skill\n"
     ]
    }
   ],
   "source": [
    "concat_strings = lambda s1, s2: s1 + s2\n",
    "\n",
    "# Example usage:\n",
    "s1 = \"PW\"\n",
    "s2 = \" Skill\"\n",
    "print(\"Concatenated string:\", concat_strings(s1, s2))"
   ]
  },
  {
   "cell_type": "markdown",
   "id": "701297f8-5b9e-4add-93f0-2216f1a10602",
   "metadata": {},
   "source": [
    "16. Write a code that uses a lambda function to find the maximum of three given numbers. "
   ]
  },
  {
   "cell_type": "code",
   "execution_count": 1,
   "id": "e5dd95e5-30cc-4478-903b-3e3f060a8ae8",
   "metadata": {},
   "outputs": [
    {
     "name": "stdout",
     "output_type": "stream",
     "text": [
      "Maximum numbers: 20\n"
     ]
    }
   ],
   "source": [
    "max_of_three = lambda a, b, c: max(a, b, c)\n",
    "\n",
    "num1 = 10\n",
    "num2 = 20\n",
    "num3 = 15\n",
    "\n",
    "maximum = max_of_three(num1, num2, num3)\n",
    "print(\"Maximum numbers:\", maximum)"
   ]
  },
  {
   "cell_type": "markdown",
   "id": "f5048c01-e12a-4f4b-a911-a939bf613229",
   "metadata": {},
   "source": [
    "17. Write a code that generates the squares of even numbers from a given list."
   ]
  },
  {
   "cell_type": "code",
   "execution_count": 3,
   "id": "d09ba016-146e-409c-904a-d6975938a1f8",
   "metadata": {},
   "outputs": [
    {
     "name": "stdout",
     "output_type": "stream",
     "text": [
      "Squares of even numbers: [4, 16, 36, 64, 100]\n"
     ]
    }
   ],
   "source": [
    "numbers = [1, 2, 3, 4, 5, 6, 7, 8, 9, 10]\n",
    "squares_of_even_numbers = [num ** 2 for num in numbers if num % 2 == 0]\n",
    "print(\"Squares of even numbers:\", squares_of_even_numbers)"
   ]
  },
  {
   "cell_type": "markdown",
   "id": "1b645971-c988-48ae-9b64-d26e7edd437f",
   "metadata": {},
   "source": [
    "19. Write a code that doubles the values of odd numbers from a given list."
   ]
  },
  {
   "cell_type": "code",
   "execution_count": 20,
   "id": "2ddf94eb-5edc-4eb4-91c6-0e5b37e25fc1",
   "metadata": {},
   "outputs": [
    {
     "name": "stdout",
     "output_type": "stream",
     "text": [
      "Doubled values of odd numbers: [2, 2, 6, 4, 10, 6, 14, 8, 18, 10]\n"
     ]
    }
   ],
   "source": [
    "\n",
    "numbers = [1, 2, 3, 4, 5, 6, 7, 8, 9, 10]\n",
    "\n",
    "doubled_odd_numbers = [num * 2 if num % 2 != 0 else num for num in numbers]\n",
    "\n",
    "print(\"Doubled values of odd numbers:\", doubled_odd_numbers)\n"
   ]
  },
  {
   "cell_type": "markdown",
   "id": "a1980751-1e56-441a-bdb2-d5bd07aebee4",
   "metadata": {},
   "source": [
    "20. Write a code that calculates the sum of cubes of numbers from a given list."
   ]
  },
  {
   "cell_type": "code",
   "execution_count": 14,
   "id": "9bcb59ec-f83c-4dd0-aaca-7280aa1b64a5",
   "metadata": {},
   "outputs": [
    {
     "name": "stdout",
     "output_type": "stream",
     "text": [
      "Sum of cubes of numbers: 225\n"
     ]
    }
   ],
   "source": [
    "numbers = [1, 2, 3, 4, 5]\n",
    "\n",
    "sum_of_cubes = sum(num ** 3 for num in numbers)\n",
    "\n",
    "print(\"Sum of cubes of numbers:\", sum_of_cubes)\n"
   ]
  },
  {
   "cell_type": "markdown",
   "id": "bf7ccbd3-e968-4cd4-93d6-c0304164ecd5",
   "metadata": {},
   "source": [
    "21. Write a code that filters out prime numbers from a given list."
   ]
  },
  {
   "cell_type": "code",
   "execution_count": 25,
   "id": "6d1f2ddb-723b-49bf-ace4-0cba5070920c",
   "metadata": {},
   "outputs": [
    {
     "name": "stdout",
     "output_type": "stream",
     "text": [
      "Prime numbers: [2, 3, 5, 7]\n"
     ]
    }
   ],
   "source": [
    "\n",
    "def is_prime(n):\n",
    "    if n <= 1:\n",
    "        return False\n",
    "    if n == 2:\n",
    "        return True\n",
    "    if n % 2 == 0:\n",
    "        return False\n",
    "    i = 3\n",
    "    while i * i <= n:\n",
    "        if n % i == 0:\n",
    "            return False\n",
    "        i += 2\n",
    "    return True\n",
    "\n",
    "numbers = [1, 2, 3, 4, 5, 6, 7, 8, 9, 10]\n",
    "\n",
    "prime_numbers = list(filter(is_prime, numbers))\n",
    "\n",
    "print(\"Prime numbers:\", prime_numbers)\n"
   ]
  },
  {
   "cell_type": "markdown",
   "id": "590a00e9-2092-41e0-9dec-0264f5fd1b0a",
   "metadata": {},
   "source": [
    "22. Write a code that uses a lambda function to calculate the sum of two numbers."
   ]
  },
  {
   "cell_type": "code",
   "execution_count": 26,
   "id": "46dc4fa5-d53e-4e8a-8fd5-bdfd270d0d42",
   "metadata": {},
   "outputs": [
    {
     "data": {
      "text/plain": [
       "14"
      ]
     },
     "execution_count": 26,
     "metadata": {},
     "output_type": "execute_result"
    }
   ],
   "source": [
    "add=lambda a, b : a + b \n",
    "add(9, 5)"
   ]
  },
  {
   "cell_type": "markdown",
   "id": "cbc7c852-efa1-4082-aa1e-83a221e33950",
   "metadata": {},
   "source": [
    "23. Write a code that uses a lambda function to calculate the square of a given number."
   ]
  },
  {
   "cell_type": "code",
   "execution_count": 27,
   "id": "b4286d7c-d63a-4135-8c5d-e34c7a7cc0bf",
   "metadata": {},
   "outputs": [
    {
     "data": {
      "text/plain": [
       "25"
      ]
     },
     "execution_count": 27,
     "metadata": {},
     "output_type": "execute_result"
    }
   ],
   "source": [
    "sq=lambda x : x**2\n",
    "sq(5)"
   ]
  },
  {
   "cell_type": "markdown",
   "id": "0074f5f8-9207-47c3-b739-9c8b6b2f15e5",
   "metadata": {},
   "source": [
    "24. Write a code that uses a lambda function to check whether a given number is even or odd."
   ]
  },
  {
   "cell_type": "code",
   "execution_count": 29,
   "id": "36fe32c9-ccd5-4351-9184-e5e409490048",
   "metadata": {},
   "outputs": [
    {
     "name": "stdout",
     "output_type": "stream",
     "text": [
      "10 is even\n"
     ]
    }
   ],
   "source": [
    "check_even = lambda x: x % 2 == 0\n",
    "num = 10\n",
    "if check_even(num):\n",
    "    print(num, \"is even\")\n",
    "else:\n",
    "    print(num, \"is odd\")\n"
   ]
  },
  {
   "cell_type": "markdown",
   "id": "c9cb8754-11aa-4c42-9ad0-85fe59d6609c",
   "metadata": {},
   "source": [
    "25. Write a code that uses a lambda function to concatenate two strings."
   ]
  },
  {
   "cell_type": "code",
   "execution_count": 40,
   "id": "57eaa274-811c-4d62-80c3-d9c866a69851",
   "metadata": {},
   "outputs": [
    {
     "name": "stdout",
     "output_type": "stream",
     "text": [
      "Concatenated string: Hello world\n"
     ]
    }
   ],
   "source": [
    "\n",
    "concat_strings = lambda str1, str2: str1 + str2\n",
    "string1 = \"Hello \"\n",
    "string2 = \"world\"\n",
    "result = concat_strings(string1, string2)\n",
    "\n",
    "\n",
    "print(\"Concatenated string:\", result)\n"
   ]
  },
  {
   "cell_type": "markdown",
   "id": "66ea1738-4d95-4d49-b6c1-57289f8adb6b",
   "metadata": {},
   "source": [
    "26. Write a code that uses a lambda function to find the maximum of three given numbers."
   ]
  },
  {
   "cell_type": "code",
   "execution_count": 41,
   "id": "94c8ff86-4e97-42e7-8a4d-b9d36cf0dbe2",
   "metadata": {},
   "outputs": [
    {
     "name": "stdout",
     "output_type": "stream",
     "text": [
      "Maximum numbers: 20\n"
     ]
    }
   ],
   "source": [
    "max_of_three = lambda a, b, c: max(a, b, c)\n",
    "\n",
    "num1 = 10\n",
    "num2 = 20\n",
    "num3 = 15\n",
    "\n",
    "maximum = max_of_three(num1, num2, num3)\n",
    "print(\"Maximum numbers:\", maximum)"
   ]
  },
  {
   "cell_type": "markdown",
   "id": "78dcd6de-bbd4-4d83-bce2-1edc6ce28fc7",
   "metadata": {},
   "source": [
    "27. What is encapsulation in OOP?\n",
    "\n",
    "Encapsulation is one of the fundamental principles of object-oriented programming (OOP). It refers to the bundling of data and methods that operate on the data into a single unit called a class. Encapsulation allows objects to hide their internal state and require all interactions to be performed through an object's methods.\n",
    "\n",
    "In encapsulation:\n",
    "\n",
    "Data hiding: The internal state of an object is hidden from the outside world, and access to it is restricted to the methods of the class. This prevents external code from directly manipulating an object's state, which helps maintain the integrity of the data and prevents unintended modifications.\n",
    "\n",
    "Access control: Access modifiers such as private, protected, and public are used to control the visibility of class members (attributes and methods). Private members are accessible only within the same class, protected members are accessible within the same class and its subclasses, and public members are accessible from any code that has access to the object.\n",
    "\n"
   ]
  },
  {
   "cell_type": "markdown",
   "id": "cecb1a2b-49f1-42a2-bf69-0127920903cd",
   "metadata": {},
   "source": [
    "28. Explain the use of access modifiers in Python classes.\n",
    "\n",
    "In Python, access modifiers are used to control the visibility of class members, including attributes and methods, from outside the class. Although Python does not have strict access modifiers like some other programming languages (e.g., Java), it provides conventions and mechanisms for achieving similar effects. The primary access modifiers in Python are:\n",
    "\n",
    "Public: By default, all attributes and methods in a Python class are considered public and can be accessed from outside the class. Public members can be accessed directly using the dot operator (.) after creating an instance of the class.\n",
    "\n",
    "Protected: In Python, attributes and methods prefixed with a single underscore (_) are conventionally considered protected. This indicates that they are intended for internal use within the class or its subclasses. While technically accessible from outside the class, the single underscore serves as a signal to other developers that these members are not part of the public interface and should be used with caution.\n",
    "\n",
    "Private: In Python, attributes and methods prefixed with two underscores (__) are conventionally considered private. This indicates that they are intended for internal use within the class only and should not be accessed or modified from outside the class. Python performs name mangling on private members, making it difficult to access them directly from outside the class.\n"
   ]
  },
  {
   "cell_type": "code",
   "execution_count": 43,
   "id": "0cad77f4-3d24-4129-9232-f6159aa70dd4",
   "metadata": {},
   "outputs": [],
   "source": [
    "#puplic\n",
    "class Student:\n",
    "    def __init__(self, name, degree):\n",
    "        self.name = name\n",
    "        self.degree = degree"
   ]
  },
  {
   "cell_type": "code",
   "execution_count": 3,
   "id": "9b21f7ba-65f5-443a-ae08-b925bfed3b23",
   "metadata": {},
   "outputs": [],
   "source": [
    "#protected\n",
    "class College:\n",
    "    def __init__(self):\n",
    "        self._college_name = \"svkt\"\n",
    "        \n",
    "class Student(College):\n",
    "    def __init__(self, name):\n",
    "        self.name = name\n",
    "        super().__init__()\n",
    "    \n",
    "    def show(self):\n",
    "        print(\"student name\", self.name, \"College\", self._college_name)"
   ]
  },
  {
   "cell_type": "code",
   "execution_count": 44,
   "id": "e669fb4a-3323-4501-b071-2065fca90340",
   "metadata": {},
   "outputs": [],
   "source": [
    "#private\n",
    "class bike:\n",
    "    def __init__(self, year, make, speed, model):\n",
    "        self.__year = year\n",
    "        self.__make = make\n",
    "        self.__speed = speed\n",
    "        self.__model = model\n",
    "        \n",
    "    def set_speed(self, speed):\n",
    "        self.__speed= \"neg\" if speed <0 else speed\n",
    "    def get_speed(self):\n",
    "        return self.__speed"
   ]
  },
  {
   "cell_type": "markdown",
   "id": "21a86bf1-1f11-4e0d-945a-54d503578c41",
   "metadata": {},
   "source": [
    "29. What is inheritance in OOP?\n",
    "\n",
    "Inheritance is a fundamental concept in object-oriented programming (OOP) that allows a new class (subclass) to inherit properties and behaviors (attributes and methods) from an existing class (superclass or base class). The subclass can then extend or modify the inherited properties and behaviors, as well as add new ones, without modifying the original class. Inheritance enables code reuse, promotes modularity, and facilitates the creation of hierarchical relationships among classes.\n",
    "\n",
    "Key points about inheritance in OOP include:\n",
    "\n",
    "Superclass and Subclass: Inheritance involves two classes—the superclass (or base class) and the subclass. The superclass is the existing class from which properties and behaviors are inherited, while the subclass is the new class that inherits from the superclass.\n",
    "\n",
    "Code Reuse: By inheriting from a superclass, a subclass can reuse the properties and behaviors defined in the superclass, reducing code duplication and promoting modularity.\n",
    "\n",
    "Extension and Modification: Subclasses can extend the functionality of the superclass by adding new properties and methods or modifying existing ones. This allows for customization and specialization of behavior while maintaining the core functionality inherited from the superclass.\n",
    "\n",
    "Hierarchical Relationships: Inheritance enables the creation of hierarchical relationships among classes, where subclasses can further subclassed to create deeper levels of specialization.\n",
    "\n",
    "Single Inheritance vs. Multiple Inheritance: Languages like Python support single inheritance, where a class can inherit from only one superclass. Other languages, such as C++ and Java, support multiple inheritance, where a class can inherit from multiple superclasses.\n",
    "\n",
    "Inheritance Hierarchy: Inheritance relationships form a hierarchy, with the superclass at the top and subclasses below it. Subclasses inherit from their immediate superclass and also indirectly inherit from all superclasses higher up in the hierarchy.\n",
    "\n",
    "Inheritance facilitates the creation of more flexible, modular, and scalable code by allowing developers to build upon existing classes and adapt them to specific requirements. It promotes the principle of \"is-a\" relationship, where a subclass is considered to be a specialized type of its superclass.\n",
    "\n"
   ]
  },
  {
   "cell_type": "markdown",
   "id": "de1ddfbf-06cd-4155-9211-7f9875951314",
   "metadata": {},
   "source": [
    "30. Define polymorphism in OOP.\n",
    "\n",
    "Polymorphism is a fundamental concept in object-oriented programming (OOP) that allows objects of different classes to be treated as objects of a common superclass. It enables a single interface to be used for entities of different types, promoting code reuse, flexibility, and extensibility. Polymorphism comes in two main forms:\n",
    "\n",
    "Compile-time Polymorphism (Static Binding or Early Binding): Compile-time polymorphism refers to the ability to select different behaviors at compile time based on the types of arguments passed to a function or method. This is typically achieved through method overloading and operator overloading.\n",
    "\n",
    "Run-time Polymorphism (Dynamic Binding or Late Binding): Run-time polymorphism refers to the ability to select different behaviors at run time based on the actual type of the object. This is typically achieved through method overriding and virtual functions (also known as dynamic dispatch).\n",
    "\n",
    "Polymorphism enables code to be written in a way that is more generic and flexible, allowing for easier maintenance and extension. It promotes the principle of \"code to an interface, not an implementation,\" allowing different implementations of an interface to be swapped out without affecting the code that uses them. Polymorphism is a powerful tool for achieving abstraction and modularity in object-oriented systems.\n"
   ]
  },
  {
   "cell_type": "markdown",
   "id": "db74ff5b-58ed-4a05-94ce-761efdc6669c",
   "metadata": {},
   "source": [
    "31. Explain method overriding in Python.\n",
    "\n",
    "Method overriding in Python refers to the ability of a subclass to provide a specific implementation of a method that is already defined in its superclass. When a method is overridden in a subclass, the subclass provides a new implementation of the method that overrides the implementation inherited from the superclass."
   ]
  },
  {
   "cell_type": "code",
   "execution_count": 45,
   "id": "f9e6210c-7a71-411b-ad0a-d51cddd89db9",
   "metadata": {},
   "outputs": [],
   "source": [
    "class Fruit:\n",
    "    def Fruit_info(self):\n",
    "        print(\"inside parent class\")\n",
    "class Mango(Fruit):\n",
    "    def Fruit_info(self):\n",
    "        print(\"inside child class\")\n",
    "    def Mango_info(self):\n",
    "        print(\"inside child class\")"
   ]
  },
  {
   "cell_type": "code",
   "execution_count": 46,
   "id": "6586f8ee-7ca5-472c-bbb4-6588889fbbad",
   "metadata": {},
   "outputs": [
    {
     "name": "stdout",
     "output_type": "stream",
     "text": [
      "inside child class\n"
     ]
    }
   ],
   "source": [
    "mango=Mango()\n",
    "mango.Mango_info()"
   ]
  },
  {
   "cell_type": "code",
   "execution_count": 48,
   "id": "46c023cf-15fd-4b98-98a9-a5797a476396",
   "metadata": {},
   "outputs": [
    {
     "name": "stdout",
     "output_type": "stream",
     "text": [
      "inside child class\n"
     ]
    }
   ],
   "source": [
    "mango.Fruit_info()#method overriding >>child class is very pwerful"
   ]
  },
  {
   "cell_type": "markdown",
   "id": "f48b2fa1-284c-4351-a0fa-d394d46ee420",
   "metadata": {},
   "source": [
    "32. Define a parent class Animal with a method make_sound that prints \"Generic animal sound\". Create a child class Dog inheriting from Animal with a method make_sound that prints \"Woof!\"."
   ]
  },
  {
   "cell_type": "code",
   "execution_count": 49,
   "id": "e2b9153f-4580-462d-a3ff-187096688759",
   "metadata": {},
   "outputs": [],
   "source": [
    "class Animal:\n",
    "    def make_sound(self):\n",
    "        print(\"Generic animal sound\")\n",
    "\n",
    "class Dog(Animal):\n",
    "    def make_sound(self):\n",
    "        print(\"Woof!\")\n"
   ]
  },
  {
   "cell_type": "code",
   "execution_count": 53,
   "id": "23c803b0-6b25-4c23-a4a1-adfc5ac204db",
   "metadata": {},
   "outputs": [
    {
     "name": "stdout",
     "output_type": "stream",
     "text": [
      "Generic animal sound\n"
     ]
    }
   ],
   "source": [
    "a = Animal()\n",
    "a.make_sound()"
   ]
  },
  {
   "cell_type": "code",
   "execution_count": 58,
   "id": "5f10ee87-5b49-4f18-8747-6f8a3a8be34d",
   "metadata": {},
   "outputs": [
    {
     "name": "stdout",
     "output_type": "stream",
     "text": [
      "Woof!\n"
     ]
    }
   ],
   "source": [
    "d = Dog()\n",
    "d.make_sound()"
   ]
  },
  {
   "cell_type": "markdown",
   "id": "5203e6c3-c877-4965-bb49-0127ee272b09",
   "metadata": {},
   "source": [
    "33. Define a method move in the Animal class that prints \"Animal moves\". Override the move method in the Dog class to print \"Dog runs.\""
   ]
  },
  {
   "cell_type": "code",
   "execution_count": 60,
   "id": "ccdddd55-ca52-42be-bd6b-6dd3e03d2d89",
   "metadata": {},
   "outputs": [],
   "source": [
    "class Animal:\n",
    "    def move(self):\n",
    "        print(\"Animal moves\")\n",
    "\n",
    "    def make_sound(self):\n",
    "        print(\"Generic animal sound\")\n",
    "\n",
    "class Dog(Animal):\n",
    "    def move(self):\n",
    "        print(\"Dog runs\")\n",
    "\n",
    "    def make_sound(self):\n",
    "        print(\"Woof!\")\n"
   ]
  },
  {
   "cell_type": "code",
   "execution_count": 61,
   "id": "8642ba42-78f6-4709-a7c2-b90e8bafa467",
   "metadata": {},
   "outputs": [],
   "source": [
    "dog = Dog()"
   ]
  },
  {
   "cell_type": "code",
   "execution_count": 63,
   "id": "da92a93a-82d7-400f-9085-51c9489390af",
   "metadata": {},
   "outputs": [
    {
     "name": "stdout",
     "output_type": "stream",
     "text": [
      "Dog runs\n"
     ]
    }
   ],
   "source": [
    "dog.move()"
   ]
  },
  {
   "cell_type": "code",
   "execution_count": 64,
   "id": "2a744002-76cf-4ed6-8316-f272e19845b8",
   "metadata": {},
   "outputs": [
    {
     "name": "stdout",
     "output_type": "stream",
     "text": [
      "Woof!\n"
     ]
    }
   ],
   "source": [
    "dog.make_sound()"
   ]
  },
  {
   "cell_type": "markdown",
   "id": "d289bcab-2655-40f8-b9dd-330569e16e8f",
   "metadata": {},
   "source": [
    "34. Create a class Mammal with a method reproduce that prints \"Giving birth to live young.\" Create a class DogMammal inheriting from both Dog and Mammal."
   ]
  },
  {
   "cell_type": "code",
   "execution_count": 65,
   "id": "486bf356-fb94-4629-beb6-6e00c1ca71d8",
   "metadata": {},
   "outputs": [],
   "source": [
    "class Mammal:\n",
    "    def reproduce(self):\n",
    "        print(\"Giving birth to live young.\")\n",
    "\n",
    "class Dog:\n",
    "    def bark(self):\n",
    "        print(\"Woof!\")\n",
    "\n",
    "class DogMammal(Dog, Mammal):\n",
    "    pass\n"
   ]
  },
  {
   "cell_type": "code",
   "execution_count": 66,
   "id": "dafed406-6d16-4f6c-abd0-2d82e20820a8",
   "metadata": {},
   "outputs": [],
   "source": [
    "DM =  DogMammal()"
   ]
  },
  {
   "cell_type": "code",
   "execution_count": 67,
   "id": "9972a268-1e89-4ddc-8c7e-1a23f77fa455",
   "metadata": {},
   "outputs": [
    {
     "name": "stdout",
     "output_type": "stream",
     "text": [
      "Woof!\n"
     ]
    }
   ],
   "source": [
    "DM.bark()"
   ]
  },
  {
   "cell_type": "code",
   "execution_count": 68,
   "id": "9b342f19-15c5-4772-b1b8-c260513b88ae",
   "metadata": {},
   "outputs": [
    {
     "name": "stdout",
     "output_type": "stream",
     "text": [
      "Giving birth to live young.\n"
     ]
    }
   ],
   "source": [
    "DM.reproduce()"
   ]
  },
  {
   "cell_type": "markdown",
   "id": "aada801f-1a12-414f-928c-2c63dbae7b73",
   "metadata": {},
   "source": [
    "35. Create a class German Shepherd inheriting from Dog and override the make_sound method to print \"Bark!\""
   ]
  },
  {
   "cell_type": "code",
   "execution_count": 69,
   "id": "630f2d67-981f-4f5b-b146-5d2294c106de",
   "metadata": {},
   "outputs": [],
   "source": [
    "class Dog:\n",
    "    def make_sound(self):\n",
    "        print(\"Woof!\")\n",
    "\n",
    "class GermanShepherd(Dog):\n",
    "    def make_sound(self):\n",
    "        print(\"Bark!\")\n"
   ]
  },
  {
   "cell_type": "code",
   "execution_count": 72,
   "id": "c97ebe44-c1ee-4af1-99fa-ffcc2ba0e7d3",
   "metadata": {},
   "outputs": [
    {
     "name": "stdout",
     "output_type": "stream",
     "text": [
      "Bark!\n"
     ]
    }
   ],
   "source": [
    "type = GermanShepherd()\n",
    "type.make_sound()"
   ]
  },
  {
   "cell_type": "markdown",
   "id": "02fdc248-8e3b-4048-9b51-dda1b1a54299",
   "metadata": {},
   "source": [
    "36. Define constructors in both the Animal and Dog classes with different initialization parameters."
   ]
  },
  {
   "cell_type": "code",
   "execution_count": 7,
   "id": "ca9321bb-0a28-4329-9f21-b11c481ed8a8",
   "metadata": {},
   "outputs": [],
   "source": [
    "class Animal:\n",
    "    def __init__(self, species):\n",
    "        self.species = species\n",
    "\n",
    "class Dog(Animal):\n",
    "    def __init__(self, breed):\n",
    "        super().__init__(\"Canine\")\n",
    "        self.breed = breed"
   ]
  },
  {
   "cell_type": "code",
   "execution_count": 12,
   "id": "23ad6963-dcd8-4fb2-ba5e-638583d1ba86",
   "metadata": {},
   "outputs": [],
   "source": [
    "d = Dog(Animal)"
   ]
  },
  {
   "cell_type": "code",
   "execution_count": 13,
   "id": "9fbee1b2-d02f-42d6-aab6-dc29a032574a",
   "metadata": {},
   "outputs": [
    {
     "data": {
      "text/plain": [
       "'Canine'"
      ]
     },
     "execution_count": 13,
     "metadata": {},
     "output_type": "execute_result"
    }
   ],
   "source": [
    "d.species"
   ]
  },
  {
   "cell_type": "code",
   "execution_count": 14,
   "id": "645e81f3-ee70-4842-a66c-90ef753db3aa",
   "metadata": {},
   "outputs": [
    {
     "data": {
      "text/plain": [
       "__main__.Animal"
      ]
     },
     "execution_count": 14,
     "metadata": {},
     "output_type": "execute_result"
    }
   ],
   "source": [
    "d.breed"
   ]
  },
  {
   "cell_type": "markdown",
   "id": "44060a4d-22d5-4492-a1b6-e1ede8709af2",
   "metadata": {},
   "source": [
    "37. What is abstraction in Python? How is it implemented?\n",
    "\n",
    "\n",
    "Abstraction in Python refers to the concept of hiding the complex implementation details of a class or function and only exposing the necessary features or functionalities to the outside world. It allows developers to focus on what an object does rather than how it does it.\n",
    "\n",
    "In Python, abstraction is typically implemented using classes and methods. By defining classes with methods that provide a high-level interface, developers can hide the inner workings of those methods, allowing users to interact with the class without needing to understand its internal complexities."
   ]
  },
  {
   "cell_type": "code",
   "execution_count": 17,
   "id": "30e4f32e-fe7d-4db2-b61d-25c28afde8aa",
   "metadata": {},
   "outputs": [],
   "source": [
    "import abc"
   ]
  },
  {
   "cell_type": "code",
   "execution_count": 18,
   "id": "b4ae9676-23d5-4968-95b2-2a18ffdac297",
   "metadata": {},
   "outputs": [],
   "source": [
    "class MBA:\n",
    "    @abc.abstractmethod\n",
    "    def student_details(self):\n",
    "        pass\n",
    "    @abc.abstractmethod\n",
    "    def student_fees(self):\n",
    "        pass\n",
    "    @abc.abstractmethod\n",
    "    def student_exam(self):\n",
    "        pass\n",
    "    "
   ]
  },
  {
   "cell_type": "code",
   "execution_count": 19,
   "id": "6f2dc2c3-384b-40d3-9f60-665b48d9202e",
   "metadata": {},
   "outputs": [],
   "source": [
    "class Marketing (MBA):\n",
    "    def student_details(self):\n",
    "            return \"marketing student imformation\"\n",
    "    def student_exam(self):\n",
    "        return \"marketing exams\"\n",
    "    "
   ]
  },
  {
   "cell_type": "code",
   "execution_count": 20,
   "id": "775637cb-d762-4953-b8e4-6877b7d7f4f9",
   "metadata": {},
   "outputs": [],
   "source": [
    "class Finance (MBA):\n",
    "    def student_details(self):\n",
    "         return \"finance student imformation\"\n",
    "    def student_fees(self):\n",
    "        return\"finance fees structure\"\n",
    "        "
   ]
  },
  {
   "cell_type": "code",
   "execution_count": 21,
   "id": "72f7069b-6f6b-4abf-be8b-bca67a870530",
   "metadata": {},
   "outputs": [],
   "source": [
    "c = MBA()\n",
    "c.student_details()\n",
    "c.student_exam()\n",
    "c.student_fees()  "
   ]
  },
  {
   "cell_type": "code",
   "execution_count": 22,
   "id": "f628a1ba-5053-4688-b63d-aa89c1bb1a3c",
   "metadata": {},
   "outputs": [
    {
     "data": {
      "text/plain": [
       "'marketing exams'"
      ]
     },
     "execution_count": 22,
     "metadata": {},
     "output_type": "execute_result"
    }
   ],
   "source": [
    "m = Marketing()\n",
    "m.student_exam()"
   ]
  },
  {
   "cell_type": "code",
   "execution_count": 23,
   "id": "f962bb57-c060-4c2a-9a09-68c2e81f3ee9",
   "metadata": {},
   "outputs": [
    {
     "data": {
      "text/plain": [
       "'marketing student imformation'"
      ]
     },
     "execution_count": 23,
     "metadata": {},
     "output_type": "execute_result"
    }
   ],
   "source": [
    "m.student_details()"
   ]
  },
  {
   "cell_type": "code",
   "execution_count": 24,
   "id": "17ea8777-680b-44f8-b609-b09f3bcc46ed",
   "metadata": {},
   "outputs": [
    {
     "data": {
      "text/plain": [
       "'finance student imformation'"
      ]
     },
     "execution_count": 24,
     "metadata": {},
     "output_type": "execute_result"
    }
   ],
   "source": [
    "f=Finance()\n",
    "f.student_details()"
   ]
  },
  {
   "cell_type": "markdown",
   "id": "3942e535-1b75-4744-b282-76ba98f89a4c",
   "metadata": {},
   "source": [
    "38. Explain the importance of abstraction in object-oriented programming\n",
    "\n",
    "Abstraction is a fundamental concept in object-oriented programming (OOP) with several key importance:\n",
    "\n",
    "Encapsulation of Complexity: Abstraction allows developers to hide the complex inner workings of a class or module and only expose the necessary functionalities to the outside world. This helps in managing the complexity of large software systems by breaking them down into smaller, more manageable components.\n",
    "\n",
    "Modularity and Reusability: By abstracting away implementation details, classes can be designed to focus on specific tasks or responsibilities. This promotes modularity, where different parts of a system can be developed, tested, and maintained independently. Additionally, since the complexities are hidden, the same abstraction can be reused in different parts of the program or even in different projects, promoting code reusability.\n",
    "\n",
    "Flexibility and Extensibility: Abstraction allows for the creation of interfaces that define a contract for how classes should interact with each other. This enables developers to change the internal implementation of a class without affecting its users, as long as the external interface remains unchanged. This flexibility makes it easier to extend and evolve software systems over time.\n",
    "\n",
    "Simplified Development and Maintenance: By providing a clear and simplified interface, abstraction makes it easier for developers to understand and work with complex systems. It also simplifies debugging and maintenance tasks since changes can be localized to specific components without impacting the entire system.\n",
    "\n",
    "Enhanced Collaboration: Abstraction promotes collaboration among developers by providing clear boundaries and contracts between different parts of a system. This allows team members to work on different components simultaneously without interfering with each other's work, leading to faster development cycles and improved productivity.\n",
    "\n",
    "Overall, abstraction is a powerful tool in OOP that helps in managing complexity, promoting modularity, improving flexibility, and enhancing collaboration, ultimately leading to more robust and maintainable software systems.\n"
   ]
  },
  {
   "cell_type": "markdown",
   "id": "811045dd-1644-47fc-9f80-c2ab66a0d31a",
   "metadata": {},
   "source": [
    "39. How are abstract methods different from regular methods in Python?\n",
    "\n",
    "\n",
    "Abstract methods and regular methods in Python differ in their purpose, behavior, and usage:\n",
    "\n",
    "Purpose:\n",
    "\n",
    "Abstract methods: These are methods defined in abstract classes that are meant to be overridden by subclasses. Abstract methods serve as placeholders, defining a method's signature without providing an implementation. They ensure that subclasses provide their own implementation, enforcing a contract for how subclasses should behave.\n",
    "Regular methods: These are methods that are fully implemented in a class and can be called directly on instances of that class. Regular methods provide specific functionality to the class and can be inherited by subclasses but are not required to be overridden.\n",
    "\n",
    "Behavior:\n",
    "\n",
    "Abstract methods: Abstract methods cannot be instantiated directly. They are meant to be overridden by subclasses. If a subclass fails to override an abstract method, attempting to instantiate the subclass will result in an error.\n",
    "Regular methods: Regular methods can be directly called on instances of the class. They have a complete implementation and can be used to perform specific actions or computations.\n",
    "Usage:\n",
    "\n",
    "Abstract methods:\n",
    "\n",
    "Abstract methods are defined using the @abstractmethod decorator from the abc module. Abstract classes containing abstract methods cannot be instantiated directly. Instead, subclasses must provide concrete implementations for all abstract methods before instances of the subclass can be created.\n",
    "Regular methods: Regular methods are defined without any special decorators. They are implemented directly in a class and can be called on instances of that class. Regular methods can also be inherited by subclasses, and subclasses can choose to override them if necessary.\n",
    "Here's a simple example demonstrating the difference between abstract methods and regular methods:"
   ]
  },
  {
   "cell_type": "markdown",
   "id": "bd2c71f6-be92-487c-94d5-4cf5312b92da",
   "metadata": {},
   "source": [
    "40. How can you achieve abstraction using interfaces in Python?\n",
    "\n",
    "\n",
    "In Python, abstraction using interfaces can be achieved using abstract base classes (ABCs) provided by the abc module. An interface is essentially a blueprint for a class, defining a set of methods that must be implemented by any class that wants to conform to that interface. While Python does not have a built-in keyword for interfaces like some other programming languages (e.g., Java), abstract base classes serve a similar purpose.\n",
    "\n",
    "Here's how you can achieve abstraction using interfaces in Python:\n",
    "\n",
    "Define an Abstract Base Class (ABC): Define an abstract base class using the abc module's ABC class as the base class and mark methods as abstract using the @abstractmethod decorator.\n",
    "\n",
    "Subclass the Abstract Base Class: Create concrete subclasses that inherit from the abstract base class. These subclasses must provide concrete implementations for all the abstract methods defined in the interface.\n",
    "\n",
    "Use Polymorphism: Use polymorphism to treat instances of the concrete subclasses uniformly, based on the interface they conform to.\n",
    "\n",
    "Here's an example demonstrating abstraction using interfaces in Python:\n",
    "\n"
   ]
  },
  {
   "cell_type": "markdown",
   "id": "18a771e0-d209-4712-adb8-0995e6163a7b",
   "metadata": {},
   "source": [
    "41. Can you provide an example of how abstraction can be utilized to create a common interface for a group of related classes in Python?"
   ]
  },
  {
   "cell_type": "code",
   "execution_count": 28,
   "id": "7e6e36f3-5f43-41b3-a645-ab8753fd37a8",
   "metadata": {},
   "outputs": [],
   "source": [
    "class Vehicle:\n",
    "    def vehicle_info(self):\n",
    "        print(\"inside vehicle class\")\n",
    "class Car(Vehicle): \n",
    "    def car_info(self):\n",
    "        print(\"inside car class\")   \n",
    "class SportCar(Car): \n",
    "    def vehicle_info(self):\n",
    "        print(\"inside sportcar class\")  "
   ]
  },
  {
   "cell_type": "code",
   "execution_count": 29,
   "id": "1f4385d1-a30b-4566-b9c3-bce6d8fa174a",
   "metadata": {},
   "outputs": [],
   "source": [
    "vehicle=SportCar()"
   ]
  },
  {
   "cell_type": "code",
   "execution_count": 31,
   "id": "fba6fbdc-b5b1-443a-a23b-ca575502fe16",
   "metadata": {},
   "outputs": [
    {
     "name": "stdout",
     "output_type": "stream",
     "text": [
      "inside sportcar class\n"
     ]
    }
   ],
   "source": [
    "vehicle.vehicle_info()"
   ]
  },
  {
   "cell_type": "markdown",
   "id": "2c5c8eed-cc8d-4fe1-933c-365a74b8db15",
   "metadata": {},
   "source": [
    "40. How can you achieve abstraction using interfaces in Python?"
   ]
  },
  {
   "cell_type": "code",
   "execution_count": 34,
   "id": "2e12bbf9-c941-4134-865e-3ddb039e65bf",
   "metadata": {},
   "outputs": [],
   "source": [
    "class student:\n",
    "    def student(self):\n",
    "        print(\"welcome to pwskills\")\n",
    "class student:\n",
    "    def student(self, name=\"\"):\n",
    "        print(\"welcome to pwskills\", name)\n",
    "class student:\n",
    "    def student(self,name=\"\",course=\"\"):\n",
    "        print(\"welcome to pwskills\", name, course)"
   ]
  },
  {
   "cell_type": "code",
   "execution_count": 35,
   "id": "c8ae16af-8570-4fc7-a724-d2443e05f613",
   "metadata": {},
   "outputs": [],
   "source": [
    "s = student()"
   ]
  },
  {
   "cell_type": "code",
   "execution_count": 36,
   "id": "5a09b1e1-b710-49a2-b4d9-c20a2891ea13",
   "metadata": {},
   "outputs": [
    {
     "name": "stdout",
     "output_type": "stream",
     "text": [
      "welcome to pwskills  \n"
     ]
    }
   ],
   "source": [
    "s.student()"
   ]
  },
  {
   "cell_type": "code",
   "execution_count": 37,
   "id": "188be991-c691-4ea7-afb3-69a4dab20b74",
   "metadata": {},
   "outputs": [
    {
     "name": "stdout",
     "output_type": "stream",
     "text": [
      "welcome to pwskills sonali \n"
     ]
    }
   ],
   "source": [
    "s.student(\"sonali\")"
   ]
  },
  {
   "cell_type": "code",
   "execution_count": 38,
   "id": "77c9aa6a-aa32-4855-a06a-9344c31a193e",
   "metadata": {},
   "outputs": [
    {
     "name": "stdout",
     "output_type": "stream",
     "text": [
      "welcome to pwskills sonali data_analysis\n"
     ]
    }
   ],
   "source": [
    "s.student(\"sonali\", \"data_analysis\")"
   ]
  },
  {
   "cell_type": "markdown",
   "id": "11556f3c-b6db-4e10-ab24-396232ba27ff",
   "metadata": {},
   "source": [
    "43. Define a base class with a method and a subclass that overrides the method."
   ]
  },
  {
   "cell_type": "code",
   "execution_count": 39,
   "id": "f3f162c3-50cd-44eb-a1dd-f48406095479",
   "metadata": {},
   "outputs": [
    {
     "name": "stdout",
     "output_type": "stream",
     "text": [
      "Animal makes a generic sound\n",
      "Dog barks\n"
     ]
    }
   ],
   "source": [
    "class Animal:\n",
    "    def sound(self):\n",
    "        return \"Animal makes a generic sound\"\n",
    "\n",
    "class Dog(Animal):\n",
    "    def sound(self):\n",
    "        return \"Dog barks\"\n",
    "\n",
    "# Instantiate the subclasses\n",
    "animal = Animal()\n",
    "dog = Dog()\n",
    "\n",
    "\n",
    "print(animal.sound())  \n",
    "print(dog.sound())    \n"
   ]
  },
  {
   "cell_type": "markdown",
   "id": "25e93c05-972d-4f33-bc79-a71e66ab2966",
   "metadata": {},
   "source": [
    "44. Define a base class and multiple subclasses with overridden methods."
   ]
  },
  {
   "cell_type": "code",
   "execution_count": 41,
   "id": "c66ee0ab-b84d-4e37-bdec-140c1f785432",
   "metadata": {},
   "outputs": [
    {
     "name": "stdout",
     "output_type": "stream",
     "text": [
      "Car moves on roads\n",
      "Boat moves on water\n",
      "Plane flies in the sky\n"
     ]
    }
   ],
   "source": [
    "class Vehicle:\n",
    "    def move(self):\n",
    "        return \"Vehicle moves\"\n",
    "\n",
    "class Car(Vehicle):\n",
    "    def move(self):\n",
    "        return \"Car moves on roads\"\n",
    "\n",
    "class Boat(Vehicle):\n",
    "    def move(self):\n",
    "        return \"Boat moves on water\"\n",
    "\n",
    "class Plane(Vehicle):\n",
    "    def move(self):\n",
    "        return \"Plane flies in the sky\"\n",
    "\n",
    "# Instantiate the subclasses\n",
    "car = Car()\n",
    "boat = Boat()\n",
    "plane = Plane()\n",
    "\n",
    "\n",
    "print(car.move())   \n",
    "print(boat.move())  \n",
    "print(plane.move()) "
   ]
  },
  {
   "cell_type": "markdown",
   "id": "755f4d66-4923-4ecd-b191-c75d6d047e92",
   "metadata": {},
   "source": [
    "45. How does polymorphism improve code readability and reusability?\n",
    "\n",
    "\n",
    "Polymorphism improves code readability and reusability by allowing objects of different classes to be treated uniformly based on their common interface or behavior. This concept is fundamental to object-oriented programming and is facilitated through inheritance and method overriding. Here's how polymorphism achieves these benefits:\n",
    "\n",
    "Code Readability:\n",
    "\n",
    "Polymorphism allows developers to write code that focuses on what needs to be done rather than how it's done. By defining a common interface, such as a method in a base class, and allowing subclasses to override that method with their own implementations, code becomes more readable and intuitive.\n",
    "When code operates on objects using a common interface, it becomes easier to understand and reason about. Developers can work with objects based on their shared behavior, rather than worrying about the specific implementation details of each class.\n",
    "Code Reusability:\n",
    "\n",
    "Polymorphism promotes code reusability by enabling the same code to be applied to objects of different classes. Since objects are treated uniformly based on their common interface, the same method calls can be used with different objects, reducing the need for redundant code.\n",
    "By designing classes to adhere to a common interface, developers can create reusable components that can be easily integrated into different parts of an application or even in different projects.\n",
    "Polymorphism also supports the open/closed principle of software design, which states that software entities (classes, modules, functions, etc.) should be open for extension but closed for modification. New subclasses can be added to extend the functionality without modifying existing code.\n",
    "Overall, polymorphism enhances code readability by providing a consistent way to interact with objects and improves code reusability by facilitating the reuse of components across different contexts. It encourages modular and maintainable code, leading to more scalable and adaptable software systems."
   ]
  },
  {
   "cell_type": "markdown",
   "id": "0555ca84-91ae-4dcf-a89b-06621a662459",
   "metadata": {},
   "source": [
    "46. Describe how Python supports polymorphism with duck typing.\n",
    "\n",
    "\n",
    "Python supports polymorphism primarily through duck typing, a dynamic typing concept. Duck typing essentially means that the type or class of an object is less important than the methods it defines. If an object implements certain methods or behaviors, it can be used interchangeably with other objects that implement the same methods, regardless of their inheritance hierarchy or explicit type.\n",
    "\n",
    "Here's how Python supports polymorphism with duck typing:\n",
    "\n",
    "No Explicit Type Checking: Unlike statically typed languages, Python does not require explicit type declarations. Instead, it relies on the presence of certain methods or behaviors at runtime. This allows objects to be used in contexts where their behavior is more important than their specific type.\n",
    "\n",
    "\"If it walks like a duck and quacks like a duck, then it must be a duck\": This is the essence of duck typing in Python. The idea is that if an object behaves like a certain type (i.e., it implements the required methods), then it can be treated as that type, regardless of its actual class.\n",
    "\n",
    "Focus on Interfaces: Python encourages programming to interfaces rather than to concrete types. Instead of checking if an object is of a specific type, Python code typically checks whether the object supports the required methods or attributes. This promotes flexibility and code reuse.\n",
    "\n"
   ]
  },
  {
   "cell_type": "markdown",
   "id": "f91baefa-c38e-4be6-ad4d-2edfb06d3004",
   "metadata": {},
   "source": [
    "47. How do you achieve encapsulation in Python?\n",
    "\n",
    "\n",
    "Encapsulation in Python is achieved primarily through the use of classes and their associated features such as access modifiers and properties. Here's how encapsulation is achieved in Python:\n",
    "\n",
    "Classes and Objects:\n",
    "\n",
    "Encapsulation in Python is primarily implemented using classes. A class is a blueprint for creating objects (instances), and it encapsulates data (attributes) and behaviors (methods) related to that class.\n",
    "Objects encapsulate their state (attributes) and behavior (methods) together, allowing for modular and organized code.\n",
    "Access Modifiers:\n",
    "\n",
    "Python doesn't have true access modifiers like some other programming languages (e.g., private, protected, public). However, it uses naming conventions to indicate the level of accessibility of attributes and methods.\n",
    "Attributes or methods starting with a single underscore (_) are considered \"protected\" and should be treated as non-public, meaning they are intended for internal use by the class or its subclasses.\n",
    "Attributes or methods starting with double underscores (__) are considered \"private\" and should not be accessed directly from outside the class. However, Python performs name mangling on these attributes, so they can still be accessed through special name mangling techniques (e.g., _ClassName__private_attribute).\n",
    "Properties:\n",
    "\n",
    "Python allows properties to be defined using the property() function or the @property decorator. Properties provide a way to encapsulate the access to attributes, allowing controlled access and manipulation of attribute values.\n",
    "Properties can have getter, setter, and deleter methods associated with them, allowing for validation and computation of attribute values before getting or setting them."
   ]
  },
  {
   "cell_type": "markdown",
   "id": "dfa3ee1d-0f8b-4c69-8362-76cf94e589d0",
   "metadata": {},
   "source": [
    "48. Can encapsulation be bypassed in Python? If so, how?\n",
    "\n",
    "\n",
    "Using setattr() and getattr():\n",
    "\n",
    "The setattr() and getattr() functions allow direct access to attributes of an object by their names as strings, bypassing encapsulation.\n",
    "\n",
    "\n",
    "Accessing Protected Attributes:\n",
    "\n",
    "Python does not have a strict concept of protected attributes, but attributes starting with a single underscore (_) are considered conventionally protected. However, they can still be accessed directly from outside the class.\n",
    "\n",
    "Accessing Private Attributes through Name Mangling:\n",
    "\n",
    "Attributes starting with double underscores (__) undergo name mangling, where their names are prefixed with _ClassName. This is a mechanism to avoid name clashes in subclasses, but it doesn't truly make attributes private.\n",
    "\n",
    "\n",
    "Subclassing:\n",
    "\n",
    "Subclasses have access to all attributes and methods of their parent class, including those marked as protected or private. This allows subclasses to access and modify parent class attributes directly.\n"
   ]
  },
  {
   "cell_type": "markdown",
   "id": "eb077710-a882-4d47-9358-277b33c097c9",
   "metadata": {},
   "source": [
    "49. Implement a class BankAccount with a private balance attribute. Include methods to deposit, withdraw, and check the balance."
   ]
  },
  {
   "cell_type": "code",
   "execution_count": 43,
   "id": "b3ea9d47-e178-437a-9481-fc17ac540c78",
   "metadata": {},
   "outputs": [],
   "source": [
    "class Bank:\n",
    "    \n",
    "    def __init__(self, balance):\n",
    "        self.__balance = balance\n",
    "        \n",
    "    def deposit(self, amount):\n",
    "        self.__balance = self.__balance + amount\n",
    "        \n",
    "    def withdraw(self, amount):\n",
    "        if self.__balance >= amount:\n",
    "            self.__balance = self.__balance - amount\n",
    "            return True\n",
    "        else:\n",
    "            return False\n",
    "        \n",
    "    def get_balance(self):\n",
    "        return self.__balance"
   ]
  },
  {
   "cell_type": "code",
   "execution_count": 44,
   "id": "fb1f6086-04a2-4d19-8b49-145ade4d408c",
   "metadata": {},
   "outputs": [],
   "source": [
    "balance = Bank(3000)"
   ]
  },
  {
   "cell_type": "code",
   "execution_count": 45,
   "id": "7cf9ddef-8136-4745-a958-d99efb3e6f28",
   "metadata": {},
   "outputs": [
    {
     "data": {
      "text/plain": [
       "3000"
      ]
     },
     "execution_count": 45,
     "metadata": {},
     "output_type": "execute_result"
    }
   ],
   "source": [
    "balance.get_balance()"
   ]
  },
  {
   "cell_type": "code",
   "execution_count": 46,
   "id": "b70eaf4b-f3ba-4650-97ff-40d75bda8072",
   "metadata": {},
   "outputs": [],
   "source": [
    "balance.deposit(2000)"
   ]
  },
  {
   "cell_type": "code",
   "execution_count": 47,
   "id": "c286a356-9ede-4c81-8d41-c6c0d361252d",
   "metadata": {},
   "outputs": [
    {
     "data": {
      "text/plain": [
       "5000"
      ]
     },
     "execution_count": 47,
     "metadata": {},
     "output_type": "execute_result"
    }
   ],
   "source": [
    "balance.get_balance()"
   ]
  },
  {
   "cell_type": "code",
   "execution_count": 48,
   "id": "d19964dc-a6ab-4dd6-a6df-f4fda272b052",
   "metadata": {},
   "outputs": [
    {
     "data": {
      "text/plain": [
       "True"
      ]
     },
     "execution_count": 48,
     "metadata": {},
     "output_type": "execute_result"
    }
   ],
   "source": [
    "balance.withdraw(1000)"
   ]
  },
  {
   "cell_type": "code",
   "execution_count": 49,
   "id": "e7f2b1e5-adc0-4e3e-8d1e-e53fd09c5172",
   "metadata": {},
   "outputs": [
    {
     "data": {
      "text/plain": [
       "4000"
      ]
     },
     "execution_count": 49,
     "metadata": {},
     "output_type": "execute_result"
    }
   ],
   "source": [
    "balance.get_balance()"
   ]
  },
  {
   "cell_type": "code",
   "execution_count": 50,
   "id": "4475e5c3-a3a2-4afe-b4fd-9a1e46bd7eef",
   "metadata": {},
   "outputs": [
    {
     "data": {
      "text/plain": [
       "False"
      ]
     },
     "execution_count": 50,
     "metadata": {},
     "output_type": "execute_result"
    }
   ],
   "source": [
    "balance.withdraw(6000)"
   ]
  },
  {
   "cell_type": "markdown",
   "id": "d6755244-e0d5-48e6-95de-1df2dd6ec27a",
   "metadata": {},
   "source": [
    "50. Develop a Person class with private attributes name and email, and methods to set and get the email."
   ]
  },
  {
   "cell_type": "code",
   "execution_count": 52,
   "id": "64f2bc38-3c8f-4727-8968-ceff512e188d",
   "metadata": {},
   "outputs": [
    {
     "name": "stdout",
     "output_type": "stream",
     "text": [
      "Email: john.doe@example.com\n"
     ]
    }
   ],
   "source": [
    "class Person:\n",
    "    def __init__(self, name, email):\n",
    "        self.__name = name  \n",
    "        self.__email = email  \n",
    "    def set_email(self, email):\n",
    "        \n",
    "        self.__email = email\n",
    "\n",
    "    def get_email(self):\n",
    "        \n",
    "        return self.__email\n",
    "\n",
    "\n",
    "person = Person(\"John\", \"john@example.com\")\n",
    "\n",
    "person.set_email(\"john.doe@example.com\")\n",
    "\n",
    "print(\"Email:\", person.get_email()) "
   ]
  },
  {
   "cell_type": "markdown",
   "id": "76fb7a70-4d75-433a-9e13-5638ee519ace",
   "metadata": {},
   "source": [
    "51. Why is encapsulation considered a pillar of object-oriented programming (OOP)?"
   ]
  },
  {
   "cell_type": "markdown",
   "id": "043034ed-0155-4b94-83fe-b04977f7667c",
   "metadata": {},
   "source": [
    "Encapsulation is considered a pillar of object-oriented programming (OOP) due to its crucial role in promoting modularity, abstraction, and information hiding, which are key principles of OOP. Here's why encapsulation is fundamental to OOP:\n",
    "\n",
    "Modularity: Encapsulation allows data and behaviors to be encapsulated within a single unit, i.e., a class. This promotes modularity by organizing code into manageable and self-contained units, making it easier to understand, maintain, and extend.\n",
    "\n",
    "Abstraction: Encapsulation provides a way to abstract the internal details of a class from the outside world. By exposing only essential interfaces and hiding implementation details, encapsulation allows users of the class to focus on what an object does rather than how it does it. This promotes a high-level view of the system, making it easier to work with complex systems.\n",
    "\n",
    "Information Hiding: Encapsulation allows the internal state (data) of an object to be hidden from the outside world, and access to that state is controlled through well-defined interfaces (methods). This helps in protecting the integrity of the data and prevents direct manipulation from outside the class, reducing the risk of unintended side effects and enhancing data security and reliability.\n",
    "\n",
    "Encapsulation and Inheritance: Encapsulation plays a crucial role in inheritance, as it allows classes to encapsulate their attributes and methods, which can then be inherited by subclasses. This promotes code reuse and supports the principle of \"don't repeat yourself\" (DRY), as common functionalities can be defined in a superclass and reused by multiple subclasses.\n",
    "\n",
    "Encapsulation and Polymorphism: Encapsulation facilitates polymorphism by providing a uniform way to interact with objects through well-defined interfaces. Polymorphism allows objects of different classes to be treated uniformly based on their common interface, promoting flexibility and code reuse.\n",
    "\n",
    "Overall, encapsulation is considered a fundamental pillar of OOP because it promotes modularity, abstraction, information hiding, and code reuse, leading to more maintainable, scalable, and robust software systems. It helps in managing complexity and enables the development of flexible and adaptable software solutions."
   ]
  },
  {
   "cell_type": "markdown",
   "id": "571481d8-060f-4783-8237-73d1dd8f0087",
   "metadata": {},
   "source": [
    "52. Create a decorator in Python that adds functionality to a simple function by printing a message before and after the function execution."
   ]
  },
  {
   "cell_type": "code",
   "execution_count": 57,
   "id": "8e207be0-6bad-464a-a181-d2c2eda27091",
   "metadata": {},
   "outputs": [],
   "source": [
    "def my_decorator(func): #decorator func that takes another function as arguement\n",
    "    def wrapper(): #adds the functionality before and after calling func\n",
    "        print(\"Thee line being printed before the comp.\")\n",
    "        func()\n",
    "        print(\"Thee line being printed before the comp.\")\n",
    "    return wrapper"
   ]
  },
  {
   "cell_type": "code",
   "execution_count": 58,
   "id": "b90d34a7-2ab2-4874-8920-72b96825e072",
   "metadata": {},
   "outputs": [],
   "source": [
    "@my_decorator\n",
    "def say():\n",
    "    print(\"hello\")"
   ]
  },
  {
   "cell_type": "code",
   "execution_count": 59,
   "id": "752ccbfc-dd27-40e1-9777-2048fdc28ae8",
   "metadata": {},
   "outputs": [
    {
     "name": "stdout",
     "output_type": "stream",
     "text": [
      "Thee line being printed before the comp.\n",
      "hello\n",
      "Thee line being printed before the comp.\n"
     ]
    }
   ],
   "source": [
    "say()"
   ]
  },
  {
   "cell_type": "markdown",
   "id": "790fa491-d2a4-461e-bf1e-a152494401b5",
   "metadata": {},
   "source": [
    "53. Modify the decorator to accept arguments and print the function name along with the message."
   ]
  },
  {
   "cell_type": "code",
   "execution_count": 60,
   "id": "af494d3f-404a-45fe-9b45-f2d068e54333",
   "metadata": {},
   "outputs": [
    {
     "name": "stdout",
     "output_type": "stream",
     "text": [
      "Function 'greet' says: Hello from decorator\n",
      "Hello, world!\n"
     ]
    }
   ],
   "source": [
    "def my_decorator_with_args(message):\n",
    "    def decorator(func):\n",
    "        def wrapper(*args, **kwargs):\n",
    "            print(f\"Function '{func.__name__}' says: {message}\")\n",
    "            return func(*args, **kwargs)\n",
    "        return wrapper\n",
    "    return decorator\n",
    "\n",
    "# Using the decorator with arguments\n",
    "@my_decorator_with_args(\"Hello from decorator\")\n",
    "def greet():\n",
    "    print(\"Hello, world!\")\n",
    "\n",
    "# Calling the decorated function\n",
    "greet()\n"
   ]
  },
  {
   "cell_type": "markdown",
   "id": "2916e855-05ae-4b30-934a-66c1941088f8",
   "metadata": {},
   "source": [
    "54. Create two decorators, and apply them to a single function. Ensure that they execute in the order they are applied."
   ]
  },
  {
   "cell_type": "code",
   "execution_count": 61,
   "id": "482a72e2-ac99-4ff3-8513-81cecd74f6b6",
   "metadata": {},
   "outputs": [
    {
     "name": "stdout",
     "output_type": "stream",
     "text": [
      "Decorator 1 executed\n",
      "Decorator 2 executed\n",
      "Inside my_function\n"
     ]
    }
   ],
   "source": [
    "\n",
    "def decorator1(func):\n",
    "    def wrapper(*args, **kwargs):\n",
    "        print(\"Decorator 1 executed\")\n",
    "        result = func(*args, **kwargs)\n",
    "        return result\n",
    "    return wrapper\n",
    "\n",
    "\n",
    "def decorator2(func):\n",
    "    def wrapper(*args, **kwargs):\n",
    "        print(\"Decorator 2 executed\")\n",
    "        result = func(*args, **kwargs)\n",
    "        return result\n",
    "    return wrapper\n",
    "\n",
    "\n",
    "@decorator1\n",
    "@decorator2\n",
    "def my_function():\n",
    "    print(\"Inside my_function\")\n",
    "\n",
    "\n",
    "my_function()\n"
   ]
  },
  {
   "cell_type": "markdown",
   "id": "bc6703f2-0395-4b9e-a609-dcd72f3af4a4",
   "metadata": {},
   "source": [
    "55. Modify the decorator to accept and pass function arguments to the wrapped function."
   ]
  },
  {
   "cell_type": "code",
   "execution_count": 63,
   "id": "32826108-f82f-48a5-9f4b-8f9bf22aaca4",
   "metadata": {},
   "outputs": [
    {
     "name": "stdout",
     "output_type": "stream",
     "text": [
      "Decorator 1 executed\n",
      "Decorator 2 executed\n",
      "Inside my_function\n",
      "Result: 7\n"
     ]
    }
   ],
   "source": [
    "# Define the first decorator\n",
    "def decorator1(func):\n",
    "    def wrapper(*args, **kwargs):\n",
    "        print(\"Decorator 1 executed\")\n",
    "        result = func(*args, **kwargs)\n",
    "        return result\n",
    "    return wrapper\n",
    "\n",
    "# Define the second decorator\n",
    "def decorator2(func):\n",
    "    def wrapper(*args, **kwargs):\n",
    "        print(\"Decorator 2 executed\")\n",
    "        result = func(*args, **kwargs)\n",
    "        return result\n",
    "    return wrapper\n",
    "\n",
    "# Apply the decorators to a single function\n",
    "@decorator1\n",
    "@decorator2\n",
    "def my_function(x, y):\n",
    "    print(\"Inside my_function\")\n",
    "    return x + y\n",
    "\n",
    "# Call the decorated function\n",
    "result = my_function(3, 4)\n",
    "print(\"Result:\", result)\n"
   ]
  },
  {
   "cell_type": "markdown",
   "id": "42928595-1bda-4310-a1f3-83d3407e65ff",
   "metadata": {},
   "source": [
    "56. Create a decorator that preserves the metadata of the original function."
   ]
  },
  {
   "cell_type": "code",
   "execution_count": 64,
   "id": "94bf94f3-04b7-46b4-bea7-ad87770fd24e",
   "metadata": {},
   "outputs": [
    {
     "name": "stdout",
     "output_type": "stream",
     "text": [
      "Decorator executed\n",
      "Result: 7\n",
      "Function name: my_function\n",
      "Function docstring: This is the docstring of my_function.\n"
     ]
    }
   ],
   "source": [
    "from functools import wraps\n",
    "\n",
    "# Define the decorator\n",
    "def preserve_metadata(func):\n",
    "    @wraps(func)\n",
    "    def wrapper(*args, **kwargs):\n",
    "        print(\"Decorator executed\")\n",
    "        return func(*args, **kwargs)\n",
    "    return wrapper\n",
    "\n",
    "# Apply the decorator to a function\n",
    "@preserve_metadata\n",
    "def my_function(x, y):\n",
    "    \"\"\"This is the docstring of my_function.\"\"\"\n",
    "    return x + y\n",
    "\n",
    "# Call the decorated function\n",
    "result = my_function(3, 4)\n",
    "print(\"Result:\", result)\n",
    "print(\"Function name:\", my_function.__name__)\n",
    "print(\"Function docstring:\", my_function.__doc__)\n"
   ]
  },
  {
   "cell_type": "markdown",
   "id": "9d3dee0b-f29b-4523-b425-27cf07f97538",
   "metadata": {},
   "source": [
    "57. Create a Python class Calculator with a static method 'add' that takes in two numbers and returns their sum."
   ]
  },
  {
   "cell_type": "code",
   "execution_count": 65,
   "id": "2f6eee87-a1d7-4075-9fa3-c3a4e71afeb9",
   "metadata": {},
   "outputs": [],
   "source": [
    "class calculator:\n",
    "    @staticmethod\n",
    "    def add(x, y):\n",
    "        return x+y\n",
    "    \n",
    "    @staticmethod\n",
    "    def sub(x, y):\n",
    "        return x-y"
   ]
  },
  {
   "cell_type": "code",
   "execution_count": 66,
   "id": "1e798060-9c64-4b04-a5f5-14bf286426f1",
   "metadata": {},
   "outputs": [
    {
     "data": {
      "text/plain": [
       "59"
      ]
     },
     "execution_count": 66,
     "metadata": {},
     "output_type": "execute_result"
    }
   ],
   "source": [
    "calculator.add(4, 55)"
   ]
  },
  {
   "cell_type": "code",
   "execution_count": 69,
   "id": "a0d26c01-2bac-4a02-a153-9e82f6f502b8",
   "metadata": {},
   "outputs": [
    {
     "data": {
      "text/plain": [
       "20"
      ]
     },
     "execution_count": 69,
     "metadata": {},
     "output_type": "execute_result"
    }
   ],
   "source": [
    "calculator.sub(45, 25)"
   ]
  },
  {
   "cell_type": "markdown",
   "id": "eb6d0b05-fe4e-4c4e-9d6a-d4d50ddedd56",
   "metadata": {},
   "source": [
    "58. Create a Python class Employee' with a class 'method get_employee_count that returns the total number of employees created."
   ]
  },
  {
   "cell_type": "code",
   "execution_count": 70,
   "id": "39a0c812-630e-4da8-b48f-37be577c6502",
   "metadata": {},
   "outputs": [
    {
     "name": "stdout",
     "output_type": "stream",
     "text": [
      "Total employees: 3\n"
     ]
    }
   ],
   "source": [
    "class Employee:\n",
    "    # Class variable to keep track of the total number of employees\n",
    "    total_employees = 0\n",
    "\n",
    "    def __init__(self, name, age):\n",
    "        self.name = name\n",
    "        self.age = age\n",
    "        # Increment the total number of employees when a new instance is created\n",
    "        Employee.total_employees += 1\n",
    "\n",
    "    @classmethod\n",
    "    def get_employee_count(cls):\n",
    "        return cls.total_employees\n",
    "\n",
    "# Example usage\n",
    "emp1 = Employee(\"John\", 30)\n",
    "emp2 = Employee(\"Alice\", 25)\n",
    "emp3 = Employee(\"Bob\", 35)\n",
    "\n",
    "# Get the total number of employees\n",
    "print(\"Total employees:\", Employee.get_employee_count())  # Output: Total employees: 3\n"
   ]
  },
  {
   "cell_type": "markdown",
   "id": "f78ec423-0ab2-4e5e-91a2-c5d1024c166d",
   "metadata": {},
   "source": [
    "59. Create a Python class StringFormatter with a static method 'reverse_string that takes a string as input and returns its reverse."
   ]
  },
  {
   "cell_type": "code",
   "execution_count": 72,
   "id": "7dee4aba-4c10-453b-aefd-45837455a43e",
   "metadata": {},
   "outputs": [
    {
     "name": "stdout",
     "output_type": "stream",
     "text": [
      "Reversed string: Hello, world\n"
     ]
    }
   ],
   "source": [
    "class StringFormatter:\n",
    "    @staticmethod\n",
    "    def reverse_string(input_string):\n",
    "        return input_string[:-1]\n",
    "\n",
    "# Example usage\n",
    "input_string = \"Hello, world!\"\n",
    "reversed_string = StringFormatter.reverse_string(input_string)\n",
    "print(\"Reversed string:\", reversed_string)  # Output: Reversed string: !dlrow ,olleH\n"
   ]
  },
  {
   "cell_type": "markdown",
   "id": "af53a18c-fe0a-4f66-8996-2c6c91f00010",
   "metadata": {},
   "source": [
    "60. Create a Python class Circle with a class method calculate_area that calculates the area of a circle given its radius."
   ]
  },
  {
   "cell_type": "code",
   "execution_count": 73,
   "id": "a0fe112f-a541-439d-ae30-53e8a79cd949",
   "metadata": {},
   "outputs": [
    {
     "name": "stdout",
     "output_type": "stream",
     "text": [
      "Area of the circle with radius 5 is: 78.53981633974483\n"
     ]
    }
   ],
   "source": [
    "import math\n",
    "\n",
    "class Circle:\n",
    "    @classmethod\n",
    "    def calculate_area(cls, radius):\n",
    "        return math.pi * radius**2\n",
    "\n",
    "# Example usage\n",
    "radius = 5\n",
    "area = Circle.calculate_area(radius)\n",
    "print(\"Area of the circle with radius\", radius, \"is:\", area)\n"
   ]
  },
  {
   "cell_type": "markdown",
   "id": "24daeb2e-c5ba-4209-b60a-897a9234bd1a",
   "metadata": {},
   "source": [
    "61. Create a Python class Temperature Converter with a static method 'celsius_to_fahrenheit that converts Celsius to Fahrenheit."
   ]
  },
  {
   "cell_type": "code",
   "execution_count": 1,
   "id": "e5e91c5a-5976-4f62-a0b4-08b48345f6b4",
   "metadata": {},
   "outputs": [
    {
     "name": "stdout",
     "output_type": "stream",
     "text": [
      "20 degrees Celsius is equal to 68.0 degrees Fahrenheit.\n"
     ]
    }
   ],
   "source": [
    "class TemperatureConverter:\n",
    "    @staticmethod\n",
    "    def celsius_to_fahrenheit(celsius):\n",
    "        return (celsius * 9/5) + 32\n",
    "\n",
    "# Example usage\n",
    "celsius_temp = 20\n",
    "fahrenheit_temp = TemperatureConverter.celsius_to_fahrenheit(celsius_temp)\n",
    "print(f\"{celsius_temp} degrees Celsius is equal to {fahrenheit_temp} degrees Fahrenheit.\")\n"
   ]
  },
  {
   "cell_type": "markdown",
   "id": "f2415952-bf29-4af0-be87-2c577efc0f48",
   "metadata": {},
   "source": [
    "62. What is the purpose of the_str__() method in Python classes? Provide an example\n",
    "\n",
    "The __str__() method in Python classes is used to define a custom string representation of an object. When you print an object of a class that has a __str__() method defined, Python will call this method to obtain the string representation of the object."
   ]
  },
  {
   "cell_type": "code",
   "execution_count": 2,
   "id": "5cfba79f-d256-4cae-8c01-103d30cc79a6",
   "metadata": {},
   "outputs": [
    {
     "name": "stdout",
     "output_type": "stream",
     "text": [
      "Person: John, Age: 30\n"
     ]
    }
   ],
   "source": [
    "class Person:\n",
    "    def __init__(self, name, age):\n",
    "        self.name = name\n",
    "        self.age = age\n",
    "\n",
    "    def __str__(self):\n",
    "        return f\"Person: {self.name}, Age: {self.age}\"\n",
    "\n",
    "# Create an instance of the Person class\n",
    "person = Person(\"John\", 30)\n",
    "\n",
    "\n",
    "print(person)  "
   ]
  },
  {
   "cell_type": "markdown",
   "id": "2b2ec079-5de1-49d8-80a3-b0189c265c8a",
   "metadata": {},
   "source": [
    "63. How does the __len__() method work in Python? Provide an example.\n",
    "\n",
    "In Python, the __len__() method is used to define the behavior of the built-in len() function when applied to an object of a custom class. This method should return the length of the object, typically the number of elements it contains.\n",
    "\n",
    "Here's an example to illustrate how __len__() method works:"
   ]
  },
  {
   "cell_type": "code",
   "execution_count": 3,
   "id": "2a42be8c-2780-4255-a7f0-c409fd2f6301",
   "metadata": {},
   "outputs": [],
   "source": [
    "class CustomList:\n",
    "    def __init__(self, items):\n",
    "        self.items = items\n",
    "\n",
    "    def __len__(self):\n",
    "        return len(self.items)\n",
    "\n",
    "custom_list = CustomList([1, 2, 3, 4, 5])"
   ]
  },
  {
   "cell_type": "code",
   "execution_count": 4,
   "id": "c62f48a2-1954-4aa0-8017-09f0a120c27a",
   "metadata": {},
   "outputs": [
    {
     "name": "stdout",
     "output_type": "stream",
     "text": [
      "5\n"
     ]
    }
   ],
   "source": [
    "print(len(custom_list))"
   ]
  },
  {
   "cell_type": "markdown",
   "id": "47b414d4-e96b-4b59-a8ef-e2f92eaad962",
   "metadata": {},
   "source": [
    "64. Explain the usage of the__add__() method in Python classes. Provide an example.\n",
    "\n",
    "\n",
    "In Python, the __add__() method is used to define the behavior of the addition operator (+) when applied to objects of a custom class. This method allows you to specify how instances of your class should behave when they are added together using the + operator.\n",
    "\n",
    "Here's an example to illustrate the usage of the __add__() method:"
   ]
  },
  {
   "cell_type": "code",
   "execution_count": 9,
   "id": "1d328f1a-9710-4620-a6c7-e25f9df585f1",
   "metadata": {},
   "outputs": [
    {
     "name": "stdout",
     "output_type": "stream",
     "text": [
      "Resulting point: 4 6\n"
     ]
    }
   ],
   "source": [
    "class Point:\n",
    "    def __init__(self, x, y):\n",
    "        self.x = x\n",
    "        self.y = y\n",
    "\n",
    "    def __add__(self, other):\n",
    "        if isinstance(other, Point):\n",
    "            return Point(self.x + other.x, self.y + other.y)\n",
    "        else:\n",
    "            raise TypeError(\"Unsupported operand type for +\")\n",
    "\n",
    "\n",
    "point1 = Point(1, 2)\n",
    "point2 = Point(3, 4)\n",
    "\n",
    "result = point1 + point2\n",
    "\n",
    "print(\"Resulting point:\", result.x, result.y)  \n"
   ]
  },
  {
   "cell_type": "markdown",
   "id": "af258a6c-3b27-4e63-ac31-d13d489fb898",
   "metadata": {},
   "source": [
    "65. What is the purpose of the __ getitem__ () method in Python? Provide an example.\n",
    "\n",
    "\n",
    "In Python, the __getitem__() method is used to enable the indexing and slicing operations on objects of a custom class. This method allows instances of the class to behave like sequences (e.g., lists, tuples) or mappings (e.g., dictionaries) by defining how elements are retrieved using square brackets []."
   ]
  },
  {
   "cell_type": "code",
   "execution_count": 10,
   "id": "f1e84310-56ad-454b-b8a7-8e2768da9e1e",
   "metadata": {},
   "outputs": [
    {
     "name": "stdout",
     "output_type": "stream",
     "text": [
      "1\n",
      "3\n",
      "5\n",
      "[2, 3, 4]\n"
     ]
    }
   ],
   "source": [
    "class CustomList:\n",
    "    def __init__(self, items):\n",
    "        self.items = items\n",
    "\n",
    "    def __getitem__(self, index):\n",
    "        return self.items[index]\n",
    "\n",
    "\n",
    "custom_list = CustomList([1, 2, 3, 4, 5])\n",
    "\n",
    "\n",
    "print(custom_list[0])  \n",
    "print(custom_list[2])  \n",
    "print(custom_list[-1]) \n",
    "\n",
    "\n",
    "print(custom_list[1:4]) "
   ]
  },
  {
   "cell_type": "markdown",
   "id": "9323113b-0774-437a-a5d9-599789eefa7d",
   "metadata": {},
   "source": [
    "66. Explain the usage of the __iter__() and __next__() methods in Python. Provide an example using iterators.\n",
    "\n",
    "In Python, the __iter__() and __next__() methods are used to create iterators for custom objects. Iterators are objects that implement the iterator protocol, allowing them to be iterated over using a for loop or by using functions like next().\n",
    "\n",
    "Here's how these methods work:\n",
    "\n",
    "__iter__(): This method is called when an iterator is requested from an object. It should return an iterator object, typically the object itself. It initializes the iteration state.\n",
    "\n",
    "__next__(): This method is called to retrieve the next item from the iterator. It should return the next item in the sequence. If there are no more items, it should raise the StopIteration exception.\n",
    "\n",
    "Let's see an example to understand the usage of __iter__() and __next__():"
   ]
  },
  {
   "cell_type": "code",
   "execution_count": 13,
   "id": "726dd2c5-d6fd-472f-bf22-c4efe8e4f900",
   "metadata": {},
   "outputs": [
    {
     "name": "stdout",
     "output_type": "stream",
     "text": [
      "1\n",
      "2\n",
      "3\n",
      "4\n",
      "5\n",
      "1\n",
      "2\n",
      "3\n"
     ]
    }
   ],
   "source": [
    "class MyIterator:\n",
    "    def __init__(self, data):\n",
    "        self.data = data\n",
    "        self.index = 0\n",
    "\n",
    "    def __iter__(self):\n",
    "        return self\n",
    "\n",
    "    def __next__(self):\n",
    "        if self.index < len(self.data):\n",
    "            value = self.data[self.index]\n",
    "            self.index += 1\n",
    "            return value\n",
    "        else:\n",
    "            raise StopIteration\n",
    "\n",
    "\n",
    "my_list = [1, 2, 3, 4, 5]\n",
    "my_iterator = MyIterator(my_list)\n",
    "\n",
    "# Iterate over the custom iterator using a for loop\n",
    "for item in my_iterator:\n",
    "    print(item)\n",
    "\n",
    "# Alternatively, we can use next() function to manually iterate over the iterator\n",
    "my_iterator = MyIterator(my_list)\n",
    "print(next(my_iterator))  # Output: 1\n",
    "print(next(my_iterator))  # Output: 2\n",
    "print(next(my_iterator))  # Output: 3\n"
   ]
  },
  {
   "cell_type": "markdown",
   "id": "3a0df78b-9346-400d-a871-77e6b0fb4f28",
   "metadata": {},
   "source": [
    "68. Explain the role of setter methods in Python. Demonstrate how to use a setter method to modify a class attribute using property decorators.\n",
    "\n",
    "Setter methods in Python are used to encapsulate the process of setting the values of attributes of a class. They provide a way to control the assignment of values to attributes, enabling validation, data transformation, or any other custom behavior before the value is actually assigned.\n",
    "\n",
    "In Python, setter methods can be implemented using property decorators. The @property decorator is used to define a getter method, while @<attribute_name>.setter is used to define a setter method.\n",
    "\n",
    "Here's a demonstration of how to use a setter method to modify a class attribute using property decorators:"
   ]
  },
  {
   "cell_type": "code",
   "execution_count": 14,
   "id": "96f3bd0b-c0b1-4d3a-a824-609c072b53ed",
   "metadata": {},
   "outputs": [
    {
     "name": "stdout",
     "output_type": "stream",
     "text": [
      "Initial Radius: 5\n",
      "Updated Radius: 7\n",
      "Radius must be positive\n"
     ]
    }
   ],
   "source": [
    "class Circle:\n",
    "    def __init__(self, radius):\n",
    "        self._radius = radius  # Prefixing with an underscore conventionally indicates a private attribute\n",
    "\n",
    "    @property\n",
    "    def radius(self):\n",
    "        return self._radius\n",
    "\n",
    "    @radius.setter\n",
    "    def radius(self, value):\n",
    "        if value <= 0:\n",
    "            raise ValueError(\"Radius must be positive\")\n",
    "        self._radius = value\n",
    "\n",
    "# Example usage\n",
    "circle = Circle(5)\n",
    "print(\"Initial Radius:\", circle.radius)  # Output: Initial Radius: 5\n",
    "\n",
    "# Modify the radius using the setter method\n",
    "circle.radius = 7\n",
    "print(\"Updated Radius:\", circle.radius)  # Output: Updated Radius: 7\n",
    "\n",
    "# Try to set an invalid value\n",
    "try:\n",
    "    circle.radius = -3\n",
    "except ValueError as e:\n",
    "    print(e)  # Output: Radius must be positive\n"
   ]
  },
  {
   "cell_type": "markdown",
   "id": "c678bb52-d9f7-48e8-a61b-19be1a1f76f7",
   "metadata": {},
   "source": [
    "69. What is the purpose of the @property decorator in Python? Provide an example illustrating its usage.\n",
    "\n",
    "In Python, the @property decorator is used to define getter methods for accessing and retrieving the value of an attribute of a class. It allows you to access the attribute as if it were a normal attribute, but behind the scenes, it calls a method to compute or retrieve the attribute value dynamically.\n",
    "\n",
    "Here's an example illustrating the usage of the @property decorator:"
   ]
  },
  {
   "cell_type": "code",
   "execution_count": 16,
   "id": "3b576b92-92dc-4bf9-ba8a-2d6ddce9de64",
   "metadata": {},
   "outputs": [
    {
     "name": "stdout",
     "output_type": "stream",
     "text": [
      "Radius: 8\n"
     ]
    }
   ],
   "source": [
    "class Circle:\n",
    "    def __init__(self, radius):\n",
    "        self._radius = radius  \n",
    "\n",
    "    @property\n",
    "    def radius(self):\n",
    "        return self._radius\n",
    "\n",
    "\n",
    "circle = Circle(8)\n",
    "print(\"Radius:\", circle.radius)  \n"
   ]
  },
  {
   "cell_type": "markdown",
   "id": "7a579590-a2b2-4da5-9a75-bee211e6f500",
   "metadata": {},
   "source": [
    "70. Explain the use of the @deleter decorator in Python property decorators. Provide a code example demonstrating its application.\n",
    "\n",
    "\n",
    "In Python, the @deleter decorator is not a standard decorator. Instead, the correct term is @property decorator used in combination with a deleter method to define the behavior when an attribute is deleted using the del statement.\n",
    "\n",
    "To define a deleter method, you use the @<property_name>.deleter decorator, where <property_name> is the name of the property associated with the attribute. This deleter method is called when the attribute is deleted using the del statement.\n",
    "\n",
    "Here's a code example demonstrating the use of the @property decorator with a deleter method:"
   ]
  },
  {
   "cell_type": "code",
   "execution_count": 17,
   "id": "a7352ee5-57ab-4ec4-800d-1303fbad1569",
   "metadata": {},
   "outputs": [],
   "source": [
    "class circle:\n",
    "    def __init__(self, radius):\n",
    "        self.__radius = radius\n",
    "    @property\n",
    "    def radius(self):\n",
    "        return self.__radius\n",
    "    @radius.setter\n",
    "    def radius(self,value):\n",
    "        self.__radius=value\n",
    "        if value <= 0:\n",
    "            raise ValueError(\"radius is not pasitive\")\n",
    "    def area(self):\n",
    "         return 3.14 * self.__radius\n",
    "    @radius.deleter \n",
    "    def radius_delete(self):\n",
    "        del self.__radius\n",
    "    "
   ]
  },
  {
   "cell_type": "code",
   "execution_count": 18,
   "id": "6dba1245-d14e-4359-ae22-f56b5ad7a311",
   "metadata": {},
   "outputs": [],
   "source": [
    "c =  circle(9)"
   ]
  },
  {
   "cell_type": "code",
   "execution_count": 19,
   "id": "0da15d3e-6c7c-4e66-8a2a-312b3cf4ae0e",
   "metadata": {},
   "outputs": [
    {
     "data": {
      "text/plain": [
       "9"
      ]
     },
     "execution_count": 19,
     "metadata": {},
     "output_type": "execute_result"
    }
   ],
   "source": [
    "c.radius"
   ]
  },
  {
   "cell_type": "code",
   "execution_count": 20,
   "id": "d240489e-983b-446f-b837-e308e7d17deb",
   "metadata": {},
   "outputs": [],
   "source": [
    "del c.radius_delete"
   ]
  },
  {
   "cell_type": "code",
   "execution_count": 21,
   "id": "63c611fd-1791-48b3-bdde-565dcc18df7a",
   "metadata": {},
   "outputs": [
    {
     "ename": "AttributeError",
     "evalue": "'circle' object has no attribute '_circle__radius'",
     "output_type": "error",
     "traceback": [
      "\u001b[0;31m---------------------------------------------------------------------------\u001b[0m",
      "\u001b[0;31mAttributeError\u001b[0m                            Traceback (most recent call last)",
      "Cell \u001b[0;32mIn[21], line 1\u001b[0m\n\u001b[0;32m----> 1\u001b[0m \u001b[43mc\u001b[49m\u001b[38;5;241;43m.\u001b[39;49m\u001b[43mradius\u001b[49m\n",
      "Cell \u001b[0;32mIn[17], line 6\u001b[0m, in \u001b[0;36mcircle.radius\u001b[0;34m(self)\u001b[0m\n\u001b[1;32m      4\u001b[0m \u001b[38;5;129m@property\u001b[39m\n\u001b[1;32m      5\u001b[0m \u001b[38;5;28;01mdef\u001b[39;00m \u001b[38;5;21mradius\u001b[39m(\u001b[38;5;28mself\u001b[39m):\n\u001b[0;32m----> 6\u001b[0m     \u001b[38;5;28;01mreturn\u001b[39;00m \u001b[38;5;28;43mself\u001b[39;49m\u001b[38;5;241;43m.\u001b[39;49m\u001b[43m__radius\u001b[49m\n",
      "\u001b[0;31mAttributeError\u001b[0m: 'circle' object has no attribute '_circle__radius'"
     ]
    }
   ],
   "source": [
    "c.radius"
   ]
  },
  {
   "cell_type": "markdown",
   "id": "19ebe61d-0753-4915-bbe7-ae38d937bcb1",
   "metadata": {},
   "source": [
    "71. How does encapsulation relate to property decorators in Python? Provide an example showcasing encapsulation using property decorators.\n",
    "\n",
    "\n",
    "Encapsulation is a fundamental principle in object-oriented programming that involves bundling the data (attributes) and methods (functions) that operate on the data into a single unit called a class. It restricts direct access to some of the object's components, typically by making attributes private and providing public methods to access or modify them. Property decorators in Python play a crucial role in implementing encapsulation by providing controlled access to attributes through getter, setter, and deleter methods."
   ]
  },
  {
   "cell_type": "code",
   "execution_count": 25,
   "id": "9708ae63-5e81-401f-9179-1d211b3dd860",
   "metadata": {},
   "outputs": [],
   "source": [
    "class Person:\n",
    "    def __init__(self, nf = 'Glenn', nl = 'Rowe', nm = 'William'): \n",
    "        self.__first = nf\n",
    "        self.__middle = nm\n",
    "        self.__last = nl\n",
    "    @property\n",
    "    def firstName(self):\n",
    "        return self.__first\n",
    "    @firstName.setter\n",
    "    def firstName(self, fName):\n",
    "        self.__first = fName\n",
    "    @firstName.deleter\n",
    "    def firstName(self):\n",
    "        del self.__first\n",
    "    @property\n",
    "    def fullName(self):\n",
    "        return \" \".join([self.__first, self.__middle, self.__last])\n",
    "    @fullName.setter\n",
    "    def fullName(self, fName):\n",
    "        fName = fName.split()\n",
    "        self.__last = fName[2]\n",
    "        self.__middle = fName[1]\n",
    "        self.__first = fName[0]"
   ]
  }
 ],
 "metadata": {
  "kernelspec": {
   "display_name": "Python 3 (ipykernel)",
   "language": "python",
   "name": "python3"
  },
  "language_info": {
   "codemirror_mode": {
    "name": "ipython",
    "version": 3
   },
   "file_extension": ".py",
   "mimetype": "text/x-python",
   "name": "python",
   "nbconvert_exporter": "python",
   "pygments_lexer": "ipython3",
   "version": "3.10.8"
  }
 },
 "nbformat": 4,
 "nbformat_minor": 5
}
