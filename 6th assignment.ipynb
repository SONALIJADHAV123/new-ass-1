{
 "cells": [
  {
   "cell_type": "code",
   "execution_count": 1,
   "id": "8533209b-4e22-4554-9c2a-34a01ac44bcf",
   "metadata": {},
   "outputs": [],
   "source": [
    "# que 1"
   ]
  },
  {
   "cell_type": "code",
   "execution_count": 2,
   "id": "e9243eef-b689-4225-8d73-14467a01c94b",
   "metadata": {},
   "outputs": [],
   "source": [
    "#Using collections. deque. The deque object from collections is a list-like object that supports fast append and pops from both sides.\n",
    "#It also supports thread-safe, memory-efficient operations, and it was specifically designed to be more efficient than lists when used as queues and stacks.\n",
    "#deque is faster than list when it comes to removing items from the left end of the underlying sequence. \n",
    "#Try changing the value of TIMES and see what happens! The deque data type was designed to guarantee efficient append and pop operations on either end of the sequence."
   ]
  },
  {
   "cell_type": "code",
   "execution_count": 3,
   "id": "0e76ed87-11af-45f9-b10e-a24480cae699",
   "metadata": {},
   "outputs": [],
   "source": [
    "# que 2"
   ]
  },
  {
   "cell_type": "code",
   "execution_count": 4,
   "id": "f196cb00-a577-4eb3-9e0e-4c00399f90d9",
   "metadata": {},
   "outputs": [],
   "source": [
    "#The stack data structure has several real-life applications. One common example is the use of a stack in software development to manage function calls and memory allocation.\n",
    "#Stacks are also used in web browsing to implement the back button functionality, as well as in undo operations in text editors and graphic design software.\n",
    "#Additionally, stacks are used in the implementation of algorithms for tasks such as parsing expressions, evaluating postfix expressions, and solving problems in graph theory. \n",
    "#In hardware, stacks are used in microprocessor architecture for managing subroutine calls and local variables."
   ]
  },
  {
   "cell_type": "code",
   "execution_count": 5,
   "id": "f7729551-3a53-4b50-9c37-08ed40be8131",
   "metadata": {},
   "outputs": [],
   "source": [
    "# que 3"
   ]
  },
  {
   "cell_type": "code",
   "execution_count": 6,
   "id": "fa5c527a-5918-4403-b81f-3a72924162c4",
   "metadata": {},
   "outputs": [],
   "source": [
    "Data_analysis_course=[]\n",
    "Data_analysis_course.append(\"google crom\")\n",
    "Data_analysis_course.append(\"pw skills\")\n",
    "Data_analysis_course.append(\"data anayist course\")\n",
    "Data_analysis_course.append(\"my course\")"
   ]
  },
  {
   "cell_type": "code",
   "execution_count": 21,
   "id": "b8e90d3c-352a-4694-b847-081476bb3182",
   "metadata": {},
   "outputs": [
    {
     "data": {
      "text/plain": [
       "['google crom', 'pw skills', 'data anayist course', 'my course']"
      ]
     },
     "execution_count": 21,
     "metadata": {},
     "output_type": "execute_result"
    }
   ],
   "source": [
    "Data_analysis_course"
   ]
  },
  {
   "cell_type": "code",
   "execution_count": 22,
   "id": "30749462-13b5-46b4-a60b-ae8e98f8607e",
   "metadata": {},
   "outputs": [
    {
     "data": {
      "text/plain": [
       "'my course'"
      ]
     },
     "execution_count": 22,
     "metadata": {},
     "output_type": "execute_result"
    }
   ],
   "source": [
    "Data_analysis_course.pop()"
   ]
  },
  {
   "cell_type": "code",
   "execution_count": 7,
   "id": "fe08898d-e77b-46e9-88bc-a6849f84bbf4",
   "metadata": {},
   "outputs": [
    {
     "data": {
      "text/plain": [
       "'my course'"
      ]
     },
     "execution_count": 7,
     "metadata": {},
     "output_type": "execute_result"
    }
   ],
   "source": [
    "Data_analysis_course.pop()"
   ]
  },
  {
   "cell_type": "code",
   "execution_count": 24,
   "id": "7381a967-9a86-4488-9a48-2458b128e352",
   "metadata": {},
   "outputs": [
    {
     "data": {
      "text/plain": [
       "['google crom', 'pw skills']"
      ]
     },
     "execution_count": 24,
     "metadata": {},
     "output_type": "execute_result"
    }
   ],
   "source": [
    "Data_analysis_course"
   ]
  },
  {
   "cell_type": "code",
   "execution_count": 8,
   "id": "31050ec7-6864-43e1-b495-2f7c54b53760",
   "metadata": {},
   "outputs": [],
   "source": [
    "# que 3"
   ]
  },
  {
   "cell_type": "code",
   "execution_count": 9,
   "id": "388f2b56-d566-41b9-ac6e-9fb2ee38bca1",
   "metadata": {},
   "outputs": [],
   "source": [
    "#A set is a collection of unique elements, it’s a mathematical concept that has been implemented in many programming languages.\n",
    "#In computer science, a set data structure is a data structure that stores a collection of unique elements and provides efficient operations for adding, removing, and querying for the presence of elements.\n",
    "#Set data structures are commonly used in a variety of computer science applications, including algorithms, data analysis, and databases.\n",
    "#The main advantage of using a set data structure is that it allows you to perform operations on a collection of elements in an efficient and organized way.\n",
    "#For example, when you are working with a large dataset and you want to filter out duplicate items or when you need to check\n",
    "#if an element is already in a collection or not, a set data structure would be an ideal choice because it provides constant time complexity for these operations."
   ]
  },
  {
   "cell_type": "code",
   "execution_count": 21,
   "id": "f88658e3-ef67-4d30-8a19-0f34e5db59d4",
   "metadata": {},
   "outputs": [],
   "source": [
    "#Sets>> sets are collection of unique and unrecorded elements\n",
    "#dont allow dublicate element>> not mauintain any order and it wii not indexed"
   ]
  },
  {
   "cell_type": "code",
   "execution_count": 22,
   "id": "263fac59-35e5-4036-90b2-5deee1b01551",
   "metadata": {},
   "outputs": [],
   "source": [
    "a = {}"
   ]
  },
  {
   "cell_type": "code",
   "execution_count": 23,
   "id": "8c82bfdc-769b-49ce-b5a0-3765635e4d3d",
   "metadata": {},
   "outputs": [
    {
     "data": {
      "text/plain": [
       "{}"
      ]
     },
     "execution_count": 23,
     "metadata": {},
     "output_type": "execute_result"
    }
   ],
   "source": [
    "a"
   ]
  },
  {
   "cell_type": "code",
   "execution_count": 24,
   "id": "ea484a1e-67ce-4323-b64b-97a52efa4e53",
   "metadata": {},
   "outputs": [
    {
     "data": {
      "text/plain": [
       "set"
      ]
     },
     "execution_count": 40,
     "metadata": {},
     "output_type": "execute_result"
    }
   ],
   "source": [
    "type(a)"
   ]
  },
  {
   "cell_type": "code",
   "execution_count": 25,
   "id": "68b5df68-4642-41ef-a6d3-cf19f7a3ef67",
   "metadata": {},
   "outputs": [],
   "source": [
    "a={1, 4, 7}"
   ]
  },
  {
   "cell_type": "code",
   "execution_count": 26,
   "id": "a3cf700a-b840-4dcb-a392-7edf3b08dbe3",
   "metadata": {},
   "outputs": [
    {
     "data": {
      "text/plain": [
       "set"
      ]
     },
     "execution_count": 26,
     "metadata": {},
     "output_type": "execute_result"
    }
   ],
   "source": [
    "type(a)"
   ]
  },
  {
   "cell_type": "code",
   "execution_count": 27,
   "id": "1ad099fc-e20f-4b8e-b669-b2945069b27f",
   "metadata": {},
   "outputs": [],
   "source": [
    "b= {1, 5, 6, 5, 6, \"sonali\", \"sonali\"}"
   ]
  },
  {
   "cell_type": "code",
   "execution_count": 28,
   "id": "64171ec5-8911-43ec-8a72-6800df81aade",
   "metadata": {},
   "outputs": [
    {
     "data": {
      "text/plain": [
       "{1, 5, 6, 'sonali'}"
      ]
     },
     "execution_count": 28,
     "metadata": {},
     "output_type": "execute_result"
    }
   ],
   "source": [
    "b"
   ]
  },
  {
   "cell_type": "code",
   "execution_count": 42,
   "id": "198bcfaa-7330-45cd-ad83-9cf4bb4fc98e",
   "metadata": {},
   "outputs": [],
   "source": [
    "list= [4.5, 6, 3, 9, 9, 6]\n",
    "s= set(list)"
   ]
  },
  {
   "cell_type": "code",
   "execution_count": 46,
   "id": "d5802e15-f0b7-42ff-b5f9-0e836850ee8c",
   "metadata": {},
   "outputs": [
    {
     "data": {
      "text/plain": [
       "{3, 4.5, 6, 9}"
      ]
     },
     "execution_count": 46,
     "metadata": {},
     "output_type": "execute_result"
    }
   ],
   "source": [
    "s"
   ]
  },
  {
   "cell_type": "code",
   "execution_count": 47,
   "id": "59d69d5c-df9a-42d4-8b27-4f1362e3a47d",
   "metadata": {},
   "outputs": [
    {
     "ename": "TypeError",
     "evalue": "'set' object is not subscriptable",
     "output_type": "error",
     "traceback": [
      "\u001b[0;31m---------------------------------------------------------------------------\u001b[0m",
      "\u001b[0;31mTypeError\u001b[0m                                 Traceback (most recent call last)",
      "Cell \u001b[0;32mIn[47], line 1\u001b[0m\n\u001b[0;32m----> 1\u001b[0m \u001b[43ms\u001b[49m\u001b[43m[\u001b[49m\u001b[38;5;241;43m1\u001b[39;49m\u001b[43m]\u001b[49m\n",
      "\u001b[0;31mTypeError\u001b[0m: 'set' object is not subscriptable"
     ]
    }
   ],
   "source": [
    "s[1]"
   ]
  },
  {
   "cell_type": "code",
   "execution_count": 48,
   "id": "1d26db71-2a69-4a60-b4cb-6ce25ea686a2",
   "metadata": {},
   "outputs": [
    {
     "ename": "TypeError",
     "evalue": "unhashable type: 'list'",
     "output_type": "error",
     "traceback": [
      "\u001b[0;31m---------------------------------------------------------------------------\u001b[0m",
      "\u001b[0;31mTypeError\u001b[0m                                 Traceback (most recent call last)",
      "Cell \u001b[0;32mIn[48], line 1\u001b[0m\n\u001b[0;32m----> 1\u001b[0m {\u001b[38;5;241m1\u001b[39m, \u001b[38;5;241m2\u001b[39m, \u001b[38;5;241m3\u001b[39m, \u001b[38;5;241m3\u001b[39m, [\u001b[38;5;241m1\u001b[39m, \u001b[38;5;241m2\u001b[39m, \u001b[38;5;241m4\u001b[39m]}\n",
      "\u001b[0;31mTypeError\u001b[0m: unhashable type: 'list'"
     ]
    }
   ],
   "source": [
    "{1, 2, 3, 3, [1, 2, 4]}"
   ]
  },
  {
   "cell_type": "code",
   "execution_count": 73,
   "id": "ca7a7837-6a4f-4295-a279-41c3e1b56f24",
   "metadata": {},
   "outputs": [],
   "source": [
    "g={1, 2, 3, 3, (1, 2, 4)}"
   ]
  },
  {
   "cell_type": "code",
   "execution_count": 54,
   "id": "616fdb84-d6f1-45a1-a156-19ed472e5233",
   "metadata": {},
   "outputs": [
    {
     "ename": "TypeError",
     "evalue": "'set' object is not subscriptable",
     "output_type": "error",
     "traceback": [
      "\u001b[0;31m---------------------------------------------------------------------------\u001b[0m",
      "\u001b[0;31mTypeError\u001b[0m                                 Traceback (most recent call last)",
      "Cell \u001b[0;32mIn[54], line 1\u001b[0m\n\u001b[0;32m----> 1\u001b[0m \u001b[43mg\u001b[49m\u001b[43m[\u001b[49m\u001b[38;5;241;43m1\u001b[39;49m\u001b[43m]\u001b[49m\n",
      "\u001b[0;31mTypeError\u001b[0m: 'set' object is not subscriptable"
     ]
    }
   ],
   "source": [
    "g[1]"
   ]
  },
  {
   "cell_type": "code",
   "execution_count": 55,
   "id": "1969322a-91d5-4ec9-b908-a1d50c935e28",
   "metadata": {},
   "outputs": [
    {
     "name": "stdout",
     "output_type": "stream",
     "text": [
      "1\n",
      "2\n",
      "3\n",
      "(1, 2, 4)\n"
     ]
    }
   ],
   "source": [
    "for i in g:\n",
    "    print (i)"
   ]
  },
  {
   "cell_type": "code",
   "execution_count": 74,
   "id": "cea66cbe-b0e5-4397-b6f3-c6ccf8b19d7a",
   "metadata": {},
   "outputs": [
    {
     "data": {
      "text/plain": [
       "4"
      ]
     },
     "execution_count": 74,
     "metadata": {},
     "output_type": "execute_result"
    }
   ],
   "source": [
    "len(g)"
   ]
  },
  {
   "cell_type": "code",
   "execution_count": 75,
   "id": "6a88dc36-a96e-4b21-93a3-524394ef5d19",
   "metadata": {},
   "outputs": [],
   "source": [
    "g.add(44.5)"
   ]
  },
  {
   "cell_type": "code",
   "execution_count": 69,
   "id": "a200e30d-a207-43ea-8c97-a5fea880806a",
   "metadata": {},
   "outputs": [
    {
     "data": {
      "text/plain": [
       "{(1, 2, 4), 3, 44.5}"
      ]
     },
     "execution_count": 69,
     "metadata": {},
     "output_type": "execute_result"
    }
   ],
   "source": [
    "g"
   ]
  },
  {
   "cell_type": "code",
   "execution_count": 76,
   "id": "f6edb357-cfc6-48ec-9382-502e000470be",
   "metadata": {},
   "outputs": [
    {
     "data": {
      "text/plain": [
       "1"
      ]
     },
     "execution_count": 76,
     "metadata": {},
     "output_type": "execute_result"
    }
   ],
   "source": [
    "g.pop()"
   ]
  },
  {
   "cell_type": "code",
   "execution_count": 77,
   "id": "702b142e-fd5b-4b6c-b3dc-3c41b7994dc5",
   "metadata": {},
   "outputs": [
    {
     "data": {
      "text/plain": [
       "{(1, 2, 4), 2, 3, 44.5}"
      ]
     },
     "execution_count": 77,
     "metadata": {},
     "output_type": "execute_result"
    }
   ],
   "source": [
    "g"
   ]
  },
  {
   "cell_type": "code",
   "execution_count": 78,
   "id": "3943636c-b072-4623-84be-f01d05125e2c",
   "metadata": {},
   "outputs": [],
   "source": [
    "g.remove(44.5)"
   ]
  },
  {
   "cell_type": "code",
   "execution_count": 79,
   "id": "b001f1a1-336b-49c0-963b-1d04bcd8ac46",
   "metadata": {},
   "outputs": [
    {
     "data": {
      "text/plain": [
       "{(1, 2, 4), 2, 3}"
      ]
     },
     "execution_count": 79,
     "metadata": {},
     "output_type": "execute_result"
    }
   ],
   "source": [
    "g"
   ]
  },
  {
   "cell_type": "code",
   "execution_count": 80,
   "id": "786727c2-7c4b-4116-a234-56df57c4b630",
   "metadata": {},
   "outputs": [],
   "source": [
    "g.update(\"2\") # update not work with int"
   ]
  },
  {
   "cell_type": "code",
   "execution_count": 81,
   "id": "bd6cb137-26e6-4e8e-861e-69c7ba1c76ae",
   "metadata": {},
   "outputs": [
    {
     "data": {
      "text/plain": [
       "{(1, 2, 4), 2, '2', 3}"
      ]
     },
     "execution_count": 81,
     "metadata": {},
     "output_type": "execute_result"
    }
   ],
   "source": [
    "g"
   ]
  },
  {
   "cell_type": "code",
   "execution_count": 82,
   "id": "817a043a-7c41-414b-a95a-aba7dc0f6e52",
   "metadata": {},
   "outputs": [],
   "source": [
    "del g"
   ]
  },
  {
   "cell_type": "code",
   "execution_count": 83,
   "id": "619ed0b3-a611-4974-a7ee-5707d1a89893",
   "metadata": {},
   "outputs": [
    {
     "ename": "NameError",
     "evalue": "name 'g' is not defined",
     "output_type": "error",
     "traceback": [
      "\u001b[0;31m---------------------------------------------------------------------------\u001b[0m",
      "\u001b[0;31mNameError\u001b[0m                                 Traceback (most recent call last)",
      "Cell \u001b[0;32mIn[83], line 1\u001b[0m\n\u001b[0;32m----> 1\u001b[0m \u001b[43mg\u001b[49m\n",
      "\u001b[0;31mNameError\u001b[0m: name 'g' is not defined"
     ]
    }
   ],
   "source": [
    "g"
   ]
  },
  {
   "cell_type": "code",
   "execution_count": 86,
   "id": "0e9a4194-5053-4b35-8340-95b1592f0ace",
   "metadata": {},
   "outputs": [],
   "source": [
    "g={1, 2, 3, 3, (1, 2, 4)}"
   ]
  },
  {
   "cell_type": "code",
   "execution_count": 87,
   "id": "8218a6b4-e11a-44f7-be60-64af9a2ed8be",
   "metadata": {},
   "outputs": [],
   "source": [
    "g.clear()"
   ]
  },
  {
   "cell_type": "code",
   "execution_count": 88,
   "id": "b41f824a-e035-4587-9ce9-bd74042496e8",
   "metadata": {},
   "outputs": [
    {
     "data": {
      "text/plain": [
       "set()"
      ]
     },
     "execution_count": 88,
     "metadata": {},
     "output_type": "execute_result"
    }
   ],
   "source": [
    "g"
   ]
  },
  {
   "cell_type": "code",
   "execution_count": 92,
   "id": "b47574d9-07c0-40d5-9377-2dfca9507e82",
   "metadata": {},
   "outputs": [],
   "source": [
    "p = {4, 9, 7, 9, 4, 6}"
   ]
  },
  {
   "cell_type": "code",
   "execution_count": 93,
   "id": "f4575b4f-316f-4c41-a530-90335cf32cb4",
   "metadata": {},
   "outputs": [
    {
     "data": {
      "text/plain": [
       "{4, 6, 7, 9}"
      ]
     },
     "execution_count": 93,
     "metadata": {},
     "output_type": "execute_result"
    }
   ],
   "source": [
    "p"
   ]
  },
  {
   "cell_type": "code",
   "execution_count": 94,
   "id": "675ab1f9-4765-4492-a439-bd2cb154c143",
   "metadata": {},
   "outputs": [],
   "source": [
    "p.discard(7)"
   ]
  },
  {
   "cell_type": "code",
   "execution_count": 96,
   "id": "4114f6fa-e1d9-451f-9c84-3ff239b60bfb",
   "metadata": {},
   "outputs": [
    {
     "data": {
      "text/plain": [
       "{4, 6, 9}"
      ]
     },
     "execution_count": 96,
     "metadata": {},
     "output_type": "execute_result"
    }
   ],
   "source": [
    "p"
   ]
  },
  {
   "cell_type": "code",
   "execution_count": 101,
   "id": "bc96982f-3154-4e97-8103-08adc52730e9",
   "metadata": {},
   "outputs": [],
   "source": [
    "p.remove(9)"
   ]
  },
  {
   "cell_type": "code",
   "execution_count": 102,
   "id": "09de4e9f-bcec-47db-99a2-c38758ecc803",
   "metadata": {},
   "outputs": [
    {
     "data": {
      "text/plain": [
       "{4, 6}"
      ]
     },
     "execution_count": 102,
     "metadata": {},
     "output_type": "execute_result"
    }
   ],
   "source": [
    "p"
   ]
  },
  {
   "cell_type": "code",
   "execution_count": 106,
   "id": "8caa0545-adc2-4ee3-bd8d-24ab8b2812aa",
   "metadata": {},
   "outputs": [],
   "source": [
    "p.discard(45) # discard not throw an error if given object not present in list"
   ]
  },
  {
   "cell_type": "code",
   "execution_count": 104,
   "id": "14bb0919-fd92-4278-a10a-a717e1ae8820",
   "metadata": {},
   "outputs": [
    {
     "data": {
      "text/plain": [
       "{4, 6}"
      ]
     },
     "execution_count": 104,
     "metadata": {},
     "output_type": "execute_result"
    }
   ],
   "source": [
    "p"
   ]
  },
  {
   "cell_type": "code",
   "execution_count": 107,
   "id": "250483b2-d0ce-4aeb-ba6f-f1541b59ac17",
   "metadata": {},
   "outputs": [
    {
     "ename": "KeyError",
     "evalue": "35",
     "output_type": "error",
     "traceback": [
      "\u001b[0;31m---------------------------------------------------------------------------\u001b[0m",
      "\u001b[0;31mKeyError\u001b[0m                                  Traceback (most recent call last)",
      "Cell \u001b[0;32mIn[107], line 1\u001b[0m\n\u001b[0;32m----> 1\u001b[0m \u001b[43mp\u001b[49m\u001b[38;5;241;43m.\u001b[39;49m\u001b[43mremove\u001b[49m\u001b[43m(\u001b[49m\u001b[38;5;241;43m35\u001b[39;49m\u001b[43m)\u001b[49m \u001b[38;5;66;03m# remove throw an error if given object not present in list\u001b[39;00m\n",
      "\u001b[0;31mKeyError\u001b[0m: 35"
     ]
    }
   ],
   "source": [
    "p.remove(35) # remove throw an error if given object not present in list"
   ]
  },
  {
   "cell_type": "code",
   "execution_count": 108,
   "id": "71b6043d-d14f-48e1-87d4-66a3e7a47361",
   "metadata": {},
   "outputs": [],
   "source": [
    "#Set operations\n",
    "#Union: combines elements from two sets excluding duplicates\n",
    "#Intersection: only common elements btw sets\n",
    "#difference: return the elements that is present in first set and not in second\n",
    "#symmetric difference: returns elements that are present in either of sets but not in both"
   ]
  },
  {
   "cell_type": "code",
   "execution_count": 109,
   "id": "0a9f1b19-a5cc-4cfd-90e0-d20e44074be3",
   "metadata": {},
   "outputs": [],
   "source": [
    "h1= {'dancing', 'drawing', 11, 21}\n",
    "h2= {'drawing', 11, 'reading', 'singing'}"
   ]
  },
  {
   "cell_type": "code",
   "execution_count": 110,
   "id": "9412a5f7-d27c-4762-ba1f-59d3970562ab",
   "metadata": {},
   "outputs": [
    {
     "data": {
      "text/plain": [
       "{11, 21, 'dancing', 'drawing'}"
      ]
     },
     "execution_count": 110,
     "metadata": {},
     "output_type": "execute_result"
    }
   ],
   "source": [
    "h1"
   ]
  },
  {
   "cell_type": "code",
   "execution_count": 111,
   "id": "1e11d904-2d2a-4914-a7d8-fade1a4712f1",
   "metadata": {},
   "outputs": [
    {
     "data": {
      "text/plain": [
       "{11, 'drawing', 'reading', 'singing'}"
      ]
     },
     "execution_count": 111,
     "metadata": {},
     "output_type": "execute_result"
    }
   ],
   "source": [
    "h2"
   ]
  },
  {
   "cell_type": "code",
   "execution_count": 112,
   "id": "20b0d17c-870c-4d00-8f98-e0085737bac1",
   "metadata": {},
   "outputs": [
    {
     "data": {
      "text/plain": [
       "{11, 21, 'dancing', 'drawing', 'reading', 'singing'}"
      ]
     },
     "execution_count": 112,
     "metadata": {},
     "output_type": "execute_result"
    }
   ],
   "source": [
    "# Union >>all\n",
    "\n",
    "h1 | h2"
   ]
  },
  {
   "cell_type": "code",
   "execution_count": 113,
   "id": "e914c1c2-ee04-469b-bd64-7613c823db96",
   "metadata": {},
   "outputs": [
    {
     "data": {
      "text/plain": [
       "{11, 'drawing'}"
      ]
     },
     "execution_count": 113,
     "metadata": {},
     "output_type": "execute_result"
    }
   ],
   "source": [
    "#intersection >>commen\n",
    "\n",
    "h1 & h2"
   ]
  },
  {
   "cell_type": "code",
   "execution_count": 114,
   "id": "4ca17850-a5e1-42d3-83b9-67b52097c9a5",
   "metadata": {},
   "outputs": [
    {
     "data": {
      "text/plain": [
       "{21, 'dancing'}"
      ]
     },
     "execution_count": 114,
     "metadata": {},
     "output_type": "execute_result"
    }
   ],
   "source": [
    "# difference >>only in first set not in second\n",
    "\n",
    "h1 - h2"
   ]
  },
  {
   "cell_type": "code",
   "execution_count": 115,
   "id": "5bb483b2-7667-4f8a-b0bb-6c8590f15d96",
   "metadata": {},
   "outputs": [
    {
     "data": {
      "text/plain": [
       "{21, 'dancing', 'reading', 'singing'}"
      ]
     },
     "execution_count": 115,
     "metadata": {},
     "output_type": "execute_result"
    }
   ],
   "source": [
    "# simmetric difference >> not similar\n",
    "\n",
    "h1 ^ h2\n"
   ]
  },
  {
   "cell_type": "code",
   "execution_count": 116,
   "id": "e9c4c7cf-e412-493c-a86b-c2b9a1cbe6a6",
   "metadata": {},
   "outputs": [],
   "source": [
    "# Frozen sets\n",
    "# immutable version of sets.\n",
    "# once created cant change, add , remove"
   ]
  },
  {
   "cell_type": "code",
   "execution_count": 122,
   "id": "c6a10a1c-cec5-4320-ad1f-3b89dd6b0732",
   "metadata": {},
   "outputs": [],
   "source": [
    "y = frozenset([1, 2, 3, 4, 4, 3, 6, 1])"
   ]
  },
  {
   "cell_type": "code",
   "execution_count": 123,
   "id": "81cb41e2-e36a-44e3-851b-ac6b1bc828dc",
   "metadata": {},
   "outputs": [
    {
     "data": {
      "text/plain": [
       "frozenset({1, 2, 3, 4, 6})"
      ]
     },
     "execution_count": 123,
     "metadata": {},
     "output_type": "execute_result"
    }
   ],
   "source": [
    "y"
   ]
  },
  {
   "cell_type": "code",
   "execution_count": 118,
   "id": "f49ce8f8-13d7-4d7f-b3c8-eeb450c9bc12",
   "metadata": {},
   "outputs": [
    {
     "data": {
      "text/plain": [
       "frozenset"
      ]
     },
     "execution_count": 118,
     "metadata": {},
     "output_type": "execute_result"
    }
   ],
   "source": [
    "type(y)"
   ]
  },
  {
   "cell_type": "code",
   "execution_count": 119,
   "id": "dd91f744-0b20-4916-972c-6315a98fdd18",
   "metadata": {},
   "outputs": [
    {
     "ename": "AttributeError",
     "evalue": "'frozenset' object has no attribute 'add'",
     "output_type": "error",
     "traceback": [
      "\u001b[0;31m---------------------------------------------------------------------------\u001b[0m",
      "\u001b[0;31mAttributeError\u001b[0m                            Traceback (most recent call last)",
      "Cell \u001b[0;32mIn[119], line 1\u001b[0m\n\u001b[0;32m----> 1\u001b[0m \u001b[43my\u001b[49m\u001b[38;5;241;43m.\u001b[39;49m\u001b[43madd\u001b[49m(\u001b[38;5;241m20\u001b[39m)\n",
      "\u001b[0;31mAttributeError\u001b[0m: 'frozenset' object has no attribute 'add'"
     ]
    }
   ],
   "source": [
    "y.add(20)"
   ]
  },
  {
   "cell_type": "code",
   "execution_count": 120,
   "id": "c7af0ca1-b844-4e2f-8997-8581389f27be",
   "metadata": {},
   "outputs": [
    {
     "ename": "AttributeError",
     "evalue": "'frozenset' object has no attribute 'pop'",
     "output_type": "error",
     "traceback": [
      "\u001b[0;31m---------------------------------------------------------------------------\u001b[0m",
      "\u001b[0;31mAttributeError\u001b[0m                            Traceback (most recent call last)",
      "Cell \u001b[0;32mIn[120], line 1\u001b[0m\n\u001b[0;32m----> 1\u001b[0m \u001b[43my\u001b[49m\u001b[38;5;241;43m.\u001b[39;49m\u001b[43mpop\u001b[49m()\n",
      "\u001b[0;31mAttributeError\u001b[0m: 'frozenset' object has no attribute 'pop'"
     ]
    }
   ],
   "source": [
    "y.pop()"
   ]
  },
  {
   "cell_type": "code",
   "execution_count": 121,
   "id": "ffe87246-8451-406f-9d30-962089cd0876",
   "metadata": {},
   "outputs": [
    {
     "name": "stdout",
     "output_type": "stream",
     "text": [
      "1\n",
      "2\n",
      "3\n",
      "4\n",
      "6\n"
     ]
    }
   ],
   "source": [
    "for i in y:\n",
    "    print(i)"
   ]
  },
  {
   "cell_type": "code",
   "execution_count": null,
   "id": "b6f79a52-f390-4e98-9d85-e90550658ce4",
   "metadata": {},
   "outputs": [],
   "source": [
    "# que 4"
   ]
  },
  {
   "cell_type": "code",
   "execution_count": null,
   "id": "12df7dfa-53cd-4d9f-a06c-fd1e29d83912",
   "metadata": {},
   "outputs": [],
   "source": [
    "#Arrays are incredibly beneficial when you need to process data dynamically.\n",
    "#Python arrays are faster than lists because they use less memory.\n",
    "#An array is a concept that stores different items of the same type together as one and makes calculating the stance of each element easier by adding an offset to the base number."
   ]
  },
  {
   "cell_type": "code",
   "execution_count": null,
   "id": "9bbca717-1dd7-41db-afb6-f043e29aeefa",
   "metadata": {},
   "outputs": [],
   "source": [
    "from array import array # array is similar to list but more fast >> Homogenous data/ Numeric data"
   ]
  },
  {
   "cell_type": "code",
   "execution_count": null,
   "id": "aa1bbb08-066d-46d3-bd25-8381fb311f22",
   "metadata": {},
   "outputs": [
    {
     "data": {
      "text/plain": [
       "array('i', [6, 9, 9, 8, 7])"
      ]
     },
     "execution_count": 68,
     "metadata": {},
     "output_type": "execute_result"
    }
   ],
   "source": [
    "array(\"i\",[6, 9, 9, 8, 7])"
   ]
  },
  {
   "cell_type": "code",
   "execution_count": null,
   "id": "79c62d6a-0e15-4ba0-987a-67c9c4e70d1c",
   "metadata": {},
   "outputs": [],
   "source": [
    "d= array(\"i\", [4, 8, 7, 4, 8, 6, 8, 7])"
   ]
  },
  {
   "cell_type": "code",
   "execution_count": null,
   "id": "a135fd31-9489-4209-bd80-e0595a5ab3a9",
   "metadata": {},
   "outputs": [
    {
     "data": {
      "text/plain": [
       "4"
      ]
     },
     "execution_count": 82,
     "metadata": {},
     "output_type": "execute_result"
    }
   ],
   "source": [
    "d[3]"
   ]
  },
  {
   "cell_type": "code",
   "execution_count": null,
   "id": "00c34e6f-4019-407b-bf96-2bd5d54113c4",
   "metadata": {},
   "outputs": [
    {
     "data": {
      "text/plain": [
       "8"
      ]
     },
     "execution_count": 83,
     "metadata": {},
     "output_type": "execute_result"
    }
   ],
   "source": [
    "d[6]"
   ]
  },
  {
   "cell_type": "code",
   "execution_count": null,
   "id": "41d48813-48c0-4d82-9760-f72ebf793dd8",
   "metadata": {},
   "outputs": [
    {
     "ename": "TypeError",
     "evalue": "'str' object cannot be interpreted as an integer",
     "output_type": "error",
     "traceback": [
      "\u001b[0;31m---------------------------------------------------------------------------\u001b[0m",
      "\u001b[0;31mTypeError\u001b[0m                                 Traceback (most recent call last)",
      "Cell \u001b[0;32mIn[84], line 1\u001b[0m\n\u001b[0;32m----> 1\u001b[0m d\u001b[38;5;241m=\u001b[39m \u001b[43marray\u001b[49m\u001b[43m(\u001b[49m\u001b[38;5;124;43m\"\u001b[39;49m\u001b[38;5;124;43mi\u001b[39;49m\u001b[38;5;124;43m\"\u001b[39;49m\u001b[43m,\u001b[49m\u001b[43m \u001b[49m\u001b[43m[\u001b[49m\u001b[38;5;241;43m4\u001b[39;49m\u001b[43m,\u001b[49m\u001b[43m \u001b[49m\u001b[38;5;241;43m8\u001b[39;49m\u001b[43m,\u001b[49m\u001b[43m \u001b[49m\u001b[38;5;241;43m7\u001b[39;49m\u001b[43m,\u001b[49m\u001b[43m \u001b[49m\u001b[38;5;241;43m4\u001b[39;49m\u001b[43m,\u001b[49m\u001b[43m \u001b[49m\u001b[38;5;241;43m8\u001b[39;49m\u001b[43m,\u001b[49m\u001b[43m \u001b[49m\u001b[38;5;241;43m6\u001b[39;49m\u001b[43m,\u001b[49m\u001b[43m \u001b[49m\u001b[38;5;124;43m\"\u001b[39;49m\u001b[38;5;124;43mram\u001b[39;49m\u001b[38;5;124;43m\"\u001b[39;49m\u001b[43m,\u001b[49m\u001b[43m \u001b[49m\u001b[38;5;241;43m7\u001b[39;49m\u001b[43m]\u001b[49m\u001b[43m)\u001b[49m\n",
      "\u001b[0;31mTypeError\u001b[0m: 'str' object cannot be interpreted as an integer"
     ]
    }
   ],
   "source": [
    "d= array(\"i\", [4, 8, 7, 4, 8, 6, \"ram\", 7])"
   ]
  },
  {
   "cell_type": "code",
   "execution_count": 10,
   "id": "f24f4b92-b9ad-4c2e-b7b8-9ea0f034e629",
   "metadata": {},
   "outputs": [],
   "source": [
    "# que 5"
   ]
  },
  {
   "cell_type": "code",
   "execution_count": null,
   "id": "b0643f18-80c1-4f13-9574-b330b0ebbccf",
   "metadata": {},
   "outputs": [],
   "source": [
    "#Lists and Dictionaries in Python are inbuilt data structures that are used to store data.\n",
    "#Lists are linear in nature whereas the dictionaries stored the data in key-value pair. In this article, we will see the difference between the two.\n",
    "#Lists in Python=\n",
    "#Lists are just like arrays, declared in other languages. Lists need not be homogeneous always which makes it a most powerful tool in Python.\n",
    "#A single list may contain data types like Integers, Strings, as well as Objects. Lists are mutable, and hence, even after their creation.\n",
    "#Dictionary in Python=\n",
    "#Python Dictionary on the other hand is an unordered collection of data values,\n",
    "#used to store data values like a map, unlike other Data Types that hold only a single value as an element, Dictionary holds a key:value pair. \n",
    "#Key-value is provided in the dictionary to make it more optimized. \n",
    "#Each key-value pair in a Dictionary is separated by a colon (:) whereas each key is separated by a ‘comma’."
   ]
  },
  {
   "cell_type": "code",
   "execution_count": 1,
   "id": "4bb8d19a-576e-422c-9c4d-4cacaddaa38b",
   "metadata": {},
   "outputs": [],
   "source": [
    "Shopping_items=['chilli','potato', 'apple', 'banana',6, 66.2, '6k']"
   ]
  },
  {
   "cell_type": "code",
   "execution_count": 18,
   "id": "e19b678f-c61c-4f3a-ad9b-5228a2692532",
   "metadata": {},
   "outputs": [
    {
     "data": {
      "text/plain": [
       "list"
      ]
     },
     "execution_count": 18,
     "metadata": {},
     "output_type": "execute_result"
    }
   ],
   "source": [
    "type(Shopping_items)"
   ]
  },
  {
   "cell_type": "code",
   "execution_count": 27,
   "id": "720ba8b3-d05f-462a-9d33-7723f8f1015c",
   "metadata": {},
   "outputs": [],
   "source": [
    "Words={\"A\":\"Apple\",\"B\" :\"Ball\", \"C\":\"Cat\"}"
   ]
  },
  {
   "cell_type": "code",
   "execution_count": 28,
   "id": "f68f42cd-0596-4b5c-9875-5baf364c2747",
   "metadata": {},
   "outputs": [
    {
     "data": {
      "text/plain": [
       "dict"
      ]
     },
     "execution_count": 28,
     "metadata": {},
     "output_type": "execute_result"
    }
   ],
   "source": [
    "type(Words)"
   ]
  },
  {
   "cell_type": "code",
   "execution_count": 1,
   "id": "0e7799b8-cf75-42f4-8ded-5fce9cde9544",
   "metadata": {},
   "outputs": [],
   "source": []
  },
  {
   "cell_type": "code",
   "execution_count": 1,
   "id": "bd97066b-44f7-492f-8f82-9d2070b19f35",
   "metadata": {},
   "outputs": [],
   "source": []
  }
 ],
 "metadata": {
  "kernelspec": {
   "display_name": "Python 3 (ipykernel)",
   "language": "python",
   "name": "python3"
  },
  "language_info": {
   "codemirror_mode": {
    "name": "ipython",
    "version": 3
   },
   "file_extension": ".py",
   "mimetype": "text/x-python",
   "name": "python",
   "nbconvert_exporter": "python",
   "pygments_lexer": "ipython3",
   "version": "3.10.8"
  }
 },
 "nbformat": 4,
 "nbformat_minor": 5
}
