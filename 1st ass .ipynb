{
 "cells": [
  {
   "cell_type": "code",
   "execution_count": 1,
   "id": "76bd933b-11ee-4799-94e3-d513ba7c1d46",
   "metadata": {},
   "outputs": [],
   "source": [
    "# que 1"
   ]
  },
  {
   "cell_type": "code",
   "execution_count": 4,
   "id": "26208606-53f1-4735-bb79-c954c4b6cad3",
   "metadata": {},
   "outputs": [],
   "source": [
    "a =45"
   ]
  },
  {
   "cell_type": "code",
   "execution_count": 5,
   "id": "13742bac-e81c-4899-b34f-42634a313cfb",
   "metadata": {},
   "outputs": [
    {
     "data": {
      "text/plain": [
       "45"
      ]
     },
     "execution_count": 5,
     "metadata": {},
     "output_type": "execute_result"
    }
   ],
   "source": [
    "a"
   ]
  },
  {
   "cell_type": "code",
   "execution_count": 6,
   "id": "5135cf32-ffe5-4d9c-b912-55b4413e4c2d",
   "metadata": {},
   "outputs": [
    {
     "data": {
      "text/plain": [
       "45.0"
      ]
     },
     "execution_count": 6,
     "metadata": {},
     "output_type": "execute_result"
    }
   ],
   "source": [
    "float(a)"
   ]
  },
  {
   "cell_type": "code",
   "execution_count": 7,
   "id": "2200294e-903d-4593-a00a-807a497fc99b",
   "metadata": {},
   "outputs": [],
   "source": [
    "# que 2"
   ]
  },
  {
   "cell_type": "code",
   "execution_count": 8,
   "id": "eef4e1cd-16dd-4bea-af21-2cfeddb9fb11",
   "metadata": {},
   "outputs": [],
   "source": [
    "b= 30.5"
   ]
  },
  {
   "cell_type": "code",
   "execution_count": 9,
   "id": "3418a0c3-3b55-46c7-93d7-819f32dc75bb",
   "metadata": {},
   "outputs": [
    {
     "data": {
      "text/plain": [
       "30.5"
      ]
     },
     "execution_count": 9,
     "metadata": {},
     "output_type": "execute_result"
    }
   ],
   "source": [
    "b"
   ]
  },
  {
   "cell_type": "code",
   "execution_count": 10,
   "id": "ad685304-0d32-4785-bab0-c788a7248c86",
   "metadata": {},
   "outputs": [
    {
     "data": {
      "text/plain": [
       "30"
      ]
     },
     "execution_count": 10,
     "metadata": {},
     "output_type": "execute_result"
    }
   ],
   "source": [
    "int(b)"
   ]
  },
  {
   "cell_type": "code",
   "execution_count": 11,
   "id": "da0ff6b3-3de8-41e4-936e-a958071193a7",
   "metadata": {},
   "outputs": [],
   "source": [
    "# que 3"
   ]
  },
  {
   "cell_type": "code",
   "execution_count": 12,
   "id": "9455698e-e481-4500-a346-3adca00c7b5c",
   "metadata": {},
   "outputs": [],
   "source": [
    "c = 20"
   ]
  },
  {
   "cell_type": "code",
   "execution_count": 13,
   "id": "1cd35d01-4ffe-494e-bda7-514f76df6688",
   "metadata": {},
   "outputs": [
    {
     "data": {
      "text/plain": [
       "'20'"
      ]
     },
     "execution_count": 13,
     "metadata": {},
     "output_type": "execute_result"
    }
   ],
   "source": [
    "str(c)"
   ]
  },
  {
   "cell_type": "code",
   "execution_count": 14,
   "id": "8f57249a-80da-488a-9e15-a748fd3d00ad",
   "metadata": {},
   "outputs": [],
   "source": [
    "# que 4"
   ]
  },
  {
   "cell_type": "code",
   "execution_count": 15,
   "id": "a5e2a504-59e3-458a-8d4c-1b2152cd7c8d",
   "metadata": {},
   "outputs": [],
   "source": [
    "d = [4, \"sonali\" , 55.20, True, 45]"
   ]
  },
  {
   "cell_type": "code",
   "execution_count": 16,
   "id": "445688fc-c8a1-48f5-a2f1-f673e9f5b07d",
   "metadata": {},
   "outputs": [
    {
     "data": {
      "text/plain": [
       "(4, 'sonali', 55.2, True, 45)"
      ]
     },
     "execution_count": 16,
     "metadata": {},
     "output_type": "execute_result"
    }
   ],
   "source": [
    "tuple(d)"
   ]
  },
  {
   "cell_type": "code",
   "execution_count": 17,
   "id": "29967414-5828-499d-b4fc-c4612688dde5",
   "metadata": {},
   "outputs": [],
   "source": [
    "# que 5"
   ]
  },
  {
   "cell_type": "code",
   "execution_count": 25,
   "id": "92f8fe0f-593b-4864-96f2-6dfcda471782",
   "metadata": {},
   "outputs": [],
   "source": [
    "e = (4, \"sonali\" , 55.20, True, 45)"
   ]
  },
  {
   "cell_type": "code",
   "execution_count": 26,
   "id": "ce52bb44-84c8-418a-8aa2-b1b9de5e6ecf",
   "metadata": {},
   "outputs": [
    {
     "data": {
      "text/plain": [
       "[4, 'sonali', 55.2, True, 45]"
      ]
     },
     "execution_count": 26,
     "metadata": {},
     "output_type": "execute_result"
    }
   ],
   "source": [
    "list(e)"
   ]
  },
  {
   "cell_type": "code",
   "execution_count": 27,
   "id": "9ab8a865-3a79-4271-8747-501ae7669ef7",
   "metadata": {},
   "outputs": [],
   "source": [
    "# que 6"
   ]
  },
  {
   "cell_type": "code",
   "execution_count": 28,
   "id": "8be9c744-6ff7-418f-a0c4-b917640353f9",
   "metadata": {},
   "outputs": [
    {
     "data": {
      "text/plain": [
       "'0b11001'"
      ]
     },
     "execution_count": 28,
     "metadata": {},
     "output_type": "execute_result"
    }
   ],
   "source": [
    "bin(25)"
   ]
  },
  {
   "cell_type": "code",
   "execution_count": 29,
   "id": "cec4592e-1e50-4318-92f8-18f9ae28b952",
   "metadata": {},
   "outputs": [],
   "source": [
    "# que 7"
   ]
  },
  {
   "cell_type": "code",
   "execution_count": 30,
   "id": "c1abc8e7-f40f-436e-804e-d6e796056d50",
   "metadata": {},
   "outputs": [
    {
     "data": {
      "text/plain": [
       "False"
      ]
     },
     "execution_count": 30,
     "metadata": {},
     "output_type": "execute_result"
    }
   ],
   "source": [
    "bool(0)"
   ]
  },
  {
   "cell_type": "code",
   "execution_count": 31,
   "id": "dca33e0d-3215-4514-9e86-086de5de1fd8",
   "metadata": {},
   "outputs": [
    {
     "data": {
      "text/plain": [
       "True"
      ]
     },
     "execution_count": 31,
     "metadata": {},
     "output_type": "execute_result"
    }
   ],
   "source": [
    "bool(1)"
   ]
  },
  {
   "cell_type": "code",
   "execution_count": null,
   "id": "4deb9e31-2c5b-4e8e-befe-ed497d5c2ce9",
   "metadata": {},
   "outputs": [],
   "source": []
  }
 ],
 "metadata": {
  "kernelspec": {
   "display_name": "Python 3 (ipykernel)",
   "language": "python",
   "name": "python3"
  },
  "language_info": {
   "codemirror_mode": {
    "name": "ipython",
    "version": 3
   },
   "file_extension": ".py",
   "mimetype": "text/x-python",
   "name": "python",
   "nbconvert_exporter": "python",
   "pygments_lexer": "ipython3",
   "version": "3.10.8"
  }
 },
 "nbformat": 4,
 "nbformat_minor": 5
}
