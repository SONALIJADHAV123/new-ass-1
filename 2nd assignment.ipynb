{
 "cells": [
  {
   "cell_type": "code",
   "execution_count": 1,
   "id": "75daad9a-50ce-4b81-8dd6-d6e94b8a34c8",
   "metadata": {},
   "outputs": [],
   "source": [
    "# que 1"
   ]
  },
  {
   "cell_type": "code",
   "execution_count": 2,
   "id": "719fb553-1bd5-4c9e-af06-0eee1e733c54",
   "metadata": {},
   "outputs": [
    {
     "data": {
      "text/plain": [
       "23"
      ]
     },
     "execution_count": 2,
     "metadata": {},
     "output_type": "execute_result"
    }
   ],
   "source": [
    "20+3"
   ]
  },
  {
   "cell_type": "code",
   "execution_count": 3,
   "id": "a9402cfa-1fd3-4ebb-aef3-60c9358f6854",
   "metadata": {},
   "outputs": [
    {
     "data": {
      "text/plain": [
       "23"
      ]
     },
     "execution_count": 3,
     "metadata": {},
     "output_type": "execute_result"
    }
   ],
   "source": [
    "45-22"
   ]
  },
  {
   "cell_type": "code",
   "execution_count": 4,
   "id": "2681282a-fc4f-4a8d-a0ac-bfd27cd78165",
   "metadata": {},
   "outputs": [
    {
     "data": {
      "text/plain": [
       "132"
      ]
     },
     "execution_count": 4,
     "metadata": {},
     "output_type": "execute_result"
    }
   ],
   "source": [
    "33*4"
   ]
  },
  {
   "cell_type": "code",
   "execution_count": 5,
   "id": "d5098224-408c-4b0a-9557-8c994632980c",
   "metadata": {},
   "outputs": [
    {
     "data": {
      "text/plain": [
       "30.0"
      ]
     },
     "execution_count": 5,
     "metadata": {},
     "output_type": "execute_result"
    }
   ],
   "source": [
    "90/3"
   ]
  },
  {
   "cell_type": "code",
   "execution_count": 6,
   "id": "f6f05f5e-1dfb-4963-b748-9a5fdc0d08ae",
   "metadata": {},
   "outputs": [],
   "source": [
    "# que 2"
   ]
  },
  {
   "cell_type": "code",
   "execution_count": null,
   "id": "b1272230-8597-4d2d-b47d-e9dd4d358084",
   "metadata": {},
   "outputs": [],
   "source": [
    "#Assignment Operator"
   ]
  },
  {
   "cell_type": "code",
   "execution_count": 9,
   "id": "9c61e611-b041-4407-aee9-467568977e60",
   "metadata": {},
   "outputs": [],
   "source": [
    "k=6"
   ]
  },
  {
   "cell_type": "code",
   "execution_count": 10,
   "id": "0aa5b302-4fb3-4e6c-882d-f4fdd7bc5f6d",
   "metadata": {},
   "outputs": [
    {
     "data": {
      "text/plain": [
       "6"
      ]
     },
     "execution_count": 10,
     "metadata": {},
     "output_type": "execute_result"
    }
   ],
   "source": [
    "k"
   ]
  },
  {
   "cell_type": "code",
   "execution_count": 3,
   "id": "a6664a96-c226-4bf4-a35e-cc86bff8ec85",
   "metadata": {},
   "outputs": [
    {
     "data": {
      "text/plain": [
       "15"
      ]
     },
     "execution_count": 3,
     "metadata": {},
     "output_type": "execute_result"
    }
   ],
   "source": [
    "k + 9"
   ]
  },
  {
   "cell_type": "code",
   "execution_count": 4,
   "id": "fbea7852-c6da-4787-a3cd-fc2558865dea",
   "metadata": {},
   "outputs": [
    {
     "data": {
      "text/plain": [
       "6"
      ]
     },
     "execution_count": 4,
     "metadata": {},
     "output_type": "execute_result"
    }
   ],
   "source": [
    "k"
   ]
  },
  {
   "cell_type": "code",
   "execution_count": 5,
   "id": "c9bf7326-fc50-415b-b28f-5946480b9e9d",
   "metadata": {},
   "outputs": [],
   "source": [
    "k= k + 9"
   ]
  },
  {
   "cell_type": "code",
   "execution_count": 6,
   "id": "438a7183-cd90-484a-95e3-2126102fe17b",
   "metadata": {},
   "outputs": [
    {
     "data": {
      "text/plain": [
       "15"
      ]
     },
     "execution_count": 6,
     "metadata": {},
     "output_type": "execute_result"
    }
   ],
   "source": [
    "k"
   ]
  },
  {
   "cell_type": "code",
   "execution_count": 7,
   "id": "ba9a2d32-1734-41cc-aff3-56549cb2f8a3",
   "metadata": {},
   "outputs": [],
   "source": [
    "k += 7"
   ]
  },
  {
   "cell_type": "code",
   "execution_count": 8,
   "id": "10311760-b876-4801-8547-8d3c74b38eb1",
   "metadata": {},
   "outputs": [
    {
     "data": {
      "text/plain": [
       "22"
      ]
     },
     "execution_count": 8,
     "metadata": {},
     "output_type": "execute_result"
    }
   ],
   "source": [
    "k"
   ]
  },
  {
   "cell_type": "code",
   "execution_count": 9,
   "id": "b4b6c461-c0ba-4738-925c-a6205e85c065",
   "metadata": {},
   "outputs": [],
   "source": [
    "k *= 3"
   ]
  },
  {
   "cell_type": "code",
   "execution_count": 10,
   "id": "b322dc76-a823-49af-b80f-732921e93551",
   "metadata": {},
   "outputs": [
    {
     "data": {
      "text/plain": [
       "66"
      ]
     },
     "execution_count": 10,
     "metadata": {},
     "output_type": "execute_result"
    }
   ],
   "source": [
    "k"
   ]
  },
  {
   "cell_type": "code",
   "execution_count": 11,
   "id": "0c2b7d65-34b9-4754-a4d7-5a0f8c028c4f",
   "metadata": {},
   "outputs": [],
   "source": [
    "k /= 4"
   ]
  },
  {
   "cell_type": "code",
   "execution_count": 12,
   "id": "0a6e18e7-c0fc-411c-8463-c8bea43c1245",
   "metadata": {},
   "outputs": [
    {
     "data": {
      "text/plain": [
       "1.5"
      ]
     },
     "execution_count": 12,
     "metadata": {},
     "output_type": "execute_result"
    }
   ],
   "source": [
    "k"
   ]
  },
  {
   "cell_type": "code",
   "execution_count": null,
   "id": "e3a73d06-b601-4e99-b8bf-5d0e70fd8b1f",
   "metadata": {},
   "outputs": [],
   "source": [
    "# que 3"
   ]
  },
  {
   "cell_type": "code",
   "execution_count": null,
   "id": "e53bf8ae-82c9-4f28-8508-6401a61b13b5",
   "metadata": {},
   "outputs": [],
   "source": [
    "#2]Comparison Operator"
   ]
  },
  {
   "cell_type": "code",
   "execution_count": 17,
   "id": "76fb8ac5-c8c5-4886-b7cb-076488cae306",
   "metadata": {},
   "outputs": [
    {
     "data": {
      "text/plain": [
       "True"
      ]
     },
     "execution_count": 17,
     "metadata": {},
     "output_type": "execute_result"
    }
   ],
   "source": [
    "8==8"
   ]
  },
  {
   "cell_type": "code",
   "execution_count": 22,
   "id": "289083df-548d-4b18-a3e7-4654c151a3cb",
   "metadata": {},
   "outputs": [
    {
     "data": {
      "text/plain": [
       "True"
      ]
     },
     "execution_count": 22,
     "metadata": {},
     "output_type": "execute_result"
    }
   ],
   "source": [
    "8 != 9"
   ]
  },
  {
   "cell_type": "code",
   "execution_count": 23,
   "id": "c77e469f-98ba-4dcc-b299-c90c296dbe82",
   "metadata": {},
   "outputs": [
    {
     "data": {
      "text/plain": [
       "False"
      ]
     },
     "execution_count": 23,
     "metadata": {},
     "output_type": "execute_result"
    }
   ],
   "source": [
    "5 != 5"
   ]
  },
  {
   "cell_type": "code",
   "execution_count": 25,
   "id": "9bb6b87a-1c75-44ed-98e2-87b485766fe4",
   "metadata": {},
   "outputs": [
    {
     "data": {
      "text/plain": [
       "True"
      ]
     },
     "execution_count": 25,
     "metadata": {},
     "output_type": "execute_result"
    }
   ],
   "source": [
    "5 >= 5"
   ]
  },
  {
   "cell_type": "code",
   "execution_count": 26,
   "id": "f371dc9a-09ed-4066-890e-739963d11404",
   "metadata": {},
   "outputs": [
    {
     "data": {
      "text/plain": [
       "True"
      ]
     },
     "execution_count": 26,
     "metadata": {},
     "output_type": "execute_result"
    }
   ],
   "source": [
    "9 <= 9"
   ]
  },
  {
   "cell_type": "code",
   "execution_count": 27,
   "id": "9ee7b399-bf7f-4d7e-b19d-13899c8053c1",
   "metadata": {},
   "outputs": [
    {
     "data": {
      "text/plain": [
       "False"
      ]
     },
     "execution_count": 27,
     "metadata": {},
     "output_type": "execute_result"
    }
   ],
   "source": [
    "10>=12"
   ]
  },
  {
   "cell_type": "code",
   "execution_count": 28,
   "id": "93f82a21-d7e9-4ea3-9ef4-564ded41aed7",
   "metadata": {},
   "outputs": [
    {
     "data": {
      "text/plain": [
       "True"
      ]
     },
     "execution_count": 28,
     "metadata": {},
     "output_type": "execute_result"
    }
   ],
   "source": [
    "4>=3"
   ]
  },
  {
   "cell_type": "code",
   "execution_count": 30,
   "id": "2bf9c0ff-e339-475d-80d9-a1e51659408c",
   "metadata": {},
   "outputs": [
    {
     "data": {
      "text/plain": [
       "True"
      ]
     },
     "execution_count": 30,
     "metadata": {},
     "output_type": "execute_result"
    }
   ],
   "source": [
    "6<=9"
   ]
  },
  {
   "cell_type": "code",
   "execution_count": 13,
   "id": "41557e15-781f-4469-9de4-c57dfd8fc5ed",
   "metadata": {},
   "outputs": [
    {
     "data": {
      "text/plain": [
       "False"
      ]
     },
     "execution_count": 13,
     "metadata": {},
     "output_type": "execute_result"
    }
   ],
   "source": [
    "5<=3"
   ]
  },
  {
   "cell_type": "code",
   "execution_count": null,
   "id": "f9ec5cac-cb6b-4a6a-8bbf-24b3e0814dfc",
   "metadata": {},
   "outputs": [],
   "source": [
    "# que 4"
   ]
  },
  {
   "cell_type": "code",
   "execution_count": 32,
   "id": "780524a7-155f-4d02-8290-d1c12eab76ef",
   "metadata": {},
   "outputs": [
    {
     "data": {
      "text/plain": [
       "True"
      ]
     },
     "execution_count": 32,
     "metadata": {},
     "output_type": "execute_result"
    }
   ],
   "source": [
    "True and True "
   ]
  },
  {
   "cell_type": "code",
   "execution_count": 33,
   "id": "1b9f03e5-46c1-41be-8ef7-8cdd6ca5864f",
   "metadata": {},
   "outputs": [
    {
     "data": {
      "text/plain": [
       "False"
      ]
     },
     "execution_count": 33,
     "metadata": {},
     "output_type": "execute_result"
    }
   ],
   "source": [
    "True and False"
   ]
  },
  {
   "cell_type": "code",
   "execution_count": 14,
   "id": "b1d66bc2-077a-4c7e-821b-742cffa68825",
   "metadata": {},
   "outputs": [
    {
     "data": {
      "text/plain": [
       "False"
      ]
     },
     "execution_count": 14,
     "metadata": {},
     "output_type": "execute_result"
    }
   ],
   "source": [
    "False and False"
   ]
  },
  {
   "cell_type": "code",
   "execution_count": null,
   "id": "d5421abf-2b85-4074-b6d4-d8bf17b7157d",
   "metadata": {},
   "outputs": [],
   "source": [
    "# que 5"
   ]
  },
  {
   "cell_type": "code",
   "execution_count": null,
   "id": "0e2549e6-e46e-477a-87d9-823aac1e8089",
   "metadata": {},
   "outputs": [],
   "source": [
    "str1 = \"hello\"\n",
    "print(id(str1))"
   ]
  },
  {
   "cell_type": "code",
   "execution_count": 10,
   "id": "fe118739-76f4-4749-83eb-b2f25b3c82de",
   "metadata": {},
   "outputs": [
    {
     "data": {
      "text/plain": [
       "'0b11010'"
      ]
     },
     "execution_count": 10,
     "metadata": {},
     "output_type": "execute_result"
    }
   ],
   "source": [
    "bin(12)\n",
    "bin(26)"
   ]
  },
  {
   "cell_type": "code",
   "execution_count": 17,
   "id": "367bcf36-5302-476e-adc4-e6376899ce4a",
   "metadata": {},
   "outputs": [],
   "source": [
    "# que 7"
   ]
  },
  {
   "cell_type": "code",
   "execution_count": 18,
   "id": "18f8c673-fd92-4b59-b7d2-a967007fc13b",
   "metadata": {},
   "outputs": [
    {
     "data": {
      "text/plain": [
       "7"
      ]
     },
     "execution_count": 18,
     "metadata": {},
     "output_type": "execute_result"
    }
   ],
   "source": [
    "5++2"
   ]
  },
  {
   "cell_type": "code",
   "execution_count": 22,
   "id": "2c7c3057-7378-4f4f-98c3-60b46c705c7d",
   "metadata": {},
   "outputs": [
    {
     "data": {
      "text/plain": [
       "12"
      ]
     },
     "execution_count": 22,
     "metadata": {},
     "output_type": "execute_result"
    }
   ],
   "source": [
    "9--3"
   ]
  },
  {
   "cell_type": "code",
   "execution_count": 17,
   "id": "d2145dbf-5b7e-43d4-9089-659a966c83d3",
   "metadata": {},
   "outputs": [],
   "source": [
    "# que 8"
   ]
  },
  {
   "cell_type": "code",
   "execution_count": 23,
   "id": "2093611f-a4eb-4125-bfe2-2ac34239e013",
   "metadata": {},
   "outputs": [
    {
     "name": "stdout",
     "output_type": "stream",
     "text": [
      "even\n"
     ]
    }
   ],
   "source": [
    "number = 8\n",
    "if number % 2 == 0:\n",
    "    print(\"even\")\n",
    "else:\n",
    "    print(\"odd\")\n"
   ]
  },
  {
   "cell_type": "code",
   "execution_count": null,
   "id": "65ef1171-7185-458a-ae66-63b1060d46cd",
   "metadata": {},
   "outputs": [],
   "source": []
  }
 ],
 "metadata": {
  "kernelspec": {
   "display_name": "Python 3 (ipykernel)",
   "language": "python",
   "name": "python3"
  },
  "language_info": {
   "codemirror_mode": {
    "name": "ipython",
    "version": 3
   },
   "file_extension": ".py",
   "mimetype": "text/x-python",
   "name": "python",
   "nbconvert_exporter": "python",
   "pygments_lexer": "ipython3",
   "version": "3.10.8"
  }
 },
 "nbformat": 4,
 "nbformat_minor": 5
}
