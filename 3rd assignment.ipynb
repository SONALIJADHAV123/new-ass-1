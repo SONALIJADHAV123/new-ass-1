{
 "cells": [
  {
   "cell_type": "code",
   "execution_count": 1,
   "id": "2994f885-eb10-44aa-bbb0-61cbbadf0f23",
   "metadata": {},
   "outputs": [],
   "source": [
    "# que 1"
   ]
  },
  {
   "cell_type": "code",
   "execution_count": 1,
   "id": "9e9266cf-0e1c-40ba-9ced-d2f64fb78119",
   "metadata": {},
   "outputs": [],
   "source": [
    "#The this keyword refers to the current object in a method or constructor. The most common use of the this keyword is to eliminate the \n",
    "#confusion between class attributes and parameters with the same name (because a class attribute is shadowed by a method or constructor \n",
    "#parameter).Python Keywords are some predefined and reserved words in Python that have special meanings.Keywords are used to define the\n",
    "#syntax of the coding. The keyword cannot be used as an identifier, function, or variable name."
   ]
  },
  {
   "cell_type": "code",
   "execution_count": 38,
   "id": "380a6187-d160-4355-a74e-31d32ebf10e8",
   "metadata": {},
   "outputs": [
    {
     "data": {
      "text/plain": [
       "False"
      ]
     },
     "execution_count": 38,
     "metadata": {},
     "output_type": "execute_result"
    }
   ],
   "source": [
    "not True"
   ]
  },
  {
   "cell_type": "code",
   "execution_count": 39,
   "id": "43201bd2-344b-4b9a-89df-dd70d8a5c7ce",
   "metadata": {},
   "outputs": [
    {
     "data": {
      "text/plain": [
       "True"
      ]
     },
     "execution_count": 39,
     "metadata": {},
     "output_type": "execute_result"
    }
   ],
   "source": [
    "not False"
   ]
  },
  {
   "cell_type": "code",
   "execution_count": 4,
   "id": "b877a99f-fbd5-471a-9a10-44a94ca1503a",
   "metadata": {},
   "outputs": [
    {
     "name": "stdout",
     "output_type": "stream",
     "text": [
      " The no is greater then 100\n"
     ]
    }
   ],
   "source": [
    "s = 25\n",
    "if s > 20:  # to execute the if block condition should be true\n",
    "    print(\" The no is greater then 100\")"
   ]
  },
  {
   "cell_type": "code",
   "execution_count": 1,
   "id": "ffe86f29-58e8-40d6-bb0b-e566826d8a45",
   "metadata": {},
   "outputs": [
    {
     "name": "stdin",
     "output_type": "stream",
     "text": [
      "enter your name sj\n",
      "entet your mail sj@\n",
      "enter your passward 123\n"
     ]
    },
    {
     "name": "stdout",
     "output_type": "stream",
     "text": [
      "registration successful\n"
     ]
    }
   ],
   "source": [
    "name = input(\"enter your name\")\n",
    "email = input(\"entet your mail\")\n",
    "passward = input(\"enter your passward\")\n",
    "if name==\"\":\n",
    "    print(\"name can not be empty\")\n",
    "elif\"@\" not in email:\n",
    "    print(\"invalide email\")\n",
    "elif len (passward) < 3:\n",
    "    print(\"invalide passward\")\n",
    "else: \n",
    "    print(\"registration successful\")\n",
    "    "
   ]
  },
  {
   "cell_type": "code",
   "execution_count": 3,
   "id": "34746062-e782-43fd-a114-123eaaa0f4f9",
   "metadata": {},
   "outputs": [
    {
     "name": "stdout",
     "output_type": "stream",
     "text": [
      "28\n",
      "26\n",
      "24\n",
      "22\n",
      "20\n",
      "16\n",
      "14\n",
      "12\n",
      "10\n",
      "8\n",
      "6\n",
      "4\n",
      "This will be executed when the while loop is run succesefully\n"
     ]
    }
   ],
   "source": [
    "f=30\n",
    "e=4\n",
    "while e<f:\n",
    "    f-= 2\n",
    "    if f == 18:\n",
    "        continue\n",
    "    print(f)\n",
    "else:\n",
    "    print(\"This will be executed when the while loop is run succesefully\")"
   ]
  },
  {
   "cell_type": "code",
   "execution_count": 2,
   "id": "bea3c1f4-47e4-4065-9a37-72dca3cfcc94",
   "metadata": {},
   "outputs": [
    {
     "name": "stdout",
     "output_type": "stream",
     "text": [
      "42.5\n",
      "44.0\n",
      "45.5\n"
     ]
    }
   ],
   "source": [
    "f=41\n",
    "e=49\n",
    "while e>f:\n",
    "    f+= 1.5\n",
    "    if f ==47:\n",
    "        break\n",
    "    print(f)\n",
    "else:\n",
    "    print(\"This will be executed when the while loop is run succesefully\")"
   ]
  },
  {
   "cell_type": "code",
   "execution_count": null,
   "id": "121fad60-0afc-4f36-b07c-9db4751b114f",
   "metadata": {},
   "outputs": [],
   "source": [
    "# que 2"
   ]
  },
  {
   "cell_type": "code",
   "execution_count": 2,
   "id": "f59789e2-859b-442a-8b9f-899f278b9265",
   "metadata": {},
   "outputs": [],
   "source": [
    "abc = \"A\" # valide"
   ]
  },
  {
   "cell_type": "code",
   "execution_count": 4,
   "id": "c410dd7e-7833-4888-9d5f-e6f9ac727805",
   "metadata": {},
   "outputs": [],
   "source": [
    "#Comments in Python is the inclusion of short descriptions along with the code to increase its readability.\n",
    "#A developer uses them to writehis or her thought process while writing the code.\n",
    "#It explains the basic logic behind why a particular line of code was written."
   ]
  },
  {
   "cell_type": "code",
   "execution_count": 3,
   "id": "ed71295c-e8a3-4cdc-8550-6932d96ceb2f",
   "metadata": {},
   "outputs": [
    {
     "data": {
      "text/plain": [
       "'A'"
      ]
     },
     "execution_count": 3,
     "metadata": {},
     "output_type": "execute_result"
    }
   ],
   "source": [
    "abc"
   ]
  },
  {
   "cell_type": "code",
   "execution_count": 4,
   "id": "76af9585-90c1-4913-a570-d39bcf4a58d1",
   "metadata": {},
   "outputs": [],
   "source": [
    "R = \"r\" # valide"
   ]
  },
  {
   "cell_type": "code",
   "execution_count": 5,
   "id": "b897ac14-7182-4c04-8357-8977242f8674",
   "metadata": {},
   "outputs": [
    {
     "data": {
      "text/plain": [
       "'r'"
      ]
     },
     "execution_count": 5,
     "metadata": {},
     "output_type": "execute_result"
    }
   ],
   "source": [
    "R"
   ]
  },
  {
   "cell_type": "code",
   "execution_count": 8,
   "id": "a8c9b3c5-ec94-4976-bf4b-4d776fcdeb95",
   "metadata": {},
   "outputs": [],
   "source": [
    "_ab = \"sona\" #valide"
   ]
  },
  {
   "cell_type": "code",
   "execution_count": 9,
   "id": "5fa93ea6-0f1f-42ea-b3ea-6fb969192091",
   "metadata": {},
   "outputs": [
    {
     "data": {
      "text/plain": [
       "'sona'"
      ]
     },
     "execution_count": 9,
     "metadata": {},
     "output_type": "execute_result"
    }
   ],
   "source": [
    "_ab"
   ]
  },
  {
   "cell_type": "code",
   "execution_count": 6,
   "id": "490ae2bd-e897-4e17-a327-8d0ea7c48daa",
   "metadata": {},
   "outputs": [
    {
     "ename": "SyntaxError",
     "evalue": "invalid syntax. Maybe you meant '==' or ':=' instead of '='? (3337074916.py, line 1)",
     "output_type": "error",
     "traceback": [
      "\u001b[0;36m  Cell \u001b[0;32mIn[6], line 1\u001b[0;36m\u001b[0m\n\u001b[0;31m    @ab = \"1k\"\u001b[0m\n\u001b[0m     ^\u001b[0m\n\u001b[0;31mSyntaxError\u001b[0m\u001b[0;31m:\u001b[0m invalid syntax. Maybe you meant '==' or ':=' instead of '='?\n"
     ]
    }
   ],
   "source": [
    "@ab = \"1k\" # invalide"
   ]
  },
  {
   "cell_type": "code",
   "execution_count": 7,
   "id": "9a62ac88-2fba-4e39-836d-ba37669d9854",
   "metadata": {},
   "outputs": [
    {
     "ename": "SyntaxError",
     "evalue": "invalid decimal literal (4012580945.py, line 1)",
     "output_type": "error",
     "traceback": [
      "\u001b[0;36m  Cell \u001b[0;32mIn[7], line 1\u001b[0;36m\u001b[0m\n\u001b[0;31m    1A= \"soma\"\u001b[0m\n\u001b[0m    ^\u001b[0m\n\u001b[0;31mSyntaxError\u001b[0m\u001b[0;31m:\u001b[0m invalid decimal literal\n"
     ]
    }
   ],
   "source": [
    "1A= \"soma\" #invalide"
   ]
  },
  {
   "cell_type": "code",
   "execution_count": null,
   "id": "2f40286a-b74a-43f3-9a8c-e9e4fd4ed823",
   "metadata": {},
   "outputs": [],
   "source": [
    "# que 3"
   ]
  },
  {
   "cell_type": "code",
   "execution_count": null,
   "id": "b9c34cf5-6c67-4e98-b794-21ab623333ff",
   "metadata": {},
   "outputs": [],
   "source": [
    "# In Python, naming rules for identifiers require them to begin with a letter or underscore, followed by letters, underscores, or digits.\n",
    "#Additionally, it's essential to avoid using reserved words as identifiers. \n",
    "#Identifiers must possess uniqueness and convey meaning, contributing to code clarity and understanding"
   ]
  },
  {
   "cell_type": "code",
   "execution_count": 1,
   "id": "1d2228b6-874c-4794-87ab-b146780f4f96",
   "metadata": {},
   "outputs": [
    {
     "name": "stdout",
     "output_type": "stream",
     "text": [
      "hello world\n"
     ]
    }
   ],
   "source": [
    "print(\"hello world\")"
   ]
  },
  {
   "cell_type": "code",
   "execution_count": null,
   "id": "701cf69d-01b5-42b9-b5a3-39c4ae99c85b",
   "metadata": {},
   "outputs": [],
   "source": [
    "# que 4"
   ]
  },
  {
   "cell_type": "code",
   "execution_count": null,
   "id": "d421fef1-03a6-452a-ac57-cd1c4566501a",
   "metadata": {},
   "outputs": [],
   "source": [
    "# The primary purpose of indentation in Python is to define the scope of statements, such as those within loops, conditionals, functions, and classes. \n",
    "#Consistent and proper indentation is crucial for the interpreter to understand the logical structure of the code."
   ]
  },
  {
   "cell_type": "code",
   "execution_count": null,
   "id": "d6a598ed-897c-4ac8-a5c6-ab83978221b9",
   "metadata": {},
   "outputs": [],
   "source": [
    "# que 5"
   ]
  },
  {
   "cell_type": "code",
   "execution_count": null,
   "id": "20479ed7-68dc-4515-a490-420fbebd6794",
   "metadata": {},
   "outputs": [],
   "source": [
    "#An Indentation error is a compile-time error that occurs when tabs or spaces in a code do not follow expected patterns. \n",
    "#This is typically a syntax error. Indentation Error is a very common error in Python.\n",
    "#Because Python is an interpreted language, its interpreter reads the code line by line."
   ]
  },
  {
   "cell_type": "code",
   "execution_count": 10,
   "id": "0ec6732c-1a95-475c-8d59-34d9e6280bdb",
   "metadata": {},
   "outputs": [
    {
     "ename": "SyntaxError",
     "evalue": "invalid syntax. Maybe you meant '==' or ':=' instead of '='? (1714562949.py, line 1)",
     "output_type": "error",
     "traceback": [
      "\u001b[0;36m  Cell \u001b[0;32mIn[10], line 1\u001b[0;36m\u001b[0m\n\u001b[0;31m    @g = \"asd\"\u001b[0m\n\u001b[0m     ^\u001b[0m\n\u001b[0;31mSyntaxError\u001b[0m\u001b[0;31m:\u001b[0m invalid syntax. Maybe you meant '==' or ':=' instead of '='?\n"
     ]
    }
   ],
   "source": [
    "@g = \"asd\""
   ]
  },
  {
   "cell_type": "code",
   "execution_count": 11,
   "id": "4544c6d5-41fa-4dd6-bef4-55fd93a5c38a",
   "metadata": {},
   "outputs": [
    {
     "ename": "SyntaxError",
     "evalue": "cannot assign to literal here. Maybe you meant '==' instead of '='? (377355732.py, line 1)",
     "output_type": "error",
     "traceback": [
      "\u001b[0;36m  Cell \u001b[0;32mIn[11], line 1\u001b[0;36m\u001b[0m\n\u001b[0;31m    123 = \"gold\"\u001b[0m\n\u001b[0m    ^\u001b[0m\n\u001b[0;31mSyntaxError\u001b[0m\u001b[0;31m:\u001b[0m cannot assign to literal here. Maybe you meant '==' instead of '='?\n"
     ]
    }
   ],
   "source": [
    "123 = \"gold\""
   ]
  },
  {
   "cell_type": "code",
   "execution_count": 12,
   "id": "6ad17025-2535-46b1-9943-c497436d44d8",
   "metadata": {},
   "outputs": [],
   "source": [
    "# que 6"
   ]
  },
  {
   "cell_type": "code",
   "execution_count": 13,
   "id": "8bc89d2d-430c-4483-b3c8-ba7530749b74",
   "metadata": {},
   "outputs": [],
   "source": [
    "#statement =\n",
    "#Any instruction written in the source code and executed by the Python interpreter is called a statement. \n",
    "#The Python language has many different types of statements like assignment statements, conditional statements, looping statements, etc., \n",
    "#that help a programmer get the desired output.\n",
    "\n",
    "\n",
    "#Exprssion = \n",
    "#In Python, an expression is a combination of values, variables, and operators that evaluates to a single value. \n",
    "#Expression in python can be used in a variety of ways, such as in assignment statements, function arguments, and conditional statements.\n",
    "\n",
    "\n",
    "#Examle =\n",
    "#Let's look at some code as an example: const price = 20; \n",
    "#Judging from the code above, const , price , = , and 20 \n",
    "#are expressions because each of them has a definite and unique meaning or value. \n",
    "#But if we take all of them together const price = 20 - then we have a statement.\n"
   ]
  }
 ],
 "metadata": {
  "kernelspec": {
   "display_name": "Python 3 (ipykernel)",
   "language": "python",
   "name": "python3"
  },
  "language_info": {
   "codemirror_mode": {
    "name": "ipython",
    "version": 3
   },
   "file_extension": ".py",
   "mimetype": "text/x-python",
   "name": "python",
   "nbconvert_exporter": "python",
   "pygments_lexer": "ipython3",
   "version": "3.10.8"
  }
 },
 "nbformat": 4,
 "nbformat_minor": 5
}
